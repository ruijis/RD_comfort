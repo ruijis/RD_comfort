{
 "cells": [
  {
   "cell_type": "code",
   "execution_count": 617,
   "metadata": {},
   "outputs": [],
   "source": [
    "import pandas as pd\n",
    "import numpy as np\n",
    "import matplotlib.pyplot as plt\n",
    "import statsmodels.formula.api as smf\n",
    "import pythermalcomfort.models as pm\n",
    "import pythermalcomfort.psychrometrics as pp"
   ]
  },
  {
   "cell_type": "markdown",
   "metadata": {},
   "source": [
    "## Data import"
   ]
  },
  {
   "cell_type": "code",
   "execution_count": 618,
   "metadata": {},
   "outputs": [
    {
     "name": "stdout",
     "output_type": "stream",
     "text": [
      "Index(['suject_id', 'timestamp', 'season', 'city', 'climate', 'building_type',\n",
      "       'heating_type', 'gender', 'age', 'ht', 'wt', 'thermal_sensation',\n",
      "       'thermal_comfort', 'thermal_acceptability', 'clo', 'met', 'ta', 'rh',\n",
      "       'vel', 'tg', 'top', 'tr', 't_out_min', 't_out_monthly', 'latitude',\n",
      "       'age_group'],\n",
      "      dtype='object')\n"
     ]
    }
   ],
   "source": [
    "df = pd.read_csv('CN_DB.csv')\n",
    "print(df.columns)"
   ]
  },
  {
   "cell_type": "code",
   "execution_count": 619,
   "metadata": {},
   "outputs": [
    {
     "data": {
      "text/html": [
       "<div>\n",
       "<style scoped>\n",
       "    .dataframe tbody tr th:only-of-type {\n",
       "        vertical-align: middle;\n",
       "    }\n",
       "\n",
       "    .dataframe tbody tr th {\n",
       "        vertical-align: top;\n",
       "    }\n",
       "\n",
       "    .dataframe thead th {\n",
       "        text-align: right;\n",
       "    }\n",
       "</style>\n",
       "<table border=\"1\" class=\"dataframe\">\n",
       "  <thead>\n",
       "    <tr style=\"text-align: right;\">\n",
       "      <th></th>\n",
       "      <th>city</th>\n",
       "      <th>records</th>\n",
       "      <th>top</th>\n",
       "      <th>top_std</th>\n",
       "      <th>rh</th>\n",
       "      <th>rh_std</th>\n",
       "      <th>twb</th>\n",
       "      <th>vel</th>\n",
       "      <th>met</th>\n",
       "      <th>clo</th>\n",
       "      <th>...</th>\n",
       "      <th>tsv</th>\n",
       "      <th>tsv_std</th>\n",
       "      <th>tcv</th>\n",
       "      <th>tcv_std</th>\n",
       "      <th>tav</th>\n",
       "      <th>t_out</th>\n",
       "      <th>latitude</th>\n",
       "      <th>tsr</th>\n",
       "      <th>tn_op</th>\n",
       "      <th>p_dh</th>\n",
       "    </tr>\n",
       "  </thead>\n",
       "  <tbody>\n",
       "    <tr>\n",
       "      <th>0</th>\n",
       "      <td>HainanSanya</td>\n",
       "      <td>5</td>\n",
       "      <td>24.88</td>\n",
       "      <td>1.24</td>\n",
       "      <td>70.20</td>\n",
       "      <td>4.82</td>\n",
       "      <td>20.84</td>\n",
       "      <td>0.00</td>\n",
       "      <td>0.98</td>\n",
       "      <td>0.33</td>\n",
       "      <td>...</td>\n",
       "      <td>0.60</td>\n",
       "      <td>0.89</td>\n",
       "      <td>1.60</td>\n",
       "      <td>0.89</td>\n",
       "      <td>0.42</td>\n",
       "      <td>NaN</td>\n",
       "      <td>18.25</td>\n",
       "      <td>0.80</td>\n",
       "      <td>23.38</td>\n",
       "      <td>0.00</td>\n",
       "    </tr>\n",
       "    <tr>\n",
       "      <th>1</th>\n",
       "      <td>GuangdongGuangzhou</td>\n",
       "      <td>997</td>\n",
       "      <td>23.88</td>\n",
       "      <td>1.08</td>\n",
       "      <td>52.94</td>\n",
       "      <td>9.58</td>\n",
       "      <td>17.40</td>\n",
       "      <td>0.10</td>\n",
       "      <td>1.00</td>\n",
       "      <td>0.86</td>\n",
       "      <td>...</td>\n",
       "      <td>-0.01</td>\n",
       "      <td>0.89</td>\n",
       "      <td>1.38</td>\n",
       "      <td>0.55</td>\n",
       "      <td>0.46</td>\n",
       "      <td>16.71</td>\n",
       "      <td>23.13</td>\n",
       "      <td>0.90</td>\n",
       "      <td>23.91</td>\n",
       "      <td>0.00</td>\n",
       "    </tr>\n",
       "    <tr>\n",
       "      <th>2</th>\n",
       "      <td>YunnanKunming</td>\n",
       "      <td>415</td>\n",
       "      <td>13.62</td>\n",
       "      <td>3.12</td>\n",
       "      <td>16.95</td>\n",
       "      <td>13.78</td>\n",
       "      <td>4.41</td>\n",
       "      <td>0.28</td>\n",
       "      <td>1.08</td>\n",
       "      <td>0.65</td>\n",
       "      <td>...</td>\n",
       "      <td>-1.15</td>\n",
       "      <td>1.11</td>\n",
       "      <td>1.42</td>\n",
       "      <td>0.80</td>\n",
       "      <td>0.69</td>\n",
       "      <td>NaN</td>\n",
       "      <td>24.87</td>\n",
       "      <td>0.66</td>\n",
       "      <td>16.50</td>\n",
       "      <td>0.00</td>\n",
       "    </tr>\n",
       "    <tr>\n",
       "      <th>3</th>\n",
       "      <td>FujianFuzhou</td>\n",
       "      <td>7</td>\n",
       "      <td>18.10</td>\n",
       "      <td>1.53</td>\n",
       "      <td>67.43</td>\n",
       "      <td>5.80</td>\n",
       "      <td>14.23</td>\n",
       "      <td>0.00</td>\n",
       "      <td>0.89</td>\n",
       "      <td>0.35</td>\n",
       "      <td>...</td>\n",
       "      <td>-0.71</td>\n",
       "      <td>0.76</td>\n",
       "      <td>1.57</td>\n",
       "      <td>0.53</td>\n",
       "      <td>0.33</td>\n",
       "      <td>NaN</td>\n",
       "      <td>26.08</td>\n",
       "      <td>0.86</td>\n",
       "      <td>19.89</td>\n",
       "      <td>0.00</td>\n",
       "    </tr>\n",
       "    <tr>\n",
       "      <th>4</th>\n",
       "      <td>FujianZhenjiang</td>\n",
       "      <td>2</td>\n",
       "      <td>22.90</td>\n",
       "      <td>2.26</td>\n",
       "      <td>74.50</td>\n",
       "      <td>0.71</td>\n",
       "      <td>19.55</td>\n",
       "      <td>0.00</td>\n",
       "      <td>0.90</td>\n",
       "      <td>0.31</td>\n",
       "      <td>...</td>\n",
       "      <td>-0.50</td>\n",
       "      <td>2.12</td>\n",
       "      <td>1.50</td>\n",
       "      <td>0.71</td>\n",
       "      <td>0.55</td>\n",
       "      <td>NaN</td>\n",
       "      <td>26.10</td>\n",
       "      <td>0.50</td>\n",
       "      <td>24.15</td>\n",
       "      <td>0.00</td>\n",
       "    </tr>\n",
       "    <tr>\n",
       "      <th>5</th>\n",
       "      <td>FujianNanping</td>\n",
       "      <td>4</td>\n",
       "      <td>17.90</td>\n",
       "      <td>1.24</td>\n",
       "      <td>60.25</td>\n",
       "      <td>10.21</td>\n",
       "      <td>13.15</td>\n",
       "      <td>0.00</td>\n",
       "      <td>0.88</td>\n",
       "      <td>0.42</td>\n",
       "      <td>...</td>\n",
       "      <td>0.00</td>\n",
       "      <td>0.00</td>\n",
       "      <td>1.00</td>\n",
       "      <td>0.00</td>\n",
       "      <td>0.32</td>\n",
       "      <td>NaN</td>\n",
       "      <td>26.64</td>\n",
       "      <td>1.00</td>\n",
       "      <td>17.90</td>\n",
       "      <td>0.00</td>\n",
       "    </tr>\n",
       "    <tr>\n",
       "      <th>6</th>\n",
       "      <td>HunanHengyang</td>\n",
       "      <td>1</td>\n",
       "      <td>16.90</td>\n",
       "      <td>NaN</td>\n",
       "      <td>66.00</td>\n",
       "      <td>NaN</td>\n",
       "      <td>12.90</td>\n",
       "      <td>0.00</td>\n",
       "      <td>0.90</td>\n",
       "      <td>0.66</td>\n",
       "      <td>...</td>\n",
       "      <td>-1.00</td>\n",
       "      <td>NaN</td>\n",
       "      <td>2.00</td>\n",
       "      <td>NaN</td>\n",
       "      <td>-0.10</td>\n",
       "      <td>NaN</td>\n",
       "      <td>26.89</td>\n",
       "      <td>1.00</td>\n",
       "      <td>19.40</td>\n",
       "      <td>0.00</td>\n",
       "    </tr>\n",
       "    <tr>\n",
       "      <th>7</th>\n",
       "      <td>HunanChangsha</td>\n",
       "      <td>1108</td>\n",
       "      <td>17.41</td>\n",
       "      <td>3.07</td>\n",
       "      <td>48.35</td>\n",
       "      <td>12.03</td>\n",
       "      <td>11.00</td>\n",
       "      <td>0.03</td>\n",
       "      <td>1.02</td>\n",
       "      <td>0.95</td>\n",
       "      <td>...</td>\n",
       "      <td>-0.40</td>\n",
       "      <td>0.75</td>\n",
       "      <td>2.82</td>\n",
       "      <td>0.69</td>\n",
       "      <td>0.41</td>\n",
       "      <td>NaN</td>\n",
       "      <td>28.23</td>\n",
       "      <td>0.89</td>\n",
       "      <td>18.40</td>\n",
       "      <td>0.00</td>\n",
       "    </tr>\n",
       "    <tr>\n",
       "      <th>8</th>\n",
       "      <td>SichuanZigong</td>\n",
       "      <td>23</td>\n",
       "      <td>11.03</td>\n",
       "      <td>1.30</td>\n",
       "      <td>66.52</td>\n",
       "      <td>6.75</td>\n",
       "      <td>7.56</td>\n",
       "      <td>0.00</td>\n",
       "      <td>1.00</td>\n",
       "      <td>1.59</td>\n",
       "      <td>...</td>\n",
       "      <td>-0.22</td>\n",
       "      <td>1.17</td>\n",
       "      <td>1.61</td>\n",
       "      <td>0.72</td>\n",
       "      <td>0.64</td>\n",
       "      <td>NaN</td>\n",
       "      <td>29.34</td>\n",
       "      <td>0.78</td>\n",
       "      <td>11.57</td>\n",
       "      <td>0.00</td>\n",
       "    </tr>\n",
       "    <tr>\n",
       "      <th>9</th>\n",
       "      <td>Lhasa</td>\n",
       "      <td>355</td>\n",
       "      <td>10.64</td>\n",
       "      <td>4.03</td>\n",
       "      <td>71.19</td>\n",
       "      <td>20.88</td>\n",
       "      <td>7.66</td>\n",
       "      <td>0.02</td>\n",
       "      <td>1.10</td>\n",
       "      <td>1.25</td>\n",
       "      <td>...</td>\n",
       "      <td>-1.10</td>\n",
       "      <td>1.13</td>\n",
       "      <td>NaN</td>\n",
       "      <td>NaN</td>\n",
       "      <td>NaN</td>\n",
       "      <td>NaN</td>\n",
       "      <td>29.65</td>\n",
       "      <td>0.64</td>\n",
       "      <td>13.38</td>\n",
       "      <td>0.01</td>\n",
       "    </tr>\n",
       "    <tr>\n",
       "      <th>10</th>\n",
       "      <td>HubeiWuhan</td>\n",
       "      <td>526</td>\n",
       "      <td>12.91</td>\n",
       "      <td>3.92</td>\n",
       "      <td>47.98</td>\n",
       "      <td>12.98</td>\n",
       "      <td>7.07</td>\n",
       "      <td>0.09</td>\n",
       "      <td>1.07</td>\n",
       "      <td>1.88</td>\n",
       "      <td>...</td>\n",
       "      <td>-1.55</td>\n",
       "      <td>1.40</td>\n",
       "      <td>1.63</td>\n",
       "      <td>0.69</td>\n",
       "      <td>0.09</td>\n",
       "      <td>4.64</td>\n",
       "      <td>30.58</td>\n",
       "      <td>0.49</td>\n",
       "      <td>16.79</td>\n",
       "      <td>0.00</td>\n",
       "    </tr>\n",
       "    <tr>\n",
       "      <th>11</th>\n",
       "      <td>Shanghai</td>\n",
       "      <td>2131</td>\n",
       "      <td>20.84</td>\n",
       "      <td>4.49</td>\n",
       "      <td>52.26</td>\n",
       "      <td>12.97</td>\n",
       "      <td>14.30</td>\n",
       "      <td>0.03</td>\n",
       "      <td>1.10</td>\n",
       "      <td>0.88</td>\n",
       "      <td>...</td>\n",
       "      <td>-0.05</td>\n",
       "      <td>0.84</td>\n",
       "      <td>1.41</td>\n",
       "      <td>0.59</td>\n",
       "      <td>0.35</td>\n",
       "      <td>7.41</td>\n",
       "      <td>31.23</td>\n",
       "      <td>0.92</td>\n",
       "      <td>20.97</td>\n",
       "      <td>0.00</td>\n",
       "    </tr>\n",
       "    <tr>\n",
       "      <th>12</th>\n",
       "      <td>JiangsuChangzhou</td>\n",
       "      <td>144</td>\n",
       "      <td>20.51</td>\n",
       "      <td>1.45</td>\n",
       "      <td>41.18</td>\n",
       "      <td>4.92</td>\n",
       "      <td>13.60</td>\n",
       "      <td>0.01</td>\n",
       "      <td>1.02</td>\n",
       "      <td>1.15</td>\n",
       "      <td>...</td>\n",
       "      <td>0.35</td>\n",
       "      <td>0.83</td>\n",
       "      <td>1.19</td>\n",
       "      <td>0.43</td>\n",
       "      <td>0.81</td>\n",
       "      <td>6.40</td>\n",
       "      <td>31.78</td>\n",
       "      <td>0.88</td>\n",
       "      <td>19.65</td>\n",
       "      <td>0.00</td>\n",
       "    </tr>\n",
       "    <tr>\n",
       "      <th>13</th>\n",
       "      <td>HenanNanyang</td>\n",
       "      <td>251</td>\n",
       "      <td>12.22</td>\n",
       "      <td>4.04</td>\n",
       "      <td>66.37</td>\n",
       "      <td>13.40</td>\n",
       "      <td>8.60</td>\n",
       "      <td>0.00</td>\n",
       "      <td>1.00</td>\n",
       "      <td>1.31</td>\n",
       "      <td>...</td>\n",
       "      <td>-0.41</td>\n",
       "      <td>1.23</td>\n",
       "      <td>NaN</td>\n",
       "      <td>NaN</td>\n",
       "      <td>NaN</td>\n",
       "      <td>NaN</td>\n",
       "      <td>32.99</td>\n",
       "      <td>0.71</td>\n",
       "      <td>13.24</td>\n",
       "      <td>0.00</td>\n",
       "    </tr>\n",
       "    <tr>\n",
       "      <th>14</th>\n",
       "      <td>HenanPingdingshan</td>\n",
       "      <td>5</td>\n",
       "      <td>17.56</td>\n",
       "      <td>2.08</td>\n",
       "      <td>57.80</td>\n",
       "      <td>7.85</td>\n",
       "      <td>12.52</td>\n",
       "      <td>0.00</td>\n",
       "      <td>0.94</td>\n",
       "      <td>0.79</td>\n",
       "      <td>...</td>\n",
       "      <td>-0.80</td>\n",
       "      <td>0.45</td>\n",
       "      <td>1.80</td>\n",
       "      <td>0.45</td>\n",
       "      <td>0.24</td>\n",
       "      <td>NaN</td>\n",
       "      <td>33.74</td>\n",
       "      <td>1.00</td>\n",
       "      <td>19.56</td>\n",
       "      <td>0.20</td>\n",
       "    </tr>\n",
       "    <tr>\n",
       "      <th>15</th>\n",
       "      <td>ShaanxiXi'an</td>\n",
       "      <td>1686</td>\n",
       "      <td>23.04</td>\n",
       "      <td>3.04</td>\n",
       "      <td>21.92</td>\n",
       "      <td>16.44</td>\n",
       "      <td>11.13</td>\n",
       "      <td>0.04</td>\n",
       "      <td>1.14</td>\n",
       "      <td>0.73</td>\n",
       "      <td>...</td>\n",
       "      <td>0.52</td>\n",
       "      <td>1.01</td>\n",
       "      <td>1.65</td>\n",
       "      <td>0.76</td>\n",
       "      <td>0.16</td>\n",
       "      <td>2.82</td>\n",
       "      <td>34.26</td>\n",
       "      <td>0.76</td>\n",
       "      <td>21.73</td>\n",
       "      <td>0.70</td>\n",
       "    </tr>\n",
       "    <tr>\n",
       "      <th>16</th>\n",
       "      <td>HenanLuoyang</td>\n",
       "      <td>45</td>\n",
       "      <td>19.04</td>\n",
       "      <td>2.73</td>\n",
       "      <td>30.62</td>\n",
       "      <td>4.58</td>\n",
       "      <td>10.99</td>\n",
       "      <td>0.00</td>\n",
       "      <td>1.00</td>\n",
       "      <td>1.05</td>\n",
       "      <td>...</td>\n",
       "      <td>-0.18</td>\n",
       "      <td>1.01</td>\n",
       "      <td>1.47</td>\n",
       "      <td>0.79</td>\n",
       "      <td>0.58</td>\n",
       "      <td>5.80</td>\n",
       "      <td>34.62</td>\n",
       "      <td>0.93</td>\n",
       "      <td>19.48</td>\n",
       "      <td>0.00</td>\n",
       "    </tr>\n",
       "    <tr>\n",
       "      <th>17</th>\n",
       "      <td>HenanZhengzhou</td>\n",
       "      <td>96</td>\n",
       "      <td>22.30</td>\n",
       "      <td>3.80</td>\n",
       "      <td>28.90</td>\n",
       "      <td>6.10</td>\n",
       "      <td>13.11</td>\n",
       "      <td>0.00</td>\n",
       "      <td>1.01</td>\n",
       "      <td>1.19</td>\n",
       "      <td>...</td>\n",
       "      <td>0.66</td>\n",
       "      <td>1.26</td>\n",
       "      <td>1.50</td>\n",
       "      <td>0.70</td>\n",
       "      <td>0.58</td>\n",
       "      <td>5.80</td>\n",
       "      <td>34.75</td>\n",
       "      <td>0.67</td>\n",
       "      <td>20.66</td>\n",
       "      <td>0.04</td>\n",
       "    </tr>\n",
       "    <tr>\n",
       "      <th>18</th>\n",
       "      <td>HenanKaifeng</td>\n",
       "      <td>1</td>\n",
       "      <td>13.00</td>\n",
       "      <td>NaN</td>\n",
       "      <td>50.00</td>\n",
       "      <td>NaN</td>\n",
       "      <td>7.70</td>\n",
       "      <td>0.00</td>\n",
       "      <td>0.80</td>\n",
       "      <td>0.42</td>\n",
       "      <td>...</td>\n",
       "      <td>0.00</td>\n",
       "      <td>NaN</td>\n",
       "      <td>1.00</td>\n",
       "      <td>NaN</td>\n",
       "      <td>1.00</td>\n",
       "      <td>NaN</td>\n",
       "      <td>34.79</td>\n",
       "      <td>1.00</td>\n",
       "      <td>13.00</td>\n",
       "      <td>0.00</td>\n",
       "    </tr>\n",
       "    <tr>\n",
       "      <th>19</th>\n",
       "      <td>HenanJiaozuo</td>\n",
       "      <td>888</td>\n",
       "      <td>16.80</td>\n",
       "      <td>4.11</td>\n",
       "      <td>49.04</td>\n",
       "      <td>13.46</td>\n",
       "      <td>10.67</td>\n",
       "      <td>0.02</td>\n",
       "      <td>1.10</td>\n",
       "      <td>1.19</td>\n",
       "      <td>...</td>\n",
       "      <td>-0.26</td>\n",
       "      <td>0.61</td>\n",
       "      <td>1.39</td>\n",
       "      <td>0.51</td>\n",
       "      <td>NaN</td>\n",
       "      <td>NaN</td>\n",
       "      <td>35.24</td>\n",
       "      <td>0.98</td>\n",
       "      <td>17.44</td>\n",
       "      <td>1.00</td>\n",
       "    </tr>\n",
       "    <tr>\n",
       "      <th>20</th>\n",
       "      <td>ShandongXintai</td>\n",
       "      <td>3</td>\n",
       "      <td>22.83</td>\n",
       "      <td>0.60</td>\n",
       "      <td>31.00</td>\n",
       "      <td>9.54</td>\n",
       "      <td>13.03</td>\n",
       "      <td>0.00</td>\n",
       "      <td>0.90</td>\n",
       "      <td>0.69</td>\n",
       "      <td>...</td>\n",
       "      <td>0.33</td>\n",
       "      <td>0.58</td>\n",
       "      <td>1.00</td>\n",
       "      <td>0.00</td>\n",
       "      <td>1.00</td>\n",
       "      <td>NaN</td>\n",
       "      <td>35.90</td>\n",
       "      <td>1.00</td>\n",
       "      <td>22.00</td>\n",
       "      <td>1.00</td>\n",
       "    </tr>\n",
       "    <tr>\n",
       "      <th>21</th>\n",
       "      <td>ShandongQingdao</td>\n",
       "      <td>1</td>\n",
       "      <td>23.00</td>\n",
       "      <td>NaN</td>\n",
       "      <td>27.00</td>\n",
       "      <td>NaN</td>\n",
       "      <td>12.50</td>\n",
       "      <td>0.00</td>\n",
       "      <td>1.00</td>\n",
       "      <td>0.50</td>\n",
       "      <td>...</td>\n",
       "      <td>1.00</td>\n",
       "      <td>NaN</td>\n",
       "      <td>1.00</td>\n",
       "      <td>NaN</td>\n",
       "      <td>1.00</td>\n",
       "      <td>NaN</td>\n",
       "      <td>36.07</td>\n",
       "      <td>1.00</td>\n",
       "      <td>20.50</td>\n",
       "      <td>1.00</td>\n",
       "    </tr>\n",
       "    <tr>\n",
       "      <th>22</th>\n",
       "      <td>HebeiHandan</td>\n",
       "      <td>26</td>\n",
       "      <td>19.30</td>\n",
       "      <td>3.43</td>\n",
       "      <td>35.81</td>\n",
       "      <td>7.55</td>\n",
       "      <td>11.24</td>\n",
       "      <td>0.00</td>\n",
       "      <td>0.98</td>\n",
       "      <td>1.45</td>\n",
       "      <td>...</td>\n",
       "      <td>-0.38</td>\n",
       "      <td>0.64</td>\n",
       "      <td>1.19</td>\n",
       "      <td>0.40</td>\n",
       "      <td>0.85</td>\n",
       "      <td>3.18</td>\n",
       "      <td>36.62</td>\n",
       "      <td>0.92</td>\n",
       "      <td>20.26</td>\n",
       "      <td>1.00</td>\n",
       "    </tr>\n",
       "    <tr>\n",
       "      <th>23</th>\n",
       "      <td>ShanxiLvliangfenyang</td>\n",
       "      <td>9</td>\n",
       "      <td>21.13</td>\n",
       "      <td>1.22</td>\n",
       "      <td>40.56</td>\n",
       "      <td>3.24</td>\n",
       "      <td>13.30</td>\n",
       "      <td>0.00</td>\n",
       "      <td>0.97</td>\n",
       "      <td>0.41</td>\n",
       "      <td>...</td>\n",
       "      <td>-0.22</td>\n",
       "      <td>0.67</td>\n",
       "      <td>1.22</td>\n",
       "      <td>0.44</td>\n",
       "      <td>0.66</td>\n",
       "      <td>NaN</td>\n",
       "      <td>37.51</td>\n",
       "      <td>1.00</td>\n",
       "      <td>21.69</td>\n",
       "      <td>1.00</td>\n",
       "    </tr>\n",
       "    <tr>\n",
       "      <th>24</th>\n",
       "      <td>ShandongYantai</td>\n",
       "      <td>7</td>\n",
       "      <td>25.67</td>\n",
       "      <td>1.99</td>\n",
       "      <td>34.00</td>\n",
       "      <td>8.93</td>\n",
       "      <td>15.74</td>\n",
       "      <td>0.00</td>\n",
       "      <td>1.10</td>\n",
       "      <td>0.80</td>\n",
       "      <td>...</td>\n",
       "      <td>0.86</td>\n",
       "      <td>0.90</td>\n",
       "      <td>1.43</td>\n",
       "      <td>0.53</td>\n",
       "      <td>0.74</td>\n",
       "      <td>NaN</td>\n",
       "      <td>37.53</td>\n",
       "      <td>0.71</td>\n",
       "      <td>23.53</td>\n",
       "      <td>0.86</td>\n",
       "    </tr>\n",
       "    <tr>\n",
       "      <th>25</th>\n",
       "      <td>LiaoningDalian</td>\n",
       "      <td>1703</td>\n",
       "      <td>22.46</td>\n",
       "      <td>2.27</td>\n",
       "      <td>36.87</td>\n",
       "      <td>10.76</td>\n",
       "      <td>13.71</td>\n",
       "      <td>0.00</td>\n",
       "      <td>0.99</td>\n",
       "      <td>0.98</td>\n",
       "      <td>...</td>\n",
       "      <td>0.29</td>\n",
       "      <td>0.98</td>\n",
       "      <td>1.38</td>\n",
       "      <td>0.57</td>\n",
       "      <td>0.62</td>\n",
       "      <td>0.83</td>\n",
       "      <td>38.92</td>\n",
       "      <td>0.85</td>\n",
       "      <td>21.72</td>\n",
       "      <td>0.80</td>\n",
       "    </tr>\n",
       "    <tr>\n",
       "      <th>26</th>\n",
       "      <td>Tianjin</td>\n",
       "      <td>730</td>\n",
       "      <td>24.50</td>\n",
       "      <td>1.90</td>\n",
       "      <td>27.41</td>\n",
       "      <td>6.71</td>\n",
       "      <td>13.70</td>\n",
       "      <td>0.02</td>\n",
       "      <td>1.16</td>\n",
       "      <td>0.81</td>\n",
       "      <td>...</td>\n",
       "      <td>0.22</td>\n",
       "      <td>0.74</td>\n",
       "      <td>1.45</td>\n",
       "      <td>0.62</td>\n",
       "      <td>0.22</td>\n",
       "      <td>1.80</td>\n",
       "      <td>39.12</td>\n",
       "      <td>0.95</td>\n",
       "      <td>23.94</td>\n",
       "      <td>0.98</td>\n",
       "    </tr>\n",
       "    <tr>\n",
       "      <th>27</th>\n",
       "      <td>Beijing</td>\n",
       "      <td>651</td>\n",
       "      <td>22.07</td>\n",
       "      <td>2.97</td>\n",
       "      <td>28.61</td>\n",
       "      <td>11.76</td>\n",
       "      <td>12.57</td>\n",
       "      <td>0.07</td>\n",
       "      <td>1.06</td>\n",
       "      <td>0.92</td>\n",
       "      <td>...</td>\n",
       "      <td>-0.03</td>\n",
       "      <td>0.92</td>\n",
       "      <td>1.57</td>\n",
       "      <td>0.63</td>\n",
       "      <td>0.32</td>\n",
       "      <td>5.81</td>\n",
       "      <td>39.90</td>\n",
       "      <td>0.86</td>\n",
       "      <td>22.14</td>\n",
       "      <td>0.76</td>\n",
       "    </tr>\n",
       "    <tr>\n",
       "      <th>28</th>\n",
       "      <td>Baotou</td>\n",
       "      <td>303</td>\n",
       "      <td>19.28</td>\n",
       "      <td>3.66</td>\n",
       "      <td>36.36</td>\n",
       "      <td>14.97</td>\n",
       "      <td>11.44</td>\n",
       "      <td>0.05</td>\n",
       "      <td>1.07</td>\n",
       "      <td>0.34</td>\n",
       "      <td>...</td>\n",
       "      <td>0.02</td>\n",
       "      <td>0.92</td>\n",
       "      <td>1.47</td>\n",
       "      <td>0.61</td>\n",
       "      <td>0.35</td>\n",
       "      <td>-8.60</td>\n",
       "      <td>40.65</td>\n",
       "      <td>0.90</td>\n",
       "      <td>19.24</td>\n",
       "      <td>1.00</td>\n",
       "    </tr>\n",
       "    <tr>\n",
       "      <th>29</th>\n",
       "      <td>Hohhot</td>\n",
       "      <td>12</td>\n",
       "      <td>20.73</td>\n",
       "      <td>0.63</td>\n",
       "      <td>36.83</td>\n",
       "      <td>1.70</td>\n",
       "      <td>12.44</td>\n",
       "      <td>0.00</td>\n",
       "      <td>0.96</td>\n",
       "      <td>0.51</td>\n",
       "      <td>...</td>\n",
       "      <td>-0.33</td>\n",
       "      <td>0.49</td>\n",
       "      <td>1.25</td>\n",
       "      <td>0.45</td>\n",
       "      <td>0.46</td>\n",
       "      <td>NaN</td>\n",
       "      <td>40.82</td>\n",
       "      <td>1.00</td>\n",
       "      <td>21.57</td>\n",
       "      <td>1.00</td>\n",
       "    </tr>\n",
       "    <tr>\n",
       "      <th>30</th>\n",
       "      <td>LiaoningBenxi</td>\n",
       "      <td>22</td>\n",
       "      <td>19.74</td>\n",
       "      <td>2.60</td>\n",
       "      <td>41.09</td>\n",
       "      <td>13.80</td>\n",
       "      <td>12.15</td>\n",
       "      <td>0.00</td>\n",
       "      <td>0.96</td>\n",
       "      <td>1.04</td>\n",
       "      <td>...</td>\n",
       "      <td>-0.14</td>\n",
       "      <td>1.36</td>\n",
       "      <td>1.41</td>\n",
       "      <td>0.59</td>\n",
       "      <td>0.61</td>\n",
       "      <td>-0.91</td>\n",
       "      <td>41.29</td>\n",
       "      <td>0.73</td>\n",
       "      <td>20.08</td>\n",
       "      <td>1.00</td>\n",
       "    </tr>\n",
       "    <tr>\n",
       "      <th>31</th>\n",
       "      <td>Turpan</td>\n",
       "      <td>283</td>\n",
       "      <td>19.44</td>\n",
       "      <td>2.80</td>\n",
       "      <td>33.90</td>\n",
       "      <td>14.18</td>\n",
       "      <td>9.79</td>\n",
       "      <td>0.02</td>\n",
       "      <td>1.19</td>\n",
       "      <td>1.42</td>\n",
       "      <td>...</td>\n",
       "      <td>-0.03</td>\n",
       "      <td>0.79</td>\n",
       "      <td>1.16</td>\n",
       "      <td>0.41</td>\n",
       "      <td>0.49</td>\n",
       "      <td>-7.52</td>\n",
       "      <td>42.94</td>\n",
       "      <td>0.92</td>\n",
       "      <td>19.52</td>\n",
       "      <td>0.00</td>\n",
       "    </tr>\n",
       "    <tr>\n",
       "      <th>32</th>\n",
       "      <td>HeilongjiangHarbin</td>\n",
       "      <td>3552</td>\n",
       "      <td>22.71</td>\n",
       "      <td>2.63</td>\n",
       "      <td>32.61</td>\n",
       "      <td>10.32</td>\n",
       "      <td>13.47</td>\n",
       "      <td>0.04</td>\n",
       "      <td>1.01</td>\n",
       "      <td>0.92</td>\n",
       "      <td>...</td>\n",
       "      <td>0.29</td>\n",
       "      <td>1.05</td>\n",
       "      <td>1.62</td>\n",
       "      <td>0.74</td>\n",
       "      <td>0.75</td>\n",
       "      <td>-7.17</td>\n",
       "      <td>45.75</td>\n",
       "      <td>0.82</td>\n",
       "      <td>21.97</td>\n",
       "      <td>1.00</td>\n",
       "    </tr>\n",
       "  </tbody>\n",
       "</table>\n",
       "<p>33 rows × 21 columns</p>\n",
       "</div>"
      ],
      "text/plain": [
       "                    city  records    top  top_std     rh  rh_std    twb   vel  \\\n",
       "0            HainanSanya        5  24.88     1.24  70.20    4.82  20.84  0.00   \n",
       "1     GuangdongGuangzhou      997  23.88     1.08  52.94    9.58  17.40  0.10   \n",
       "2          YunnanKunming      415  13.62     3.12  16.95   13.78   4.41  0.28   \n",
       "3           FujianFuzhou        7  18.10     1.53  67.43    5.80  14.23  0.00   \n",
       "4        FujianZhenjiang        2  22.90     2.26  74.50    0.71  19.55  0.00   \n",
       "5          FujianNanping        4  17.90     1.24  60.25   10.21  13.15  0.00   \n",
       "6          HunanHengyang        1  16.90      NaN  66.00     NaN  12.90  0.00   \n",
       "7          HunanChangsha     1108  17.41     3.07  48.35   12.03  11.00  0.03   \n",
       "8          SichuanZigong       23  11.03     1.30  66.52    6.75   7.56  0.00   \n",
       "9                  Lhasa      355  10.64     4.03  71.19   20.88   7.66  0.02   \n",
       "10            HubeiWuhan      526  12.91     3.92  47.98   12.98   7.07  0.09   \n",
       "11              Shanghai     2131  20.84     4.49  52.26   12.97  14.30  0.03   \n",
       "12      JiangsuChangzhou      144  20.51     1.45  41.18    4.92  13.60  0.01   \n",
       "13          HenanNanyang      251  12.22     4.04  66.37   13.40   8.60  0.00   \n",
       "14     HenanPingdingshan        5  17.56     2.08  57.80    7.85  12.52  0.00   \n",
       "15          ShaanxiXi'an     1686  23.04     3.04  21.92   16.44  11.13  0.04   \n",
       "16          HenanLuoyang       45  19.04     2.73  30.62    4.58  10.99  0.00   \n",
       "17        HenanZhengzhou       96  22.30     3.80  28.90    6.10  13.11  0.00   \n",
       "18          HenanKaifeng        1  13.00      NaN  50.00     NaN   7.70  0.00   \n",
       "19          HenanJiaozuo      888  16.80     4.11  49.04   13.46  10.67  0.02   \n",
       "20        ShandongXintai        3  22.83     0.60  31.00    9.54  13.03  0.00   \n",
       "21       ShandongQingdao        1  23.00      NaN  27.00     NaN  12.50  0.00   \n",
       "22           HebeiHandan       26  19.30     3.43  35.81    7.55  11.24  0.00   \n",
       "23  ShanxiLvliangfenyang        9  21.13     1.22  40.56    3.24  13.30  0.00   \n",
       "24        ShandongYantai        7  25.67     1.99  34.00    8.93  15.74  0.00   \n",
       "25        LiaoningDalian     1703  22.46     2.27  36.87   10.76  13.71  0.00   \n",
       "26               Tianjin      730  24.50     1.90  27.41    6.71  13.70  0.02   \n",
       "27               Beijing      651  22.07     2.97  28.61   11.76  12.57  0.07   \n",
       "28                Baotou      303  19.28     3.66  36.36   14.97  11.44  0.05   \n",
       "29                Hohhot       12  20.73     0.63  36.83    1.70  12.44  0.00   \n",
       "30         LiaoningBenxi       22  19.74     2.60  41.09   13.80  12.15  0.00   \n",
       "31                Turpan      283  19.44     2.80  33.90   14.18   9.79  0.02   \n",
       "32    HeilongjiangHarbin     3552  22.71     2.63  32.61   10.32  13.47  0.04   \n",
       "\n",
       "     met   clo  ...   tsv  tsv_std   tcv  tcv_std   tav  t_out  latitude  \\\n",
       "0   0.98  0.33  ...  0.60     0.89  1.60     0.89  0.42    NaN     18.25   \n",
       "1   1.00  0.86  ... -0.01     0.89  1.38     0.55  0.46  16.71     23.13   \n",
       "2   1.08  0.65  ... -1.15     1.11  1.42     0.80  0.69    NaN     24.87   \n",
       "3   0.89  0.35  ... -0.71     0.76  1.57     0.53  0.33    NaN     26.08   \n",
       "4   0.90  0.31  ... -0.50     2.12  1.50     0.71  0.55    NaN     26.10   \n",
       "5   0.88  0.42  ...  0.00     0.00  1.00     0.00  0.32    NaN     26.64   \n",
       "6   0.90  0.66  ... -1.00      NaN  2.00      NaN -0.10    NaN     26.89   \n",
       "7   1.02  0.95  ... -0.40     0.75  2.82     0.69  0.41    NaN     28.23   \n",
       "8   1.00  1.59  ... -0.22     1.17  1.61     0.72  0.64    NaN     29.34   \n",
       "9   1.10  1.25  ... -1.10     1.13   NaN      NaN   NaN    NaN     29.65   \n",
       "10  1.07  1.88  ... -1.55     1.40  1.63     0.69  0.09   4.64     30.58   \n",
       "11  1.10  0.88  ... -0.05     0.84  1.41     0.59  0.35   7.41     31.23   \n",
       "12  1.02  1.15  ...  0.35     0.83  1.19     0.43  0.81   6.40     31.78   \n",
       "13  1.00  1.31  ... -0.41     1.23   NaN      NaN   NaN    NaN     32.99   \n",
       "14  0.94  0.79  ... -0.80     0.45  1.80     0.45  0.24    NaN     33.74   \n",
       "15  1.14  0.73  ...  0.52     1.01  1.65     0.76  0.16   2.82     34.26   \n",
       "16  1.00  1.05  ... -0.18     1.01  1.47     0.79  0.58   5.80     34.62   \n",
       "17  1.01  1.19  ...  0.66     1.26  1.50     0.70  0.58   5.80     34.75   \n",
       "18  0.80  0.42  ...  0.00      NaN  1.00      NaN  1.00    NaN     34.79   \n",
       "19  1.10  1.19  ... -0.26     0.61  1.39     0.51   NaN    NaN     35.24   \n",
       "20  0.90  0.69  ...  0.33     0.58  1.00     0.00  1.00    NaN     35.90   \n",
       "21  1.00  0.50  ...  1.00      NaN  1.00      NaN  1.00    NaN     36.07   \n",
       "22  0.98  1.45  ... -0.38     0.64  1.19     0.40  0.85   3.18     36.62   \n",
       "23  0.97  0.41  ... -0.22     0.67  1.22     0.44  0.66    NaN     37.51   \n",
       "24  1.10  0.80  ...  0.86     0.90  1.43     0.53  0.74    NaN     37.53   \n",
       "25  0.99  0.98  ...  0.29     0.98  1.38     0.57  0.62   0.83     38.92   \n",
       "26  1.16  0.81  ...  0.22     0.74  1.45     0.62  0.22   1.80     39.12   \n",
       "27  1.06  0.92  ... -0.03     0.92  1.57     0.63  0.32   5.81     39.90   \n",
       "28  1.07  0.34  ...  0.02     0.92  1.47     0.61  0.35  -8.60     40.65   \n",
       "29  0.96  0.51  ... -0.33     0.49  1.25     0.45  0.46    NaN     40.82   \n",
       "30  0.96  1.04  ... -0.14     1.36  1.41     0.59  0.61  -0.91     41.29   \n",
       "31  1.19  1.42  ... -0.03     0.79  1.16     0.41  0.49  -7.52     42.94   \n",
       "32  1.01  0.92  ...  0.29     1.05  1.62     0.74  0.75  -7.17     45.75   \n",
       "\n",
       "     tsr  tn_op  p_dh  \n",
       "0   0.80  23.38  0.00  \n",
       "1   0.90  23.91  0.00  \n",
       "2   0.66  16.50  0.00  \n",
       "3   0.86  19.89  0.00  \n",
       "4   0.50  24.15  0.00  \n",
       "5   1.00  17.90  0.00  \n",
       "6   1.00  19.40  0.00  \n",
       "7   0.89  18.40  0.00  \n",
       "8   0.78  11.57  0.00  \n",
       "9   0.64  13.38  0.01  \n",
       "10  0.49  16.79  0.00  \n",
       "11  0.92  20.97  0.00  \n",
       "12  0.88  19.65  0.00  \n",
       "13  0.71  13.24  0.00  \n",
       "14  1.00  19.56  0.20  \n",
       "15  0.76  21.73  0.70  \n",
       "16  0.93  19.48  0.00  \n",
       "17  0.67  20.66  0.04  \n",
       "18  1.00  13.00  0.00  \n",
       "19  0.98  17.44  1.00  \n",
       "20  1.00  22.00  1.00  \n",
       "21  1.00  20.50  1.00  \n",
       "22  0.92  20.26  1.00  \n",
       "23  1.00  21.69  1.00  \n",
       "24  0.71  23.53  0.86  \n",
       "25  0.85  21.72  0.80  \n",
       "26  0.95  23.94  0.98  \n",
       "27  0.86  22.14  0.76  \n",
       "28  0.90  19.24  1.00  \n",
       "29  1.00  21.57  1.00  \n",
       "30  0.73  20.08  1.00  \n",
       "31  0.92  19.52  0.00  \n",
       "32  0.82  21.97  1.00  \n",
       "\n",
       "[33 rows x 21 columns]"
      ]
     },
     "execution_count": 619,
     "metadata": {},
     "output_type": "execute_result"
    }
   ],
   "source": [
    "df_city = pd.read_csv('CN_DB_CITY.csv')\n",
    "df_city"
   ]
  },
  {
   "cell_type": "markdown",
   "metadata": {},
   "source": [
    "Calcualte the distance of each city to Huai River (33˚N)"
   ]
  },
  {
   "cell_type": "code",
   "execution_count": 620,
   "metadata": {},
   "outputs": [],
   "source": [
    "df_city['distance'] = df_city['latitude'] - 34"
   ]
  },
  {
   "cell_type": "markdown",
   "metadata": {},
   "source": [
    "## Sharp Threshold Assumption\n",
    "All cities have disctrict heating systems if the distance is >= 0</br>\n",
    "No city has disctrict heating systems if the distance is < 0"
   ]
  },
  {
   "cell_type": "code",
   "execution_count": 621,
   "metadata": {},
   "outputs": [],
   "source": [
    "# create a new dummy variable based on the distance\n",
    "df_rd = df_city.assign(threshold=(df_city[\"distance\"] > 0).astype(int))"
   ]
  },
  {
   "cell_type": "markdown",
   "metadata": {},
   "source": [
    "## Effect of Policy (Z) on Thermal Conditions (X)\n",
    "Difference between the treatment and control group near the Huai river, which can be viewed as the nature experiment outcome"
   ]
  },
  {
   "cell_type": "markdown",
   "metadata": {},
   "source": [
    "### Operative Temperature - Yes Mean"
   ]
  },
  {
   "cell_type": "code",
   "execution_count": 622,
   "metadata": {},
   "outputs": [
    {
     "data": {
      "text/html": [
       "<table class=\"simpletable\">\n",
       "<tr>\n",
       "           <td></td>             <th>coef</th>     <th>std err</th>      <th>t</th>      <th>P>|t|</th>  <th>[0.025</th>    <th>0.975]</th>  \n",
       "</tr>\n",
       "<tr>\n",
       "  <th>Intercept</th>          <td>   16.4482</td> <td>    1.657</td> <td>    9.927</td> <td> 0.000</td> <td>   13.059</td> <td>   19.837</td>\n",
       "</tr>\n",
       "<tr>\n",
       "  <th>distance</th>           <td>   -0.3923</td> <td>    0.272</td> <td>   -1.444</td> <td> 0.160</td> <td>   -0.948</td> <td>    0.164</td>\n",
       "</tr>\n",
       "<tr>\n",
       "  <th>threshold</th>          <td>    4.9102</td> <td>    2.022</td> <td>    2.428</td> <td> 0.022</td> <td>    0.774</td> <td>    9.046</td>\n",
       "</tr>\n",
       "<tr>\n",
       "  <th>distance:threshold</th> <td>    0.5007</td> <td>    0.310</td> <td>    1.617</td> <td> 0.117</td> <td>   -0.132</td> <td>    1.134</td>\n",
       "</tr>\n",
       "</table>"
      ],
      "text/plain": [
       "<class 'statsmodels.iolib.table.SimpleTable'>"
      ]
     },
     "execution_count": 622,
     "metadata": {},
     "output_type": "execute_result"
    }
   ],
   "source": [
    "model = smf.wls(\"top~distance*threshold\", df_rd, weights=df_rd[\"records\"]).fit()\n",
    "model.summary().tables[1]"
   ]
  },
  {
   "cell_type": "markdown",
   "metadata": {},
   "source": [
    "The coef of the \"threshold\" is the causal effect, and coef of \"Intercept\" is the basedline </br>\n",
    "The causal effect is 4.9 C, pvalue is 0.02, 95%CI is [0.8, 9.0] </br>\n",
    "The district heating policy causes indoor top increases from 16.4 to 21.3"
   ]
  },
  {
   "cell_type": "code",
   "execution_count": 623,
   "metadata": {},
   "outputs": [
    {
     "data": {
      "image/png": "[encoded data removed]",
      "text/plain": [
       "<Figure size 720x432 with 1 Axes>"
      ]
     },
     "metadata": {
      "needs_background": "light"
     },
     "output_type": "display_data"
    }
   ],
   "source": [
    "plt.figure(figsize=(10, 6))\n",
    "plt.scatter(df_rd['distance'], df_rd['top'], s=df_rd['records'], facecolors='none', edgecolors='b')\n",
    "# plot less than 0 distance for model.fittedvalues\n",
    "plt.plot(df_rd['distance'][df_rd['distance'] < 0], model.fittedvalues[df_rd['distance'] < 0], color='red')\n",
    "# plot larger than 0 distance for model.fittedvalues\n",
    "plt.plot(df_rd['distance'][df_rd['distance'] >= 0], model.fittedvalues[df_rd['distance'] >= 0], color='red')\n",
    "# plot a vertical dash line at the threshold\n",
    "plt.axvline(x=0, color='black', linestyle='--')\n",
    "plt.xlabel('Distance')\n",
    "plt.ylabel('Indoor Operative Temperature')\n",
    "plt.title(\"Regression Discontinuity\")\n",
    "plt.show()\n"
   ]
  },
  {
   "cell_type": "markdown",
   "metadata": {},
   "source": [
    "### Operative Temperature - Yes SD"
   ]
  },
  {
   "cell_type": "code",
   "execution_count": 624,
   "metadata": {},
   "outputs": [
    {
     "name": "stdout",
     "output_type": "stream",
     "text": [
      "Baseline is:     5.1169\n",
      "Effect is:    -2.0135\n",
      "pvalue is:  0.000\n"
     ]
    },
    {
     "data": {
      "text/html": [
       "<table class=\"simpletable\">\n",
       "<tr>\n",
       "           <td></td>             <th>coef</th>     <th>std err</th>      <th>t</th>      <th>P>|t|</th>  <th>[0.025</th>    <th>0.975]</th>  \n",
       "</tr>\n",
       "<tr>\n",
       "  <th>Intercept</th>          <td>    5.1169</td> <td>    0.352</td> <td>   14.553</td> <td> 0.000</td> <td>    4.394</td> <td>    5.840</td>\n",
       "</tr>\n",
       "<tr>\n",
       "  <th>distance</th>           <td>    0.3354</td> <td>    0.058</td> <td>    5.816</td> <td> 0.000</td> <td>    0.217</td> <td>    0.454</td>\n",
       "</tr>\n",
       "<tr>\n",
       "  <th>threshold</th>          <td>   -2.0135</td> <td>    0.429</td> <td>   -4.692</td> <td> 0.000</td> <td>   -2.896</td> <td>   -1.131</td>\n",
       "</tr>\n",
       "<tr>\n",
       "  <th>distance:threshold</th> <td>   -0.3854</td> <td>    0.066</td> <td>   -5.866</td> <td> 0.000</td> <td>   -0.520</td> <td>   -0.250</td>\n",
       "</tr>\n",
       "</table>"
      ],
      "text/plain": [
       "<class 'statsmodels.iolib.table.SimpleTable'>"
      ]
     },
     "execution_count": 624,
     "metadata": {},
     "output_type": "execute_result"
    }
   ],
   "source": [
    "model = smf.wls(\"top_std~distance*threshold\", df_rd, weights=df_rd[\"records\"]).fit()\n",
    "print(\"Baseline is:\", model.summary().tables[1][1][1])\n",
    "print(\"Effect is:\", model.summary().tables[1][3][1])\n",
    "print(\"pvalue is:\", model.summary().tables[1][3][4])\n",
    "model.summary().tables[1]"
   ]
  },
  {
   "cell_type": "code",
   "execution_count": 625,
   "metadata": {},
   "outputs": [
    {
     "data": {
      "image/png": "[encoded data removed]",
      "text/plain": [
       "<Figure size 720x432 with 1 Axes>"
      ]
     },
     "metadata": {
      "needs_background": "light"
     },
     "output_type": "display_data"
    }
   ],
   "source": [
    "plt.figure(figsize=(10, 6))\n",
    "# remove nanvalues of top_std in df_rd\n",
    "df_rd = df_rd.dropna(subset=['top_std'])\n",
    "plt.scatter(df_rd['distance'], df_rd['top_std'], s=df_rd['records'], facecolors='none', edgecolors='b')\n",
    "plt.plot(df_rd['distance'][df_rd['distance'] < 0], model.fittedvalues[df_rd['distance'] < 0], color='red')\n",
    "plt.plot(df_rd['distance'][df_rd['distance'] >= 0], model.fittedvalues[df_rd['distance'] >= 0], color='red')\n",
    "plt.axvline(x=0, color='black', linestyle='--')\n",
    "plt.xlabel('Distance')\n",
    "plt.ylabel('Indoor operative temperature standard deviation')\n",
    "plt.title(\"Regression Discontinuity\")\n",
    "plt.show()"
   ]
  },
  {
   "cell_type": "code",
   "execution_count": 626,
   "metadata": {},
   "outputs": [],
   "source": [
    "# plt.figure(figsize=(10, 6))\n",
    "# SE = df_rd['top_std'] / np.sqrt(df_rd['records'])\n",
    "# plt.errorbar(df_rd['distance'], df_rd['top'], yerr=SE, fmt='o', color='b', ecolor='gray', elinewidth=3, capsize=4)\n",
    "# plt.xlabel('Distance')\n",
    "# plt.ylabel('Indoor operative temperature)')\n",
    "# plt.title('Mean indoor operative temperature with standard error as bar')"
   ]
  },
  {
   "cell_type": "markdown",
   "metadata": {},
   "source": [
    "### Relative Humdity - Yes Mean, No SD"
   ]
  },
  {
   "cell_type": "code",
   "execution_count": 627,
   "metadata": {},
   "outputs": [
    {
     "name": "stdout",
     "output_type": "stream",
     "text": [
      "Baseline is:    56.1940\n",
      "Effect is:   -24.7888\n",
      "pvalue is:  0.001\n"
     ]
    },
    {
     "data": {
      "text/html": [
       "<table class=\"simpletable\">\n",
       "<tr>\n",
       "           <td></td>             <th>coef</th>     <th>std err</th>      <th>t</th>      <th>P>|t|</th>  <th>[0.025</th>    <th>0.975]</th>  \n",
       "</tr>\n",
       "<tr>\n",
       "  <th>Intercept</th>          <td>   56.1940</td> <td>    5.242</td> <td>   10.720</td> <td> 0.000</td> <td>   45.419</td> <td>   66.969</td>\n",
       "</tr>\n",
       "<tr>\n",
       "  <th>distance</th>           <td>    1.1168</td> <td>    0.860</td> <td>    1.299</td> <td> 0.205</td> <td>   -0.651</td> <td>    2.884</td>\n",
       "</tr>\n",
       "<tr>\n",
       "  <th>threshold</th>          <td>  -24.7888</td> <td>    6.398</td> <td>   -3.874</td> <td> 0.001</td> <td>  -37.941</td> <td>  -11.637</td>\n",
       "</tr>\n",
       "<tr>\n",
       "  <th>distance:threshold</th> <td>   -0.9465</td> <td>    0.979</td> <td>   -0.966</td> <td> 0.343</td> <td>   -2.960</td> <td>    1.067</td>\n",
       "</tr>\n",
       "</table>"
      ],
      "text/plain": [
       "<class 'statsmodels.iolib.table.SimpleTable'>"
      ]
     },
     "execution_count": 627,
     "metadata": {},
     "output_type": "execute_result"
    }
   ],
   "source": [
    "model = smf.wls(\"rh~distance*threshold\", df_rd, weights=df_rd[\"records\"]).fit()\n",
    "print(\"Baseline is:\", model.summary().tables[1][1][1])\n",
    "print(\"Effect is:\", model.summary().tables[1][3][1])\n",
    "print(\"pvalue is:\", model.summary().tables[1][3][4])\n",
    "model.summary().tables[1]"
   ]
  },
  {
   "cell_type": "code",
   "execution_count": 628,
   "metadata": {},
   "outputs": [
    {
     "data": {
      "image/png": "[encoded data removed]",
      "text/plain": [
       "<Figure size 720x432 with 1 Axes>"
      ]
     },
     "metadata": {
      "needs_background": "light"
     },
     "output_type": "display_data"
    }
   ],
   "source": [
    "plt.figure(figsize=(10, 6))\n",
    "plt.scatter(df_rd['distance'], df_rd['rh'], s=df_rd['records'], facecolors='none', edgecolors='b')\n",
    "plt.plot(df_rd['distance'][df_rd['distance'] < 0], model.fittedvalues[df_rd['distance'] < 0], color='red')\n",
    "plt.plot(df_rd['distance'][df_rd['distance'] >= 0], model.fittedvalues[df_rd['distance'] >= 0], color='red')\n",
    "plt.axvline(x=0, color='black', linestyle='--')\n",
    "plt.xlabel('Distance')\n",
    "plt.ylabel('Relative Humidity')\n",
    "plt.title(\"Regression Discontinuity\")\n",
    "plt.show()"
   ]
  },
  {
   "cell_type": "code",
   "execution_count": 629,
   "metadata": {},
   "outputs": [
    {
     "name": "stdout",
     "output_type": "stream",
     "text": [
      "Baseline is:    14.1228\n",
      "Effect is:    -0.2292\n",
      "pvalue is:  0.902\n"
     ]
    },
    {
     "data": {
      "text/html": [
       "<table class=\"simpletable\">\n",
       "<tr>\n",
       "           <td></td>             <th>coef</th>     <th>std err</th>      <th>t</th>      <th>P>|t|</th>  <th>[0.025</th>    <th>0.975]</th>  \n",
       "</tr>\n",
       "<tr>\n",
       "  <th>Intercept</th>          <td>   14.1228</td> <td>    1.515</td> <td>    9.325</td> <td> 0.000</td> <td>   11.010</td> <td>   17.236</td>\n",
       "</tr>\n",
       "<tr>\n",
       "  <th>distance</th>           <td>    0.3053</td> <td>    0.248</td> <td>    1.229</td> <td> 0.230</td> <td>   -0.205</td> <td>    0.816</td>\n",
       "</tr>\n",
       "<tr>\n",
       "  <th>threshold</th>          <td>   -0.2292</td> <td>    1.849</td> <td>   -0.124</td> <td> 0.902</td> <td>   -4.029</td> <td>    3.571</td>\n",
       "</tr>\n",
       "<tr>\n",
       "  <th>distance:threshold</th> <td>   -0.6473</td> <td>    0.283</td> <td>   -2.287</td> <td> 0.031</td> <td>   -1.229</td> <td>   -0.066</td>\n",
       "</tr>\n",
       "</table>"
      ],
      "text/plain": [
       "<class 'statsmodels.iolib.table.SimpleTable'>"
      ]
     },
     "execution_count": 629,
     "metadata": {},
     "output_type": "execute_result"
    }
   ],
   "source": [
    "#### No causal effect on standard deviation of indoor relative humidity\n",
    "model = smf.wls(\"rh_std~distance*threshold\", df_rd, weights=df_rd[\"records\"]).fit()\n",
    "print(\"Baseline is:\", model.summary().tables[1][1][1])\n",
    "print(\"Effect is:\", model.summary().tables[1][3][1])\n",
    "print(\"pvalue is:\", model.summary().tables[1][3][4])\n",
    "model.summary().tables[1]"
   ]
  },
  {
   "cell_type": "code",
   "execution_count": 630,
   "metadata": {},
   "outputs": [
    {
     "data": {
      "image/png": "[encoded data removed]",
      "text/plain": [
       "<Figure size 720x432 with 1 Axes>"
      ]
     },
     "metadata": {
      "needs_background": "light"
     },
     "output_type": "display_data"
    }
   ],
   "source": [
    "plt.figure(figsize=(10, 6))\n",
    "plt.scatter(df_rd['distance'], df_rd['rh_std'], s=df_rd['records'], facecolors='none', edgecolors='b')\n",
    "plt.xlabel('Distance')\n",
    "plt.ylabel('Relative Humidity SD')\n",
    "plt.title(\"Regression Discontinuity\")\n",
    "plt.show()"
   ]
  },
  {
   "cell_type": "markdown",
   "metadata": {},
   "source": [
    "### Wet-bulb Temp - No, Why?"
   ]
  },
  {
   "cell_type": "code",
   "execution_count": 631,
   "metadata": {},
   "outputs": [
    {
     "name": "stdout",
     "output_type": "stream",
     "text": [
      "Baseline is:    10.9011\n",
      "Effect is:     0.6250\n",
      "pvalue is:  0.736\n"
     ]
    },
    {
     "data": {
      "text/html": [
       "<table class=\"simpletable\">\n",
       "<tr>\n",
       "           <td></td>             <th>coef</th>     <th>std err</th>      <th>t</th>      <th>P>|t|</th>  <th>[0.025</th>    <th>0.975]</th>  \n",
       "</tr>\n",
       "<tr>\n",
       "  <th>Intercept</th>          <td>   10.9011</td> <td>    1.504</td> <td>    7.250</td> <td> 0.000</td> <td>    7.810</td> <td>   13.992</td>\n",
       "</tr>\n",
       "<tr>\n",
       "  <th>distance</th>           <td>   -0.2510</td> <td>    0.247</td> <td>   -1.018</td> <td> 0.318</td> <td>   -0.758</td> <td>    0.256</td>\n",
       "</tr>\n",
       "<tr>\n",
       "  <th>threshold</th>          <td>    0.6250</td> <td>    1.835</td> <td>    0.341</td> <td> 0.736</td> <td>   -3.148</td> <td>    4.398</td>\n",
       "</tr>\n",
       "<tr>\n",
       "  <th>distance:threshold</th> <td>    0.4244</td> <td>    0.281</td> <td>    1.511</td> <td> 0.143</td> <td>   -0.153</td> <td>    1.002</td>\n",
       "</tr>\n",
       "</table>"
      ],
      "text/plain": [
       "<class 'statsmodels.iolib.table.SimpleTable'>"
      ]
     },
     "execution_count": 631,
     "metadata": {},
     "output_type": "execute_result"
    }
   ],
   "source": [
    "model = smf.wls(\"twb~distance*threshold\", df_rd, weights=df_rd[\"records\"]).fit()\n",
    "print(\"Baseline is:\", model.summary().tables[1][1][1])\n",
    "print(\"Effect is:\", model.summary().tables[1][3][1])\n",
    "print(\"pvalue is:\", model.summary().tables[1][3][4])\n",
    "model.summary().tables[1]"
   ]
  },
  {
   "cell_type": "markdown",
   "metadata": {},
   "source": [
    "### Air Velocity - No"
   ]
  },
  {
   "cell_type": "code",
   "execution_count": 525,
   "metadata": {},
   "outputs": [
    {
     "name": "stdout",
     "output_type": "stream",
     "text": [
      "Effect is:     0.0304\n",
      "pvalue is:  0.266\n"
     ]
    },
    {
     "data": {
      "text/html": [
       "<table class=\"simpletable\">\n",
       "<tr>\n",
       "           <td></td>             <th>coef</th>     <th>std err</th>      <th>t</th>      <th>P>|t|</th>  <th>[0.025</th>    <th>0.975]</th>  \n",
       "</tr>\n",
       "<tr>\n",
       "  <th>Intercept</th>          <td>   -0.0068</td> <td>    0.022</td> <td>   -0.311</td> <td> 0.758</td> <td>   -0.052</td> <td>    0.038</td>\n",
       "</tr>\n",
       "<tr>\n",
       "  <th>distance</th>           <td>   -0.0132</td> <td>    0.004</td> <td>   -3.666</td> <td> 0.001</td> <td>   -0.021</td> <td>   -0.006</td>\n",
       "</tr>\n",
       "<tr>\n",
       "  <th>threshold</th>          <td>    0.0304</td> <td>    0.027</td> <td>    1.136</td> <td> 0.266</td> <td>   -0.025</td> <td>    0.085</td>\n",
       "</tr>\n",
       "<tr>\n",
       "  <th>distance:threshold</th> <td>    0.0143</td> <td>    0.004</td> <td>    3.494</td> <td> 0.002</td> <td>    0.006</td> <td>    0.023</td>\n",
       "</tr>\n",
       "</table>"
      ],
      "text/plain": [
       "<class 'statsmodels.iolib.table.SimpleTable'>"
      ]
     },
     "execution_count": 525,
     "metadata": {},
     "output_type": "execute_result"
    }
   ],
   "source": [
    "model = smf.wls(\"vel~distance*threshold\", df_rd, weights=df_rd[\"records\"]).fit()\n",
    "print(\"Baseline is:\", model.summary().tables[1][1][1])\n",
    "print(\"Effect is:\", model.summary().tables[1][3][1])\n",
    "print(\"pvalue is:\", model.summary().tables[1][3][4])\n",
    "model.summary().tables[1]"
   ]
  },
  {
   "cell_type": "code",
   "execution_count": 526,
   "metadata": {},
   "outputs": [
    {
     "name": "stdout",
     "output_type": "stream",
     "text": [
      "Effect is:    -0.0480\n",
      "pvalue is:  0.263\n"
     ]
    },
    {
     "data": {
      "text/html": [
       "<table class=\"simpletable\">\n",
       "<tr>\n",
       "           <td></td>             <th>coef</th>     <th>std err</th>      <th>t</th>      <th>P>|t|</th>  <th>[0.025</th>    <th>0.975]</th>  \n",
       "</tr>\n",
       "<tr>\n",
       "  <th>Intercept</th>          <td>    0.0763</td> <td>    0.034</td> <td>    2.216</td> <td> 0.036</td> <td>    0.006</td> <td>    0.147</td>\n",
       "</tr>\n",
       "<tr>\n",
       "  <th>distance</th>           <td>    0.0032</td> <td>    0.006</td> <td>    0.570</td> <td> 0.573</td> <td>   -0.008</td> <td>    0.015</td>\n",
       "</tr>\n",
       "<tr>\n",
       "  <th>threshold</th>          <td>   -0.0480</td> <td>    0.042</td> <td>   -1.143</td> <td> 0.263</td> <td>   -0.134</td> <td>    0.038</td>\n",
       "</tr>\n",
       "<tr>\n",
       "  <th>distance:threshold</th> <td>   -0.0024</td> <td>    0.006</td> <td>   -0.372</td> <td> 0.713</td> <td>   -0.016</td> <td>    0.011</td>\n",
       "</tr>\n",
       "</table>"
      ],
      "text/plain": [
       "<class 'statsmodels.iolib.table.SimpleTable'>"
      ]
     },
     "execution_count": 526,
     "metadata": {},
     "output_type": "execute_result"
    }
   ],
   "source": [
    "#### No causal effect on the SD of air velocity\n",
    "model = smf.wls(\"vel_std~distance*threshold\", df_rd, weights=df_rd[\"records\"]).fit()\n",
    "print(\"Baseline is:\", model.summary().tables[1][1][1])\n",
    "print(\"Effect is:\", model.summary().tables[1][3][1])\n",
    "print(\"pvalue is:\", model.summary().tables[1][3][4])\n",
    "model.summary().tables[1]"
   ]
  },
  {
   "cell_type": "markdown",
   "metadata": {},
   "source": [
    "### Metabolic Rate - No"
   ]
  },
  {
   "cell_type": "code",
   "execution_count": 527,
   "metadata": {},
   "outputs": [
    {
     "name": "stdout",
     "output_type": "stream",
     "text": [
      "Effect is:     0.0129\n",
      "pvalue is:  0.716\n"
     ]
    },
    {
     "data": {
      "text/html": [
       "<table class=\"simpletable\">\n",
       "<tr>\n",
       "           <td></td>             <th>coef</th>     <th>std err</th>      <th>t</th>      <th>P>|t|</th>  <th>[0.025</th>    <th>0.975]</th>  \n",
       "</tr>\n",
       "<tr>\n",
       "  <th>Intercept</th>          <td>    1.0996</td> <td>    0.029</td> <td>   38.079</td> <td> 0.000</td> <td>    1.040</td> <td>    1.159</td>\n",
       "</tr>\n",
       "<tr>\n",
       "  <th>distance</th>           <td>    0.0081</td> <td>    0.005</td> <td>    1.717</td> <td> 0.098</td> <td>   -0.002</td> <td>    0.018</td>\n",
       "</tr>\n",
       "<tr>\n",
       "  <th>threshold</th>          <td>    0.0129</td> <td>    0.035</td> <td>    0.367</td> <td> 0.716</td> <td>   -0.060</td> <td>    0.085</td>\n",
       "</tr>\n",
       "<tr>\n",
       "  <th>distance:threshold</th> <td>   -0.0168</td> <td>    0.005</td> <td>   -3.105</td> <td> 0.005</td> <td>   -0.028</td> <td>   -0.006</td>\n",
       "</tr>\n",
       "</table>"
      ],
      "text/plain": [
       "<class 'statsmodels.iolib.table.SimpleTable'>"
      ]
     },
     "execution_count": 527,
     "metadata": {},
     "output_type": "execute_result"
    }
   ],
   "source": [
    "model = smf.wls(\"met~distance*threshold\", df_rd, weights=df_rd[\"records\"]).fit()\n",
    "print(\"Baseline is:\", model.summary().tables[1][1][1])\n",
    "print(\"Effect is:\", model.summary().tables[1][3][1])\n",
    "print(\"pvalue is:\", model.summary().tables[1][3][4])\n",
    "model.summary().tables[1]"
   ]
  },
  {
   "cell_type": "markdown",
   "metadata": {},
   "source": [
    "### Clothing Insulation - No Mean"
   ]
  },
  {
   "cell_type": "code",
   "execution_count": 567,
   "metadata": {},
   "outputs": [
    {
     "name": "stdout",
     "output_type": "stream",
     "text": [
      "Baseline is:     1.1943\n",
      "Effect is:    -0.3049\n",
      "pvalue is:  0.088\n"
     ]
    },
    {
     "data": {
      "text/html": [
       "<table class=\"simpletable\">\n",
       "<tr>\n",
       "           <td></td>             <th>coef</th>     <th>std err</th>      <th>t</th>      <th>P>|t|</th>  <th>[0.025</th>    <th>0.975]</th>  \n",
       "</tr>\n",
       "<tr>\n",
       "  <th>Intercept</th>          <td>    1.1943</td> <td>    0.141</td> <td>    8.475</td> <td> 0.000</td> <td>    0.905</td> <td>    1.484</td>\n",
       "</tr>\n",
       "<tr>\n",
       "  <th>distance</th>           <td>    0.0355</td> <td>    0.023</td> <td>    1.535</td> <td> 0.137</td> <td>   -0.012</td> <td>    0.083</td>\n",
       "</tr>\n",
       "<tr>\n",
       "  <th>threshold</th>          <td>   -0.3049</td> <td>    0.172</td> <td>   -1.773</td> <td> 0.088</td> <td>   -0.658</td> <td>    0.049</td>\n",
       "</tr>\n",
       "<tr>\n",
       "  <th>distance:threshold</th> <td>   -0.0316</td> <td>    0.026</td> <td>   -1.199</td> <td> 0.241</td> <td>   -0.086</td> <td>    0.023</td>\n",
       "</tr>\n",
       "</table>"
      ],
      "text/plain": [
       "<class 'statsmodels.iolib.table.SimpleTable'>"
      ]
     },
     "execution_count": 567,
     "metadata": {},
     "output_type": "execute_result"
    }
   ],
   "source": [
    "model = smf.wls(\"clo~distance*threshold\", df_rd, weights=df_rd[\"records\"]).fit()\n",
    "print(\"Baseline is:\", model.summary().tables[1][1][1])\n",
    "print(\"Effect is:\", model.summary().tables[1][3][1])\n",
    "print(\"pvalue is:\", model.summary().tables[1][3][4])\n",
    "model.summary().tables[1]"
   ]
  },
  {
   "cell_type": "code",
   "execution_count": 616,
   "metadata": {},
   "outputs": [
    {
     "data": {
      "image/png": "[encoded data removed]",
      "text/plain": [
       "<Figure size 720x432 with 1 Axes>"
      ]
     },
     "metadata": {
      "needs_background": "light"
     },
     "output_type": "display_data"
    }
   ],
   "source": [
    "plt.figure(figsize=(10, 6))\n",
    "plt.scatter(df_rd['distance'], df_rd['clo'], s=df_rd['records'], facecolors='none', edgecolors='b')\n",
    "# plt.plot(df_rd['distance'][df_rd['distance'] < 0], model.fittedvalues[df_rd['distance'] < 0], color='red')\n",
    "# plt.plot(df_rd['distance'][df_rd['distance'] >= 0], model.fittedvalues[df_rd['distance'] >= 0], color='red')\n",
    "plt.xlabel('Distance')\n",
    "plt.ylabel('Clothing insulation')\n",
    "plt.title(\"No regression discontinuity\")\n",
    "\n",
    "plt.show()"
   ]
  },
  {
   "cell_type": "markdown",
   "metadata": {},
   "source": [
    "### Clothing Insulation - Yes SD"
   ]
  },
  {
   "cell_type": "code",
   "execution_count": 575,
   "metadata": {},
   "outputs": [
    {
     "name": "stdout",
     "output_type": "stream",
     "text": [
      "Baseline is:     0.5321\n",
      "Effect is:    -0.1829\n",
      "pvalue is:  0.001\n"
     ]
    },
    {
     "data": {
      "text/html": [
       "<table class=\"simpletable\">\n",
       "<tr>\n",
       "           <td></td>             <th>coef</th>     <th>std err</th>      <th>t</th>      <th>P>|t|</th>  <th>[0.025</th>    <th>0.975]</th>  \n",
       "</tr>\n",
       "<tr>\n",
       "  <th>Intercept</th>          <td>    0.5321</td> <td>    0.042</td> <td>   12.762</td> <td> 0.000</td> <td>    0.446</td> <td>    0.618</td>\n",
       "</tr>\n",
       "<tr>\n",
       "  <th>distance</th>           <td>    0.0278</td> <td>    0.007</td> <td>    4.064</td> <td> 0.000</td> <td>    0.014</td> <td>    0.042</td>\n",
       "</tr>\n",
       "<tr>\n",
       "  <th>threshold</th>          <td>   -0.1829</td> <td>    0.051</td> <td>   -3.594</td> <td> 0.001</td> <td>   -0.288</td> <td>   -0.078</td>\n",
       "</tr>\n",
       "<tr>\n",
       "  <th>distance:threshold</th> <td>   -0.0300</td> <td>    0.008</td> <td>   -3.853</td> <td> 0.001</td> <td>   -0.046</td> <td>   -0.014</td>\n",
       "</tr>\n",
       "</table>"
      ],
      "text/plain": [
       "<class 'statsmodels.iolib.table.SimpleTable'>"
      ]
     },
     "execution_count": 575,
     "metadata": {},
     "output_type": "execute_result"
    }
   ],
   "source": [
    "model = smf.wls(\"clo_std~distance*threshold\", df_rd, weights=df_rd[\"records\"]).fit()\n",
    "print(\"Baseline is:\", model.summary().tables[1][1][1])\n",
    "print(\"Effect is:\", model.summary().tables[1][3][1])\n",
    "print(\"pvalue is:\", model.summary().tables[1][3][4])\n",
    "model.summary().tables[1]"
   ]
  },
  {
   "cell_type": "code",
   "execution_count": 570,
   "metadata": {},
   "outputs": [
    {
     "data": {
      "text/plain": [
       "Text(0.5, 1.0, 'No regression discontinuity')"
      ]
     },
     "execution_count": 570,
     "metadata": {},
     "output_type": "execute_result"
    },
    {
     "data": {
      "image/png": "[encoded data removed]",
      "text/plain": [
       "<Figure size 720x432 with 1 Axes>"
      ]
     },
     "metadata": {
      "needs_background": "light"
     },
     "output_type": "display_data"
    }
   ],
   "source": [
    "plt.figure(figsize=(10, 6))\n",
    "plt.scatter(df_rd['distance'], df_rd['clo_std'], s=df_rd['records'], facecolors='none', edgecolors='b')\n",
    "plt.plot(df_rd['distance'][df_rd['distance'] < 0], model.fittedvalues[df_rd['distance'] < 0], color='red')\n",
    "plt.plot(df_rd['distance'][df_rd['distance'] >= 0], model.fittedvalues[df_rd['distance'] >= 0], color='red')\n",
    "plt.axvline(x=0, color='black', linestyle='--')\n",
    "plt.xlabel('Distance')\n",
    "plt.ylabel('Variance of clothing insulation')\n",
    "plt.title(\"No regression discontinuity\")"
   ]
  },
  {
   "cell_type": "code",
   "execution_count": 571,
   "metadata": {},
   "outputs": [],
   "source": [
    "# plt.figure(figsize=(10, 6))\n",
    "# SE = df_rd['clo_std'] / np.sqrt(df_rd['records'])\n",
    "# plt.errorbar(df_rd['distance'], df_rd['clo'], yerr=SE, fmt='o', color='b', ecolor='gray', elinewidth=3, capsize=4)\n",
    "# plt.xlabel('Distance')\n",
    "# plt.ylabel('Clothing insulation')\n",
    "# plt.title('TA with standard error as bar')"
   ]
  },
  {
   "cell_type": "markdown",
   "metadata": {},
   "source": [
    "### Conclusions"
   ]
  },
  {
   "cell_type": "markdown",
   "metadata": {},
   "source": [
    "\n",
    "The policy affects mean indoor top and the variation of top </br>\n",
    "The policy affects mean indoor rh </br>\n",
    "The policy doesn't affect mean clo </br>\n",
    "But the policy affects the variation of clo </br>\n",
    "\n",
    "Assuming that the policy affects clothing insulation only through indoor thermal environment, represented by top and rh </br>\n",
    "policy -> top & rh -> clo </br>\n",
    "Then, increasing mean top or decreasing rh doesn't affect mean clo. </br>\n",
    "However, reducing variation of top affect variation of clo </br>\n",
    "2C delta top -> 0.2 delta clo"
   ]
  },
  {
   "cell_type": "markdown",
   "metadata": {},
   "source": [
    "### Thermal Sensation Vote - Yes"
   ]
  },
  {
   "cell_type": "code",
   "execution_count": 576,
   "metadata": {},
   "outputs": [
    {
     "name": "stdout",
     "output_type": "stream",
     "text": [
      "Baseline is:    -0.4039\n",
      "Effect is:     0.6373\n",
      "pvalue is:  0.028\n"
     ]
    },
    {
     "data": {
      "text/html": [
       "<table class=\"simpletable\">\n",
       "<tr>\n",
       "           <td></td>             <th>coef</th>     <th>std err</th>      <th>t</th>      <th>P>|t|</th>  <th>[0.025</th>    <th>0.975]</th>  \n",
       "</tr>\n",
       "<tr>\n",
       "  <th>Intercept</th>          <td>   -0.4039</td> <td>    0.224</td> <td>   -1.803</td> <td> 0.083</td> <td>   -0.864</td> <td>    0.057</td>\n",
       "</tr>\n",
       "<tr>\n",
       "  <th>distance</th>           <td>   -0.0034</td> <td>    0.037</td> <td>   -0.092</td> <td> 0.927</td> <td>   -0.079</td> <td>    0.072</td>\n",
       "</tr>\n",
       "<tr>\n",
       "  <th>threshold</th>          <td>    0.6373</td> <td>    0.273</td> <td>    2.330</td> <td> 0.028</td> <td>    0.075</td> <td>    1.199</td>\n",
       "</tr>\n",
       "<tr>\n",
       "  <th>distance:threshold</th> <td>    0.0036</td> <td>    0.042</td> <td>    0.086</td> <td> 0.932</td> <td>   -0.082</td> <td>    0.090</td>\n",
       "</tr>\n",
       "</table>"
      ],
      "text/plain": [
       "<class 'statsmodels.iolib.table.SimpleTable'>"
      ]
     },
     "execution_count": 576,
     "metadata": {},
     "output_type": "execute_result"
    }
   ],
   "source": [
    "model = smf.wls(\"tsv~distance*threshold\", df_rd, weights=df_rd[\"records\"]).fit()\n",
    "print(\"Baseline is:\", model.summary().tables[1][1][1])\n",
    "print(\"Effect is:\", model.summary().tables[1][3][1])\n",
    "print(\"pvalue is:\", model.summary().tables[1][3][4])\n",
    "model.summary().tables[1]"
   ]
  },
  {
   "cell_type": "code",
   "execution_count": 577,
   "metadata": {},
   "outputs": [
    {
     "data": {
      "image/png": "[encoded data removed]",
      "text/plain": [
       "<Figure size 720x432 with 1 Axes>"
      ]
     },
     "metadata": {
      "needs_background": "light"
     },
     "output_type": "display_data"
    }
   ],
   "source": [
    "plt.figure(figsize=(10, 6))\n",
    "plt.scatter(df_rd['distance'], df_rd['tsv'], s=df_rd['records'], facecolors='none', edgecolors='b')\n",
    "plt.plot(df_rd['distance'][df_rd['distance'] < 0], model.fittedvalues[df_rd['distance'] < 0], color='red')\n",
    "plt.plot(df_rd['distance'][df_rd['distance'] >= 0], model.fittedvalues[df_rd['distance'] >= 0], color='red')\n",
    "plt.axvline(x=0, color='black', linestyle='--')\n",
    "plt.xlabel('Distance')\n",
    "plt.ylabel('Theraml sensation vote')\n",
    "plt.title(\"Regression Discontinuity\")\n",
    "plt.show()"
   ]
  },
  {
   "cell_type": "markdown",
   "metadata": {},
   "source": [
    "Assuming that the policy affects thermal sensations only through indoor thermal environment, represented by top and rh </br>\n",
    "Which means there is no psychological effect </br>\n",
    "Then, then increasing mean indoor top from 17 to 22 (5 delta) would increase thermal sensation from -0.4 to 0.2 (0.6 delta) </br>\n",
    "It's hard to compare with PMV model due to the unknown clo value. Two groups have the same clo, but which values to use is unceratin. At different values, PMV have different output delta TSV. "
   ]
  },
  {
   "cell_type": "code",
   "execution_count": 597,
   "metadata": {},
   "outputs": [
    {
     "name": "stdout",
     "output_type": "stream",
     "text": [
      "Baseline is:     0.9645\n",
      "Effect is:    -0.1010\n",
      "pvalue is:  0.404\n"
     ]
    },
    {
     "data": {
      "text/html": [
       "<table class=\"simpletable\">\n",
       "<tr>\n",
       "           <td></td>             <th>coef</th>     <th>std err</th>      <th>t</th>      <th>P>|t|</th>  <th>[0.025</th>    <th>0.975]</th>  \n",
       "</tr>\n",
       "<tr>\n",
       "  <th>Intercept</th>          <td>    0.9645</td> <td>    0.098</td> <td>    9.886</td> <td> 0.000</td> <td>    0.764</td> <td>    1.165</td>\n",
       "</tr>\n",
       "<tr>\n",
       "  <th>distance</th>           <td>    0.0059</td> <td>    0.016</td> <td>    0.367</td> <td> 0.716</td> <td>   -0.027</td> <td>    0.039</td>\n",
       "</tr>\n",
       "<tr>\n",
       "  <th>threshold</th>          <td>   -0.1010</td> <td>    0.119</td> <td>   -0.848</td> <td> 0.404</td> <td>   -0.346</td> <td>    0.144</td>\n",
       "</tr>\n",
       "<tr>\n",
       "  <th>distance:threshold</th> <td>    0.0076</td> <td>    0.018</td> <td>    0.419</td> <td> 0.679</td> <td>   -0.030</td> <td>    0.045</td>\n",
       "</tr>\n",
       "</table>"
      ],
      "text/plain": [
       "<class 'statsmodels.iolib.table.SimpleTable'>"
      ]
     },
     "execution_count": 597,
     "metadata": {},
     "output_type": "execute_result"
    }
   ],
   "source": [
    "model = smf.wls(\"tsv_std~distance*threshold\", df_rd, weights=df_rd[\"records\"]).fit()\n",
    "print(\"Baseline is:\", model.summary().tables[1][1][1])\n",
    "print(\"Effect is:\", model.summary().tables[1][3][1])\n",
    "print(\"pvalue is:\", model.summary().tables[1][3][4])\n",
    "model.summary().tables[1]"
   ]
  },
  {
   "cell_type": "markdown",
   "metadata": {},
   "source": [
    "### Thermal Comfort Vote - No"
   ]
  },
  {
   "cell_type": "code",
   "execution_count": 595,
   "metadata": {},
   "outputs": [
    {
     "name": "stdout",
     "output_type": "stream",
     "text": [
      "Baseline is:     1.6940\n",
      "Effect is:    -0.2112\n",
      "pvalue is:  0.468\n"
     ]
    },
    {
     "data": {
      "text/html": [
       "<table class=\"simpletable\">\n",
       "<tr>\n",
       "           <td></td>             <th>coef</th>     <th>std err</th>      <th>t</th>      <th>P>|t|</th>  <th>[0.025</th>    <th>0.975]</th>  \n",
       "</tr>\n",
       "<tr>\n",
       "  <th>Intercept</th>          <td>    1.6940</td> <td>    0.240</td> <td>    7.046</td> <td> 0.000</td> <td>    1.198</td> <td>    2.190</td>\n",
       "</tr>\n",
       "<tr>\n",
       "  <th>distance</th>           <td>   -0.0035</td> <td>    0.038</td> <td>   -0.093</td> <td> 0.927</td> <td>   -0.082</td> <td>    0.075</td>\n",
       "</tr>\n",
       "<tr>\n",
       "  <th>threshold</th>          <td>   -0.2112</td> <td>    0.286</td> <td>   -0.738</td> <td> 0.468</td> <td>   -0.802</td> <td>    0.379</td>\n",
       "</tr>\n",
       "<tr>\n",
       "  <th>distance:threshold</th> <td>    0.0103</td> <td>    0.043</td> <td>    0.240</td> <td> 0.812</td> <td>   -0.078</td> <td>    0.099</td>\n",
       "</tr>\n",
       "</table>"
      ],
      "text/plain": [
       "<class 'statsmodels.iolib.table.SimpleTable'>"
      ]
     },
     "execution_count": 595,
     "metadata": {},
     "output_type": "execute_result"
    }
   ],
   "source": [
    "model = smf.wls(\"tcv~distance*threshold\", df_rd, weights=df_rd[\"records\"]).fit()\n",
    "print(\"Baseline is:\", model.summary().tables[1][1][1])\n",
    "print(\"Effect is:\", model.summary().tables[1][3][1])\n",
    "print(\"pvalue is:\", model.summary().tables[1][3][4])\n",
    "model.summary().tables[1]"
   ]
  },
  {
   "cell_type": "code",
   "execution_count": 596,
   "metadata": {},
   "outputs": [
    {
     "name": "stdout",
     "output_type": "stream",
     "text": [
      "Baseline is:     0.6135\n",
      "Effect is:     0.0092\n",
      "pvalue is:  0.902\n"
     ]
    },
    {
     "data": {
      "text/html": [
       "<table class=\"simpletable\">\n",
       "<tr>\n",
       "           <td></td>             <th>coef</th>     <th>std err</th>      <th>t</th>      <th>P>|t|</th>  <th>[0.025</th>    <th>0.975]</th>  \n",
       "</tr>\n",
       "<tr>\n",
       "  <th>Intercept</th>          <td>    0.6135</td> <td>    0.062</td> <td>    9.885</td> <td> 0.000</td> <td>    0.485</td> <td>    0.742</td>\n",
       "</tr>\n",
       "<tr>\n",
       "  <th>distance</th>           <td>   -0.0021</td> <td>    0.010</td> <td>   -0.217</td> <td> 0.830</td> <td>   -0.022</td> <td>    0.018</td>\n",
       "</tr>\n",
       "<tr>\n",
       "  <th>threshold</th>          <td>    0.0092</td> <td>    0.074</td> <td>    0.125</td> <td> 0.902</td> <td>   -0.143</td> <td>    0.162</td>\n",
       "</tr>\n",
       "<tr>\n",
       "  <th>distance:threshold</th> <td>    0.0083</td> <td>    0.011</td> <td>    0.754</td> <td> 0.458</td> <td>   -0.014</td> <td>    0.031</td>\n",
       "</tr>\n",
       "</table>"
      ],
      "text/plain": [
       "<class 'statsmodels.iolib.table.SimpleTable'>"
      ]
     },
     "execution_count": 596,
     "metadata": {},
     "output_type": "execute_result"
    }
   ],
   "source": [
    "model = smf.wls(\"tcv_std~distance*threshold\", df_rd, weights=df_rd[\"records\"]).fit()\n",
    "print(\"Baseline is:\", model.summary().tables[1][1][1])\n",
    "print(\"Effect is:\", model.summary().tables[1][3][1])\n",
    "print(\"pvalue is:\", model.summary().tables[1][3][4])\n",
    "model.summary().tables[1]"
   ]
  },
  {
   "cell_type": "markdown",
   "metadata": {},
   "source": [
    "### Thermal Satisfaction Rate - No"
   ]
  },
  {
   "cell_type": "code",
   "execution_count": 598,
   "metadata": {},
   "outputs": [
    {
     "name": "stdout",
     "output_type": "stream",
     "text": [
      "Baseline is:     0.8135\n",
      "Effect is:     0.0392\n",
      "pvalue is:  0.610\n"
     ]
    },
    {
     "data": {
      "text/html": [
       "<table class=\"simpletable\">\n",
       "<tr>\n",
       "           <td></td>             <th>coef</th>     <th>std err</th>      <th>t</th>      <th>P>|t|</th>  <th>[0.025</th>    <th>0.975]</th>  \n",
       "</tr>\n",
       "<tr>\n",
       "  <th>Intercept</th>          <td>    0.8135</td> <td>    0.062</td> <td>   13.100</td> <td> 0.000</td> <td>    0.686</td> <td>    0.941</td>\n",
       "</tr>\n",
       "<tr>\n",
       "  <th>distance</th>           <td>   -0.0028</td> <td>    0.010</td> <td>   -0.272</td> <td> 0.787</td> <td>   -0.024</td> <td>    0.018</td>\n",
       "</tr>\n",
       "<tr>\n",
       "  <th>threshold</th>          <td>    0.0392</td> <td>    0.076</td> <td>    0.517</td> <td> 0.610</td> <td>   -0.117</td> <td>    0.195</td>\n",
       "</tr>\n",
       "<tr>\n",
       "  <th>distance:threshold</th> <td>    0.0017</td> <td>    0.012</td> <td>    0.149</td> <td> 0.883</td> <td>   -0.022</td> <td>    0.026</td>\n",
       "</tr>\n",
       "</table>"
      ],
      "text/plain": [
       "<class 'statsmodels.iolib.table.SimpleTable'>"
      ]
     },
     "execution_count": 598,
     "metadata": {},
     "output_type": "execute_result"
    }
   ],
   "source": [
    "model = smf.wls(\"tsr~distance*threshold\", df_rd, weights=df_rd[\"records\"]).fit()\n",
    "print(\"Baseline is:\", model.summary().tables[1][1][1])\n",
    "print(\"Effect is:\", model.summary().tables[1][3][1])\n",
    "print(\"pvalue is:\", model.summary().tables[1][3][4])\n",
    "model.summary().tables[1]"
   ]
  },
  {
   "cell_type": "markdown",
   "metadata": {},
   "source": [
    "### Thermal Acceptablity Vote - No"
   ]
  },
  {
   "cell_type": "code",
   "execution_count": 615,
   "metadata": {},
   "outputs": [
    {
     "name": "stdout",
     "output_type": "stream",
     "text": [
      "Baseline is:     0.2778\n",
      "Effect is:    -0.0776\n",
      "pvalue is:  0.489\n"
     ]
    },
    {
     "data": {
      "text/html": [
       "<table class=\"simpletable\">\n",
       "<tr>\n",
       "           <td></td>             <th>coef</th>     <th>std err</th>      <th>t</th>      <th>P>|t|</th>  <th>[0.025</th>    <th>0.975]</th>  \n",
       "</tr>\n",
       "<tr>\n",
       "  <th>Intercept</th>          <td>    0.2778</td> <td>    0.089</td> <td>    3.109</td> <td> 0.005</td> <td>    0.093</td> <td>    0.463</td>\n",
       "</tr>\n",
       "<tr>\n",
       "  <th>distance</th>           <td>   -0.0219</td> <td>    0.014</td> <td>   -1.548</td> <td> 0.135</td> <td>   -0.051</td> <td>    0.007</td>\n",
       "</tr>\n",
       "<tr>\n",
       "  <th>threshold</th>          <td>   -0.0776</td> <td>    0.110</td> <td>   -0.703</td> <td> 0.489</td> <td>   -0.306</td> <td>    0.151</td>\n",
       "</tr>\n",
       "<tr>\n",
       "  <th>distance:threshold</th> <td>    0.0680</td> <td>    0.016</td> <td>    4.203</td> <td> 0.000</td> <td>    0.035</td> <td>    0.101</td>\n",
       "</tr>\n",
       "</table>"
      ],
      "text/plain": [
       "<class 'statsmodels.iolib.table.SimpleTable'>"
      ]
     },
     "execution_count": 615,
     "metadata": {},
     "output_type": "execute_result"
    }
   ],
   "source": [
    "model = smf.wls(\"tav~distance*threshold\", df_rd, weights=df_rd[\"records\"]).fit()\n",
    "print(\"Baseline is:\", model.summary().tables[1][1][1])\n",
    "print(\"Effect is:\", model.summary().tables[1][3][1])\n",
    "print(\"pvalue is:\", model.summary().tables[1][3][4])\n",
    "model.summary().tables[1]"
   ]
  },
  {
   "cell_type": "markdown",
   "metadata": {},
   "source": [
    "## Effect of P on Neutral Temperature (tricky)\n"
   ]
  },
  {
   "cell_type": "code",
   "execution_count": 383,
   "metadata": {},
   "outputs": [
    {
     "name": "stdout",
     "output_type": "stream",
     "text": [
      "Causal effect is:     2.8191\n",
      "p-value is:  0.057\n"
     ]
    },
    {
     "data": {
      "text/html": [
       "<table class=\"simpletable\">\n",
       "<tr>\n",
       "           <td></td>             <th>coef</th>     <th>std err</th>      <th>t</th>      <th>P>|t|</th>  <th>[0.025</th>    <th>0.975]</th>  \n",
       "</tr>\n",
       "<tr>\n",
       "  <th>Intercept</th>          <td>   17.8377</td> <td>    1.058</td> <td>   16.857</td> <td> 0.000</td> <td>   15.674</td> <td>   20.002</td>\n",
       "</tr>\n",
       "<tr>\n",
       "  <th>distance</th>           <td>   -0.3848</td> <td>    0.201</td> <td>   -1.916</td> <td> 0.065</td> <td>   -0.795</td> <td>    0.026</td>\n",
       "</tr>\n",
       "<tr>\n",
       "  <th>threshold</th>          <td>    2.8191</td> <td>    1.420</td> <td>    1.985</td> <td> 0.057</td> <td>   -0.085</td> <td>    5.723</td>\n",
       "</tr>\n",
       "<tr>\n",
       "  <th>distance:threshold</th> <td>    0.4924</td> <td>    0.229</td> <td>    2.154</td> <td> 0.040</td> <td>    0.025</td> <td>    0.960</td>\n",
       "</tr>\n",
       "</table>"
      ],
      "text/plain": [
       "<class 'statsmodels.iolib.table.SimpleTable'>"
      ]
     },
     "execution_count": 383,
     "metadata": {},
     "output_type": "execute_result"
    }
   ],
   "source": [
    "# needs one more non-NaN neutral temperature/comfort zone calcualted by regression approach a and b\n",
    "# neutral temperature calcualted by Griffth method, and using measured globe temperature\n",
    "model = smf.wls(\"tn_op~distance*threshold\", df_rd, weights=df_rd[\"records\"]).fit()\n",
    "print(\"Causal effect is:\", model.summary().tables[1][3][1])\n",
    "print(\"p-value is:\", model.summary().tables[1][3][4])\n",
    "model.summary().tables[1]"
   ]
  },
  {
   "cell_type": "code",
   "execution_count": 384,
   "metadata": {},
   "outputs": [
    {
     "data": {
      "image/png": "[encoded data removed]",
      "text/plain": [
       "<Figure size 432x288 with 1 Axes>"
      ]
     },
     "metadata": {
      "needs_background": "light"
     },
     "output_type": "display_data"
    }
   ],
   "source": [
    "# scatter plot tn_op vs distance\n",
    "plt.scatter(df_rd['distance'], df_rd['tn_op'], s=df_rd['records'], facecolors='none', edgecolors='b')\n",
    "plt.plot(df_rd['distance'][df_rd['distance'] < 0], model.fittedvalues[df_rd['distance'] < 0], color='red')\n",
    "plt.plot(df_rd['distance'][df_rd['distance'] >= 0], model.fittedvalues[df_rd['distance'] >= 0], color='red')\n",
    "plt.xlabel('Distance')\n",
    "plt.ylabel('Neutral temperature')\n",
    "plt.title(\"Regression Discontinuity\")\n",
    "plt.show()"
   ]
  },
  {
   "cell_type": "markdown",
   "metadata": {},
   "source": [
    "Assuming that the policy can only affect the neutral temperature through indoor thermal enviornment, represented by the tg. Then the causal effect of indoor globe temperature on neutral temperature is 4.6279/5.2973 = 0.87 (95% CI:0.64, 0.92)"
   ]
  },
  {
   "cell_type": "markdown",
   "metadata": {},
   "source": [
    "## Effect of X on Comfort Vote\n",
    "The assumption is that the district heating policy affects Y only through indoor thermal environment, represented by  </br>\n",
    "\n",
    "P -> X -> Y"
   ]
  },
  {
   "cell_type": "markdown",
   "metadata": {},
   "source": [
    "## Fuzzy Threshold Assumption\n",
    "All cities have disctrict heating systems if the distance is > 2\n",
    "No city has disctrict heating systems if the distance is < -2"
   ]
  },
  {
   "cell_type": "code",
   "execution_count": null,
   "metadata": {},
   "outputs": [],
   "source": []
  }
 ],
 "metadata": {
  "kernelspec": {
   "display_name": "base",
   "language": "python",
   "name": "python3"
  },
  "language_info": {
   "codemirror_mode": {
    "name": "ipython",
    "version": 3
   },
   "file_extension": ".py",
   "mimetype": "text/x-python",
   "name": "python",
   "nbconvert_exporter": "python",
   "pygments_lexer": "ipython3",
   "version": "3.9.7"
  }
 },
 "nbformat": 4,
 "nbformat_minor": 2
}
