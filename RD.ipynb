{
 "cells": [
  {
   "cell_type": "code",
   "execution_count": 164,
   "metadata": {},
   "outputs": [],
   "source": [
    "import pandas as pd\n",
    "import numpy as np\n",
    "import matplotlib.pyplot as plt\n",
    "import statsmodels.formula.api as smf\n",
    "import pythermalcomfort.models as pm\n",
    "import pythermalcomfort.psychrometrics as pp"
   ]
  },
  {
   "cell_type": "markdown",
   "metadata": {},
   "source": [
    "## Data import"
   ]
  },
  {
   "cell_type": "code",
   "execution_count": 165,
   "metadata": {},
   "outputs": [
    {
     "name": "stdout",
     "output_type": "stream",
     "text": [
      "Index(['suject_id', 'timestamp', 'season', 'city', 'climate', 'building_type',\n",
      "       'heating_type', 'gender', 'age', 'ht', 'wt', 'thermal_sensation',\n",
      "       'thermal_comfort', 'thermal_acceptability', 'clo', 'met', 'ta', 'rh',\n",
      "       'vel', 'tg', 'top', 'tr', 't_out_min', 't_out_monthly', 'latitude',\n",
      "       'age_group'],\n",
      "      dtype='object')\n"
     ]
    }
   ],
   "source": [
    "df = pd.read_csv('CN_DB.csv')\n",
    "print(df.columns)"
   ]
  },
  {
   "cell_type": "code",
   "execution_count": 166,
   "metadata": {},
   "outputs": [
    {
     "data": {
      "text/html": [
       "<div>\n",
       "<style scoped>\n",
       "    .dataframe tbody tr th:only-of-type {\n",
       "        vertical-align: middle;\n",
       "    }\n",
       "\n",
       "    .dataframe tbody tr th {\n",
       "        vertical-align: top;\n",
       "    }\n",
       "\n",
       "    .dataframe thead th {\n",
       "        text-align: right;\n",
       "    }\n",
       "</style>\n",
       "<table border=\"1\" class=\"dataframe\">\n",
       "  <thead>\n",
       "    <tr style=\"text-align: right;\">\n",
       "      <th></th>\n",
       "      <th>city</th>\n",
       "      <th>records</th>\n",
       "      <th>top</th>\n",
       "      <th>top_std</th>\n",
       "      <th>rh</th>\n",
       "      <th>rh_std</th>\n",
       "      <th>twb</th>\n",
       "      <th>vel</th>\n",
       "      <th>met</th>\n",
       "      <th>clo</th>\n",
       "      <th>...</th>\n",
       "      <th>tcv</th>\n",
       "      <th>tcv_std</th>\n",
       "      <th>tav</th>\n",
       "      <th>t_out</th>\n",
       "      <th>t_out_min</th>\n",
       "      <th>latitude</th>\n",
       "      <th>tsr</th>\n",
       "      <th>tn_op</th>\n",
       "      <th>p_dh</th>\n",
       "      <th>p_nv</th>\n",
       "    </tr>\n",
       "  </thead>\n",
       "  <tbody>\n",
       "    <tr>\n",
       "      <th>0</th>\n",
       "      <td>HainanSanya</td>\n",
       "      <td>5</td>\n",
       "      <td>24.88</td>\n",
       "      <td>1.24</td>\n",
       "      <td>70.20</td>\n",
       "      <td>4.82</td>\n",
       "      <td>20.84</td>\n",
       "      <td>0.00</td>\n",
       "      <td>0.98</td>\n",
       "      <td>0.33</td>\n",
       "      <td>...</td>\n",
       "      <td>1.60</td>\n",
       "      <td>0.89</td>\n",
       "      <td>0.42</td>\n",
       "      <td>NaN</td>\n",
       "      <td>21.0</td>\n",
       "      <td>18.25</td>\n",
       "      <td>0.80</td>\n",
       "      <td>23.38</td>\n",
       "      <td>0.00</td>\n",
       "      <td>1.00</td>\n",
       "    </tr>\n",
       "    <tr>\n",
       "      <th>1</th>\n",
       "      <td>GuangdongGuangzhou</td>\n",
       "      <td>997</td>\n",
       "      <td>23.88</td>\n",
       "      <td>1.08</td>\n",
       "      <td>52.94</td>\n",
       "      <td>9.58</td>\n",
       "      <td>17.40</td>\n",
       "      <td>0.10</td>\n",
       "      <td>1.00</td>\n",
       "      <td>0.86</td>\n",
       "      <td>...</td>\n",
       "      <td>1.38</td>\n",
       "      <td>0.55</td>\n",
       "      <td>0.46</td>\n",
       "      <td>16.71</td>\n",
       "      <td>13.7</td>\n",
       "      <td>23.13</td>\n",
       "      <td>0.90</td>\n",
       "      <td>23.91</td>\n",
       "      <td>0.00</td>\n",
       "      <td>0.00</td>\n",
       "    </tr>\n",
       "    <tr>\n",
       "      <th>2</th>\n",
       "      <td>YunnanKunming</td>\n",
       "      <td>415</td>\n",
       "      <td>13.62</td>\n",
       "      <td>3.12</td>\n",
       "      <td>16.95</td>\n",
       "      <td>13.78</td>\n",
       "      <td>4.41</td>\n",
       "      <td>0.28</td>\n",
       "      <td>1.08</td>\n",
       "      <td>0.65</td>\n",
       "      <td>...</td>\n",
       "      <td>1.42</td>\n",
       "      <td>0.80</td>\n",
       "      <td>0.69</td>\n",
       "      <td>NaN</td>\n",
       "      <td>9.2</td>\n",
       "      <td>24.87</td>\n",
       "      <td>0.66</td>\n",
       "      <td>16.50</td>\n",
       "      <td>0.00</td>\n",
       "      <td>1.00</td>\n",
       "    </tr>\n",
       "    <tr>\n",
       "      <th>3</th>\n",
       "      <td>FujianFuzhou</td>\n",
       "      <td>7</td>\n",
       "      <td>18.10</td>\n",
       "      <td>1.53</td>\n",
       "      <td>67.43</td>\n",
       "      <td>5.80</td>\n",
       "      <td>14.23</td>\n",
       "      <td>0.00</td>\n",
       "      <td>0.89</td>\n",
       "      <td>0.35</td>\n",
       "      <td>...</td>\n",
       "      <td>1.57</td>\n",
       "      <td>0.53</td>\n",
       "      <td>0.33</td>\n",
       "      <td>NaN</td>\n",
       "      <td>11.3</td>\n",
       "      <td>26.08</td>\n",
       "      <td>0.86</td>\n",
       "      <td>19.89</td>\n",
       "      <td>0.00</td>\n",
       "      <td>1.00</td>\n",
       "    </tr>\n",
       "    <tr>\n",
       "      <th>4</th>\n",
       "      <td>FujianZhenjiang</td>\n",
       "      <td>2</td>\n",
       "      <td>22.90</td>\n",
       "      <td>2.26</td>\n",
       "      <td>74.50</td>\n",
       "      <td>0.71</td>\n",
       "      <td>19.55</td>\n",
       "      <td>0.00</td>\n",
       "      <td>0.90</td>\n",
       "      <td>0.31</td>\n",
       "      <td>...</td>\n",
       "      <td>1.50</td>\n",
       "      <td>0.71</td>\n",
       "      <td>0.55</td>\n",
       "      <td>NaN</td>\n",
       "      <td>10.0</td>\n",
       "      <td>26.10</td>\n",
       "      <td>0.50</td>\n",
       "      <td>24.15</td>\n",
       "      <td>0.00</td>\n",
       "      <td>1.00</td>\n",
       "    </tr>\n",
       "    <tr>\n",
       "      <th>5</th>\n",
       "      <td>FujianNanping</td>\n",
       "      <td>4</td>\n",
       "      <td>17.90</td>\n",
       "      <td>1.24</td>\n",
       "      <td>60.25</td>\n",
       "      <td>10.21</td>\n",
       "      <td>13.15</td>\n",
       "      <td>0.00</td>\n",
       "      <td>0.88</td>\n",
       "      <td>0.42</td>\n",
       "      <td>...</td>\n",
       "      <td>1.00</td>\n",
       "      <td>0.00</td>\n",
       "      <td>0.32</td>\n",
       "      <td>NaN</td>\n",
       "      <td>10.1</td>\n",
       "      <td>26.64</td>\n",
       "      <td>1.00</td>\n",
       "      <td>17.90</td>\n",
       "      <td>0.00</td>\n",
       "      <td>1.00</td>\n",
       "    </tr>\n",
       "    <tr>\n",
       "      <th>6</th>\n",
       "      <td>HunanHengyang</td>\n",
       "      <td>1</td>\n",
       "      <td>16.90</td>\n",
       "      <td>NaN</td>\n",
       "      <td>66.00</td>\n",
       "      <td>NaN</td>\n",
       "      <td>12.90</td>\n",
       "      <td>0.00</td>\n",
       "      <td>0.90</td>\n",
       "      <td>0.66</td>\n",
       "      <td>...</td>\n",
       "      <td>2.00</td>\n",
       "      <td>NaN</td>\n",
       "      <td>-0.10</td>\n",
       "      <td>NaN</td>\n",
       "      <td>6.3</td>\n",
       "      <td>26.89</td>\n",
       "      <td>1.00</td>\n",
       "      <td>19.40</td>\n",
       "      <td>0.00</td>\n",
       "      <td>1.00</td>\n",
       "    </tr>\n",
       "    <tr>\n",
       "      <th>7</th>\n",
       "      <td>HunanChangsha</td>\n",
       "      <td>1108</td>\n",
       "      <td>17.41</td>\n",
       "      <td>3.07</td>\n",
       "      <td>48.35</td>\n",
       "      <td>12.03</td>\n",
       "      <td>11.00</td>\n",
       "      <td>0.03</td>\n",
       "      <td>1.02</td>\n",
       "      <td>0.95</td>\n",
       "      <td>...</td>\n",
       "      <td>2.82</td>\n",
       "      <td>0.69</td>\n",
       "      <td>0.41</td>\n",
       "      <td>NaN</td>\n",
       "      <td>5.2</td>\n",
       "      <td>28.23</td>\n",
       "      <td>0.89</td>\n",
       "      <td>18.40</td>\n",
       "      <td>0.00</td>\n",
       "      <td>0.58</td>\n",
       "    </tr>\n",
       "    <tr>\n",
       "      <th>8</th>\n",
       "      <td>SichuanZigong</td>\n",
       "      <td>23</td>\n",
       "      <td>11.03</td>\n",
       "      <td>1.30</td>\n",
       "      <td>66.52</td>\n",
       "      <td>6.75</td>\n",
       "      <td>7.56</td>\n",
       "      <td>0.00</td>\n",
       "      <td>1.00</td>\n",
       "      <td>1.59</td>\n",
       "      <td>...</td>\n",
       "      <td>1.61</td>\n",
       "      <td>0.72</td>\n",
       "      <td>0.64</td>\n",
       "      <td>NaN</td>\n",
       "      <td>7.6</td>\n",
       "      <td>29.34</td>\n",
       "      <td>0.78</td>\n",
       "      <td>11.57</td>\n",
       "      <td>0.00</td>\n",
       "      <td>1.00</td>\n",
       "    </tr>\n",
       "    <tr>\n",
       "      <th>9</th>\n",
       "      <td>Lhasa</td>\n",
       "      <td>355</td>\n",
       "      <td>10.64</td>\n",
       "      <td>4.03</td>\n",
       "      <td>71.19</td>\n",
       "      <td>20.88</td>\n",
       "      <td>7.66</td>\n",
       "      <td>0.02</td>\n",
       "      <td>1.10</td>\n",
       "      <td>1.25</td>\n",
       "      <td>...</td>\n",
       "      <td>NaN</td>\n",
       "      <td>NaN</td>\n",
       "      <td>NaN</td>\n",
       "      <td>NaN</td>\n",
       "      <td>-0.2</td>\n",
       "      <td>29.65</td>\n",
       "      <td>0.64</td>\n",
       "      <td>13.38</td>\n",
       "      <td>0.01</td>\n",
       "      <td>0.68</td>\n",
       "    </tr>\n",
       "    <tr>\n",
       "      <th>10</th>\n",
       "      <td>HubeiWuhan</td>\n",
       "      <td>526</td>\n",
       "      <td>12.91</td>\n",
       "      <td>3.92</td>\n",
       "      <td>47.98</td>\n",
       "      <td>12.98</td>\n",
       "      <td>7.07</td>\n",
       "      <td>0.09</td>\n",
       "      <td>1.07</td>\n",
       "      <td>1.88</td>\n",
       "      <td>...</td>\n",
       "      <td>1.63</td>\n",
       "      <td>0.69</td>\n",
       "      <td>0.09</td>\n",
       "      <td>4.64</td>\n",
       "      <td>4.1</td>\n",
       "      <td>30.58</td>\n",
       "      <td>0.49</td>\n",
       "      <td>16.79</td>\n",
       "      <td>0.00</td>\n",
       "      <td>1.00</td>\n",
       "    </tr>\n",
       "    <tr>\n",
       "      <th>11</th>\n",
       "      <td>Shanghai</td>\n",
       "      <td>2131</td>\n",
       "      <td>20.84</td>\n",
       "      <td>4.49</td>\n",
       "      <td>52.26</td>\n",
       "      <td>12.97</td>\n",
       "      <td>14.30</td>\n",
       "      <td>0.03</td>\n",
       "      <td>1.10</td>\n",
       "      <td>0.88</td>\n",
       "      <td>...</td>\n",
       "      <td>1.41</td>\n",
       "      <td>0.59</td>\n",
       "      <td>0.35</td>\n",
       "      <td>7.41</td>\n",
       "      <td>5.2</td>\n",
       "      <td>31.23</td>\n",
       "      <td>0.92</td>\n",
       "      <td>20.97</td>\n",
       "      <td>0.00</td>\n",
       "      <td>0.18</td>\n",
       "    </tr>\n",
       "    <tr>\n",
       "      <th>12</th>\n",
       "      <td>JiangsuChangzhou</td>\n",
       "      <td>144</td>\n",
       "      <td>20.51</td>\n",
       "      <td>1.45</td>\n",
       "      <td>41.18</td>\n",
       "      <td>4.92</td>\n",
       "      <td>13.60</td>\n",
       "      <td>0.01</td>\n",
       "      <td>1.02</td>\n",
       "      <td>1.15</td>\n",
       "      <td>...</td>\n",
       "      <td>1.19</td>\n",
       "      <td>0.43</td>\n",
       "      <td>0.81</td>\n",
       "      <td>6.40</td>\n",
       "      <td>3.9</td>\n",
       "      <td>31.78</td>\n",
       "      <td>0.88</td>\n",
       "      <td>19.65</td>\n",
       "      <td>0.00</td>\n",
       "      <td>0.00</td>\n",
       "    </tr>\n",
       "    <tr>\n",
       "      <th>13</th>\n",
       "      <td>HenanNanyang</td>\n",
       "      <td>251</td>\n",
       "      <td>12.22</td>\n",
       "      <td>4.04</td>\n",
       "      <td>66.37</td>\n",
       "      <td>13.40</td>\n",
       "      <td>8.60</td>\n",
       "      <td>0.00</td>\n",
       "      <td>1.00</td>\n",
       "      <td>1.31</td>\n",
       "      <td>...</td>\n",
       "      <td>NaN</td>\n",
       "      <td>NaN</td>\n",
       "      <td>NaN</td>\n",
       "      <td>NaN</td>\n",
       "      <td>1.8</td>\n",
       "      <td>32.99</td>\n",
       "      <td>0.71</td>\n",
       "      <td>13.24</td>\n",
       "      <td>0.00</td>\n",
       "      <td>0.62</td>\n",
       "    </tr>\n",
       "    <tr>\n",
       "      <th>14</th>\n",
       "      <td>HenanPingdingshan</td>\n",
       "      <td>5</td>\n",
       "      <td>17.56</td>\n",
       "      <td>2.08</td>\n",
       "      <td>57.80</td>\n",
       "      <td>7.85</td>\n",
       "      <td>12.52</td>\n",
       "      <td>0.00</td>\n",
       "      <td>0.94</td>\n",
       "      <td>0.79</td>\n",
       "      <td>...</td>\n",
       "      <td>1.80</td>\n",
       "      <td>0.45</td>\n",
       "      <td>0.24</td>\n",
       "      <td>NaN</td>\n",
       "      <td>0.7</td>\n",
       "      <td>33.74</td>\n",
       "      <td>1.00</td>\n",
       "      <td>19.56</td>\n",
       "      <td>0.20</td>\n",
       "      <td>0.80</td>\n",
       "    </tr>\n",
       "    <tr>\n",
       "      <th>15</th>\n",
       "      <td>ShaanxiXi'an</td>\n",
       "      <td>1686</td>\n",
       "      <td>23.04</td>\n",
       "      <td>3.04</td>\n",
       "      <td>21.92</td>\n",
       "      <td>16.44</td>\n",
       "      <td>11.13</td>\n",
       "      <td>0.04</td>\n",
       "      <td>1.14</td>\n",
       "      <td>0.73</td>\n",
       "      <td>...</td>\n",
       "      <td>1.65</td>\n",
       "      <td>0.76</td>\n",
       "      <td>0.16</td>\n",
       "      <td>2.82</td>\n",
       "      <td>3.1</td>\n",
       "      <td>34.26</td>\n",
       "      <td>0.76</td>\n",
       "      <td>21.73</td>\n",
       "      <td>0.70</td>\n",
       "      <td>0.00</td>\n",
       "    </tr>\n",
       "    <tr>\n",
       "      <th>16</th>\n",
       "      <td>HenanLuoyang</td>\n",
       "      <td>45</td>\n",
       "      <td>19.04</td>\n",
       "      <td>2.73</td>\n",
       "      <td>30.62</td>\n",
       "      <td>4.58</td>\n",
       "      <td>10.99</td>\n",
       "      <td>0.00</td>\n",
       "      <td>1.00</td>\n",
       "      <td>1.05</td>\n",
       "      <td>...</td>\n",
       "      <td>1.47</td>\n",
       "      <td>0.79</td>\n",
       "      <td>0.58</td>\n",
       "      <td>5.80</td>\n",
       "      <td>0.8</td>\n",
       "      <td>34.62</td>\n",
       "      <td>0.93</td>\n",
       "      <td>19.48</td>\n",
       "      <td>0.00</td>\n",
       "      <td>0.04</td>\n",
       "    </tr>\n",
       "    <tr>\n",
       "      <th>17</th>\n",
       "      <td>HenanZhengzhou</td>\n",
       "      <td>96</td>\n",
       "      <td>22.30</td>\n",
       "      <td>3.80</td>\n",
       "      <td>28.90</td>\n",
       "      <td>6.10</td>\n",
       "      <td>13.11</td>\n",
       "      <td>0.00</td>\n",
       "      <td>1.01</td>\n",
       "      <td>1.19</td>\n",
       "      <td>...</td>\n",
       "      <td>1.50</td>\n",
       "      <td>0.70</td>\n",
       "      <td>0.58</td>\n",
       "      <td>5.80</td>\n",
       "      <td>0.8</td>\n",
       "      <td>34.75</td>\n",
       "      <td>0.67</td>\n",
       "      <td>20.66</td>\n",
       "      <td>0.04</td>\n",
       "      <td>0.00</td>\n",
       "    </tr>\n",
       "    <tr>\n",
       "      <th>18</th>\n",
       "      <td>HenanKaifeng</td>\n",
       "      <td>1</td>\n",
       "      <td>13.00</td>\n",
       "      <td>NaN</td>\n",
       "      <td>50.00</td>\n",
       "      <td>NaN</td>\n",
       "      <td>7.70</td>\n",
       "      <td>0.00</td>\n",
       "      <td>0.80</td>\n",
       "      <td>0.42</td>\n",
       "      <td>...</td>\n",
       "      <td>1.00</td>\n",
       "      <td>NaN</td>\n",
       "      <td>1.00</td>\n",
       "      <td>NaN</td>\n",
       "      <td>0.6</td>\n",
       "      <td>34.79</td>\n",
       "      <td>1.00</td>\n",
       "      <td>13.00</td>\n",
       "      <td>0.00</td>\n",
       "      <td>1.00</td>\n",
       "    </tr>\n",
       "    <tr>\n",
       "      <th>19</th>\n",
       "      <td>HenanJiaozuo</td>\n",
       "      <td>888</td>\n",
       "      <td>16.80</td>\n",
       "      <td>4.11</td>\n",
       "      <td>49.04</td>\n",
       "      <td>13.46</td>\n",
       "      <td>10.67</td>\n",
       "      <td>0.02</td>\n",
       "      <td>1.10</td>\n",
       "      <td>1.19</td>\n",
       "      <td>...</td>\n",
       "      <td>1.39</td>\n",
       "      <td>0.51</td>\n",
       "      <td>NaN</td>\n",
       "      <td>NaN</td>\n",
       "      <td>1.5</td>\n",
       "      <td>35.24</td>\n",
       "      <td>0.98</td>\n",
       "      <td>17.44</td>\n",
       "      <td>1.00</td>\n",
       "      <td>0.00</td>\n",
       "    </tr>\n",
       "    <tr>\n",
       "      <th>20</th>\n",
       "      <td>ShandongXintai</td>\n",
       "      <td>3</td>\n",
       "      <td>22.83</td>\n",
       "      <td>0.60</td>\n",
       "      <td>31.00</td>\n",
       "      <td>9.54</td>\n",
       "      <td>13.03</td>\n",
       "      <td>0.00</td>\n",
       "      <td>0.90</td>\n",
       "      <td>0.69</td>\n",
       "      <td>...</td>\n",
       "      <td>1.00</td>\n",
       "      <td>0.00</td>\n",
       "      <td>1.00</td>\n",
       "      <td>NaN</td>\n",
       "      <td>-7.4</td>\n",
       "      <td>35.90</td>\n",
       "      <td>1.00</td>\n",
       "      <td>22.00</td>\n",
       "      <td>1.00</td>\n",
       "      <td>0.00</td>\n",
       "    </tr>\n",
       "    <tr>\n",
       "      <th>21</th>\n",
       "      <td>ShandongQingdao</td>\n",
       "      <td>1</td>\n",
       "      <td>23.00</td>\n",
       "      <td>NaN</td>\n",
       "      <td>27.00</td>\n",
       "      <td>NaN</td>\n",
       "      <td>12.50</td>\n",
       "      <td>0.00</td>\n",
       "      <td>1.00</td>\n",
       "      <td>0.50</td>\n",
       "      <td>...</td>\n",
       "      <td>1.00</td>\n",
       "      <td>NaN</td>\n",
       "      <td>1.00</td>\n",
       "      <td>NaN</td>\n",
       "      <td>0.1</td>\n",
       "      <td>36.07</td>\n",
       "      <td>1.00</td>\n",
       "      <td>20.50</td>\n",
       "      <td>1.00</td>\n",
       "      <td>0.00</td>\n",
       "    </tr>\n",
       "    <tr>\n",
       "      <th>22</th>\n",
       "      <td>HebeiHandan</td>\n",
       "      <td>26</td>\n",
       "      <td>19.30</td>\n",
       "      <td>3.43</td>\n",
       "      <td>35.81</td>\n",
       "      <td>7.55</td>\n",
       "      <td>11.24</td>\n",
       "      <td>0.00</td>\n",
       "      <td>0.98</td>\n",
       "      <td>1.45</td>\n",
       "      <td>...</td>\n",
       "      <td>1.19</td>\n",
       "      <td>0.40</td>\n",
       "      <td>0.85</td>\n",
       "      <td>3.18</td>\n",
       "      <td>-0.8</td>\n",
       "      <td>36.62</td>\n",
       "      <td>0.92</td>\n",
       "      <td>20.26</td>\n",
       "      <td>1.00</td>\n",
       "      <td>0.00</td>\n",
       "    </tr>\n",
       "    <tr>\n",
       "      <th>23</th>\n",
       "      <td>ShanxiLvliangfenyang</td>\n",
       "      <td>9</td>\n",
       "      <td>21.13</td>\n",
       "      <td>1.22</td>\n",
       "      <td>40.56</td>\n",
       "      <td>3.24</td>\n",
       "      <td>13.30</td>\n",
       "      <td>0.00</td>\n",
       "      <td>0.97</td>\n",
       "      <td>0.41</td>\n",
       "      <td>...</td>\n",
       "      <td>1.22</td>\n",
       "      <td>0.44</td>\n",
       "      <td>0.66</td>\n",
       "      <td>NaN</td>\n",
       "      <td>-4.8</td>\n",
       "      <td>37.51</td>\n",
       "      <td>1.00</td>\n",
       "      <td>21.69</td>\n",
       "      <td>1.00</td>\n",
       "      <td>0.00</td>\n",
       "    </tr>\n",
       "    <tr>\n",
       "      <th>24</th>\n",
       "      <td>ShandongYantai</td>\n",
       "      <td>7</td>\n",
       "      <td>25.67</td>\n",
       "      <td>1.99</td>\n",
       "      <td>34.00</td>\n",
       "      <td>8.93</td>\n",
       "      <td>15.74</td>\n",
       "      <td>0.00</td>\n",
       "      <td>1.10</td>\n",
       "      <td>0.80</td>\n",
       "      <td>...</td>\n",
       "      <td>1.43</td>\n",
       "      <td>0.53</td>\n",
       "      <td>0.74</td>\n",
       "      <td>NaN</td>\n",
       "      <td>-1.3</td>\n",
       "      <td>37.53</td>\n",
       "      <td>0.71</td>\n",
       "      <td>23.53</td>\n",
       "      <td>0.86</td>\n",
       "      <td>0.14</td>\n",
       "    </tr>\n",
       "    <tr>\n",
       "      <th>25</th>\n",
       "      <td>LiaoningDalian</td>\n",
       "      <td>1703</td>\n",
       "      <td>22.46</td>\n",
       "      <td>2.27</td>\n",
       "      <td>36.87</td>\n",
       "      <td>10.76</td>\n",
       "      <td>13.71</td>\n",
       "      <td>0.00</td>\n",
       "      <td>0.99</td>\n",
       "      <td>0.98</td>\n",
       "      <td>...</td>\n",
       "      <td>1.38</td>\n",
       "      <td>0.57</td>\n",
       "      <td>0.62</td>\n",
       "      <td>0.83</td>\n",
       "      <td>-3.4</td>\n",
       "      <td>38.92</td>\n",
       "      <td>0.85</td>\n",
       "      <td>21.72</td>\n",
       "      <td>0.80</td>\n",
       "      <td>0.00</td>\n",
       "    </tr>\n",
       "    <tr>\n",
       "      <th>26</th>\n",
       "      <td>Tianjin</td>\n",
       "      <td>730</td>\n",
       "      <td>24.50</td>\n",
       "      <td>1.90</td>\n",
       "      <td>27.41</td>\n",
       "      <td>6.71</td>\n",
       "      <td>13.70</td>\n",
       "      <td>0.02</td>\n",
       "      <td>1.16</td>\n",
       "      <td>0.81</td>\n",
       "      <td>...</td>\n",
       "      <td>1.45</td>\n",
       "      <td>0.62</td>\n",
       "      <td>0.22</td>\n",
       "      <td>1.80</td>\n",
       "      <td>-3.3</td>\n",
       "      <td>39.12</td>\n",
       "      <td>0.95</td>\n",
       "      <td>23.94</td>\n",
       "      <td>0.98</td>\n",
       "      <td>0.00</td>\n",
       "    </tr>\n",
       "    <tr>\n",
       "      <th>27</th>\n",
       "      <td>Beijing</td>\n",
       "      <td>651</td>\n",
       "      <td>22.07</td>\n",
       "      <td>2.97</td>\n",
       "      <td>28.61</td>\n",
       "      <td>11.76</td>\n",
       "      <td>12.57</td>\n",
       "      <td>0.07</td>\n",
       "      <td>1.06</td>\n",
       "      <td>0.92</td>\n",
       "      <td>...</td>\n",
       "      <td>1.57</td>\n",
       "      <td>0.63</td>\n",
       "      <td>0.32</td>\n",
       "      <td>5.81</td>\n",
       "      <td>-2.8</td>\n",
       "      <td>39.90</td>\n",
       "      <td>0.86</td>\n",
       "      <td>22.14</td>\n",
       "      <td>0.76</td>\n",
       "      <td>0.00</td>\n",
       "    </tr>\n",
       "    <tr>\n",
       "      <th>28</th>\n",
       "      <td>Baotou</td>\n",
       "      <td>303</td>\n",
       "      <td>19.28</td>\n",
       "      <td>3.66</td>\n",
       "      <td>36.36</td>\n",
       "      <td>14.97</td>\n",
       "      <td>11.44</td>\n",
       "      <td>0.05</td>\n",
       "      <td>1.07</td>\n",
       "      <td>0.34</td>\n",
       "      <td>...</td>\n",
       "      <td>1.47</td>\n",
       "      <td>0.61</td>\n",
       "      <td>0.35</td>\n",
       "      <td>-8.60</td>\n",
       "      <td>-10.4</td>\n",
       "      <td>40.65</td>\n",
       "      <td>0.90</td>\n",
       "      <td>19.24</td>\n",
       "      <td>1.00</td>\n",
       "      <td>0.00</td>\n",
       "    </tr>\n",
       "    <tr>\n",
       "      <th>29</th>\n",
       "      <td>Hohhot</td>\n",
       "      <td>12</td>\n",
       "      <td>20.73</td>\n",
       "      <td>0.63</td>\n",
       "      <td>36.83</td>\n",
       "      <td>1.70</td>\n",
       "      <td>12.44</td>\n",
       "      <td>0.00</td>\n",
       "      <td>0.96</td>\n",
       "      <td>0.51</td>\n",
       "      <td>...</td>\n",
       "      <td>1.25</td>\n",
       "      <td>0.45</td>\n",
       "      <td>0.46</td>\n",
       "      <td>NaN</td>\n",
       "      <td>-10.7</td>\n",
       "      <td>40.82</td>\n",
       "      <td>1.00</td>\n",
       "      <td>21.57</td>\n",
       "      <td>1.00</td>\n",
       "      <td>0.00</td>\n",
       "    </tr>\n",
       "    <tr>\n",
       "      <th>30</th>\n",
       "      <td>LiaoningBenxi</td>\n",
       "      <td>22</td>\n",
       "      <td>19.74</td>\n",
       "      <td>2.60</td>\n",
       "      <td>41.09</td>\n",
       "      <td>13.80</td>\n",
       "      <td>12.15</td>\n",
       "      <td>0.00</td>\n",
       "      <td>0.96</td>\n",
       "      <td>1.04</td>\n",
       "      <td>...</td>\n",
       "      <td>1.41</td>\n",
       "      <td>0.59</td>\n",
       "      <td>0.61</td>\n",
       "      <td>-0.91</td>\n",
       "      <td>-10.9</td>\n",
       "      <td>41.29</td>\n",
       "      <td>0.73</td>\n",
       "      <td>20.08</td>\n",
       "      <td>1.00</td>\n",
       "      <td>0.00</td>\n",
       "    </tr>\n",
       "    <tr>\n",
       "      <th>31</th>\n",
       "      <td>Turpan</td>\n",
       "      <td>283</td>\n",
       "      <td>19.44</td>\n",
       "      <td>2.80</td>\n",
       "      <td>33.90</td>\n",
       "      <td>14.18</td>\n",
       "      <td>9.79</td>\n",
       "      <td>0.02</td>\n",
       "      <td>1.19</td>\n",
       "      <td>1.42</td>\n",
       "      <td>...</td>\n",
       "      <td>1.16</td>\n",
       "      <td>0.41</td>\n",
       "      <td>0.49</td>\n",
       "      <td>-7.52</td>\n",
       "      <td>-6.5</td>\n",
       "      <td>42.94</td>\n",
       "      <td>0.92</td>\n",
       "      <td>19.52</td>\n",
       "      <td>0.00</td>\n",
       "      <td>0.19</td>\n",
       "    </tr>\n",
       "    <tr>\n",
       "      <th>32</th>\n",
       "      <td>HeilongjiangHarbin</td>\n",
       "      <td>3552</td>\n",
       "      <td>22.71</td>\n",
       "      <td>2.63</td>\n",
       "      <td>32.61</td>\n",
       "      <td>10.32</td>\n",
       "      <td>13.47</td>\n",
       "      <td>0.04</td>\n",
       "      <td>1.01</td>\n",
       "      <td>0.92</td>\n",
       "      <td>...</td>\n",
       "      <td>1.62</td>\n",
       "      <td>0.74</td>\n",
       "      <td>0.75</td>\n",
       "      <td>-7.17</td>\n",
       "      <td>-17.4</td>\n",
       "      <td>45.75</td>\n",
       "      <td>0.82</td>\n",
       "      <td>21.97</td>\n",
       "      <td>1.00</td>\n",
       "      <td>0.00</td>\n",
       "    </tr>\n",
       "  </tbody>\n",
       "</table>\n",
       "<p>33 rows × 23 columns</p>\n",
       "</div>"
      ],
      "text/plain": [
       "                    city  records    top  top_std     rh  rh_std    twb   vel  \\\n",
       "0            HainanSanya        5  24.88     1.24  70.20    4.82  20.84  0.00   \n",
       "1     GuangdongGuangzhou      997  23.88     1.08  52.94    9.58  17.40  0.10   \n",
       "2          YunnanKunming      415  13.62     3.12  16.95   13.78   4.41  0.28   \n",
       "3           FujianFuzhou        7  18.10     1.53  67.43    5.80  14.23  0.00   \n",
       "4        FujianZhenjiang        2  22.90     2.26  74.50    0.71  19.55  0.00   \n",
       "5          FujianNanping        4  17.90     1.24  60.25   10.21  13.15  0.00   \n",
       "6          HunanHengyang        1  16.90      NaN  66.00     NaN  12.90  0.00   \n",
       "7          HunanChangsha     1108  17.41     3.07  48.35   12.03  11.00  0.03   \n",
       "8          SichuanZigong       23  11.03     1.30  66.52    6.75   7.56  0.00   \n",
       "9                  Lhasa      355  10.64     4.03  71.19   20.88   7.66  0.02   \n",
       "10            HubeiWuhan      526  12.91     3.92  47.98   12.98   7.07  0.09   \n",
       "11              Shanghai     2131  20.84     4.49  52.26   12.97  14.30  0.03   \n",
       "12      JiangsuChangzhou      144  20.51     1.45  41.18    4.92  13.60  0.01   \n",
       "13          HenanNanyang      251  12.22     4.04  66.37   13.40   8.60  0.00   \n",
       "14     HenanPingdingshan        5  17.56     2.08  57.80    7.85  12.52  0.00   \n",
       "15          ShaanxiXi'an     1686  23.04     3.04  21.92   16.44  11.13  0.04   \n",
       "16          HenanLuoyang       45  19.04     2.73  30.62    4.58  10.99  0.00   \n",
       "17        HenanZhengzhou       96  22.30     3.80  28.90    6.10  13.11  0.00   \n",
       "18          HenanKaifeng        1  13.00      NaN  50.00     NaN   7.70  0.00   \n",
       "19          HenanJiaozuo      888  16.80     4.11  49.04   13.46  10.67  0.02   \n",
       "20        ShandongXintai        3  22.83     0.60  31.00    9.54  13.03  0.00   \n",
       "21       ShandongQingdao        1  23.00      NaN  27.00     NaN  12.50  0.00   \n",
       "22           HebeiHandan       26  19.30     3.43  35.81    7.55  11.24  0.00   \n",
       "23  ShanxiLvliangfenyang        9  21.13     1.22  40.56    3.24  13.30  0.00   \n",
       "24        ShandongYantai        7  25.67     1.99  34.00    8.93  15.74  0.00   \n",
       "25        LiaoningDalian     1703  22.46     2.27  36.87   10.76  13.71  0.00   \n",
       "26               Tianjin      730  24.50     1.90  27.41    6.71  13.70  0.02   \n",
       "27               Beijing      651  22.07     2.97  28.61   11.76  12.57  0.07   \n",
       "28                Baotou      303  19.28     3.66  36.36   14.97  11.44  0.05   \n",
       "29                Hohhot       12  20.73     0.63  36.83    1.70  12.44  0.00   \n",
       "30         LiaoningBenxi       22  19.74     2.60  41.09   13.80  12.15  0.00   \n",
       "31                Turpan      283  19.44     2.80  33.90   14.18   9.79  0.02   \n",
       "32    HeilongjiangHarbin     3552  22.71     2.63  32.61   10.32  13.47  0.04   \n",
       "\n",
       "     met   clo  ...   tcv  tcv_std   tav  t_out  t_out_min  latitude   tsr  \\\n",
       "0   0.98  0.33  ...  1.60     0.89  0.42    NaN       21.0     18.25  0.80   \n",
       "1   1.00  0.86  ...  1.38     0.55  0.46  16.71       13.7     23.13  0.90   \n",
       "2   1.08  0.65  ...  1.42     0.80  0.69    NaN        9.2     24.87  0.66   \n",
       "3   0.89  0.35  ...  1.57     0.53  0.33    NaN       11.3     26.08  0.86   \n",
       "4   0.90  0.31  ...  1.50     0.71  0.55    NaN       10.0     26.10  0.50   \n",
       "5   0.88  0.42  ...  1.00     0.00  0.32    NaN       10.1     26.64  1.00   \n",
       "6   0.90  0.66  ...  2.00      NaN -0.10    NaN        6.3     26.89  1.00   \n",
       "7   1.02  0.95  ...  2.82     0.69  0.41    NaN        5.2     28.23  0.89   \n",
       "8   1.00  1.59  ...  1.61     0.72  0.64    NaN        7.6     29.34  0.78   \n",
       "9   1.10  1.25  ...   NaN      NaN   NaN    NaN       -0.2     29.65  0.64   \n",
       "10  1.07  1.88  ...  1.63     0.69  0.09   4.64        4.1     30.58  0.49   \n",
       "11  1.10  0.88  ...  1.41     0.59  0.35   7.41        5.2     31.23  0.92   \n",
       "12  1.02  1.15  ...  1.19     0.43  0.81   6.40        3.9     31.78  0.88   \n",
       "13  1.00  1.31  ...   NaN      NaN   NaN    NaN        1.8     32.99  0.71   \n",
       "14  0.94  0.79  ...  1.80     0.45  0.24    NaN        0.7     33.74  1.00   \n",
       "15  1.14  0.73  ...  1.65     0.76  0.16   2.82        3.1     34.26  0.76   \n",
       "16  1.00  1.05  ...  1.47     0.79  0.58   5.80        0.8     34.62  0.93   \n",
       "17  1.01  1.19  ...  1.50     0.70  0.58   5.80        0.8     34.75  0.67   \n",
       "18  0.80  0.42  ...  1.00      NaN  1.00    NaN        0.6     34.79  1.00   \n",
       "19  1.10  1.19  ...  1.39     0.51   NaN    NaN        1.5     35.24  0.98   \n",
       "20  0.90  0.69  ...  1.00     0.00  1.00    NaN       -7.4     35.90  1.00   \n",
       "21  1.00  0.50  ...  1.00      NaN  1.00    NaN        0.1     36.07  1.00   \n",
       "22  0.98  1.45  ...  1.19     0.40  0.85   3.18       -0.8     36.62  0.92   \n",
       "23  0.97  0.41  ...  1.22     0.44  0.66    NaN       -4.8     37.51  1.00   \n",
       "24  1.10  0.80  ...  1.43     0.53  0.74    NaN       -1.3     37.53  0.71   \n",
       "25  0.99  0.98  ...  1.38     0.57  0.62   0.83       -3.4     38.92  0.85   \n",
       "26  1.16  0.81  ...  1.45     0.62  0.22   1.80       -3.3     39.12  0.95   \n",
       "27  1.06  0.92  ...  1.57     0.63  0.32   5.81       -2.8     39.90  0.86   \n",
       "28  1.07  0.34  ...  1.47     0.61  0.35  -8.60      -10.4     40.65  0.90   \n",
       "29  0.96  0.51  ...  1.25     0.45  0.46    NaN      -10.7     40.82  1.00   \n",
       "30  0.96  1.04  ...  1.41     0.59  0.61  -0.91      -10.9     41.29  0.73   \n",
       "31  1.19  1.42  ...  1.16     0.41  0.49  -7.52       -6.5     42.94  0.92   \n",
       "32  1.01  0.92  ...  1.62     0.74  0.75  -7.17      -17.4     45.75  0.82   \n",
       "\n",
       "    tn_op  p_dh  p_nv  \n",
       "0   23.38  0.00  1.00  \n",
       "1   23.91  0.00  0.00  \n",
       "2   16.50  0.00  1.00  \n",
       "3   19.89  0.00  1.00  \n",
       "4   24.15  0.00  1.00  \n",
       "5   17.90  0.00  1.00  \n",
       "6   19.40  0.00  1.00  \n",
       "7   18.40  0.00  0.58  \n",
       "8   11.57  0.00  1.00  \n",
       "9   13.38  0.01  0.68  \n",
       "10  16.79  0.00  1.00  \n",
       "11  20.97  0.00  0.18  \n",
       "12  19.65  0.00  0.00  \n",
       "13  13.24  0.00  0.62  \n",
       "14  19.56  0.20  0.80  \n",
       "15  21.73  0.70  0.00  \n",
       "16  19.48  0.00  0.04  \n",
       "17  20.66  0.04  0.00  \n",
       "18  13.00  0.00  1.00  \n",
       "19  17.44  1.00  0.00  \n",
       "20  22.00  1.00  0.00  \n",
       "21  20.50  1.00  0.00  \n",
       "22  20.26  1.00  0.00  \n",
       "23  21.69  1.00  0.00  \n",
       "24  23.53  0.86  0.14  \n",
       "25  21.72  0.80  0.00  \n",
       "26  23.94  0.98  0.00  \n",
       "27  22.14  0.76  0.00  \n",
       "28  19.24  1.00  0.00  \n",
       "29  21.57  1.00  0.00  \n",
       "30  20.08  1.00  0.00  \n",
       "31  19.52  0.00  0.19  \n",
       "32  21.97  1.00  0.00  \n",
       "\n",
       "[33 rows x 23 columns]"
      ]
     },
     "execution_count": 166,
     "metadata": {},
     "output_type": "execute_result"
    }
   ],
   "source": [
    "df_city = pd.read_csv('CN_DB_CITY.csv')\n",
    "df_city"
   ]
  },
  {
   "cell_type": "markdown",
   "metadata": {},
   "source": [
    "Calcualte the distance of each city to Huai River (33˚N)"
   ]
  },
  {
   "cell_type": "code",
   "execution_count": 167,
   "metadata": {},
   "outputs": [],
   "source": [
    "df_city['distance'] = df_city['latitude'] - 34"
   ]
  },
  {
   "cell_type": "markdown",
   "metadata": {},
   "source": [
    "## Sharp Threshold Assumption\n",
    "All cities have disctrict heating systems if the distance is >= 0</br>\n",
    "No city has disctrict heating systems if the distance is < 0"
   ]
  },
  {
   "cell_type": "code",
   "execution_count": 168,
   "metadata": {},
   "outputs": [],
   "source": [
    "# create a new dummy variable based on the distance\n",
    "df_rd = df_city.assign(threshold=(df_city[\"distance\"] > 0).astype(int))"
   ]
  },
  {
   "cell_type": "markdown",
   "metadata": {},
   "source": [
    "## Effect of Policy (Z) on Thermal Conditions (X)\n",
    "Difference between the treatment and control group near the Huai river, which can be viewed as the nature experiment outcome"
   ]
  },
  {
   "cell_type": "markdown",
   "metadata": {},
   "source": [
    "### Operative Temperature - Yes Mean"
   ]
  },
  {
   "cell_type": "code",
   "execution_count": 169,
   "metadata": {},
   "outputs": [
    {
     "data": {
      "text/html": [
       "<table class=\"simpletable\">\n",
       "<tr>\n",
       "           <td></td>             <th>coef</th>     <th>std err</th>      <th>t</th>      <th>P>|t|</th>  <th>[0.025</th>    <th>0.975]</th>  \n",
       "</tr>\n",
       "<tr>\n",
       "  <th>Intercept</th>          <td>   16.4482</td> <td>    1.657</td> <td>    9.927</td> <td> 0.000</td> <td>   13.059</td> <td>   19.837</td>\n",
       "</tr>\n",
       "<tr>\n",
       "  <th>distance</th>           <td>   -0.3923</td> <td>    0.272</td> <td>   -1.444</td> <td> 0.160</td> <td>   -0.948</td> <td>    0.164</td>\n",
       "</tr>\n",
       "<tr>\n",
       "  <th>threshold</th>          <td>    4.9102</td> <td>    2.022</td> <td>    2.428</td> <td> 0.022</td> <td>    0.774</td> <td>    9.046</td>\n",
       "</tr>\n",
       "<tr>\n",
       "  <th>distance:threshold</th> <td>    0.5007</td> <td>    0.310</td> <td>    1.617</td> <td> 0.117</td> <td>   -0.132</td> <td>    1.134</td>\n",
       "</tr>\n",
       "</table>"
      ],
      "text/plain": [
       "<class 'statsmodels.iolib.table.SimpleTable'>"
      ]
     },
     "execution_count": 169,
     "metadata": {},
     "output_type": "execute_result"
    }
   ],
   "source": [
    "model = smf.wls(\"top~distance*threshold\", df_rd, weights=df_rd[\"records\"]).fit()\n",
    "model.summary().tables[1]"
   ]
  },
  {
   "cell_type": "markdown",
   "metadata": {},
   "source": [
    "The coef of the \"threshold\" is the causal effect, and coef of \"Intercept\" is the basedline </br>\n",
    "The causal effect is 4.9 C, pvalue is 0.02, 95%CI is [0.8, 9.0] </br>\n",
    "The district heating policy causes indoor top increases from 16.4 to 21.3"
   ]
  },
  {
   "cell_type": "code",
   "execution_count": 170,
   "metadata": {},
   "outputs": [
    {
     "name": "stdout",
     "output_type": "stream",
     "text": [
      "Baseline is:    17.1389\n",
      "Effect is:     4.4266\n",
      "pvalue is:  0.005\n"
     ]
    },
    {
     "data": {
      "text/html": [
       "<table class=\"simpletable\">\n",
       "<tr>\n",
       "           <td></td>              <th>coef</th>     <th>std err</th>      <th>t</th>      <th>P>|t|</th>  <th>[0.025</th>    <th>0.975]</th>  \n",
       "</tr>\n",
       "<tr>\n",
       "  <th>Intercept</th>           <td>   17.1389</td> <td>    1.129</td> <td>   15.180</td> <td> 0.000</td> <td>   14.830</td> <td>   19.448</td>\n",
       "</tr>\n",
       "<tr>\n",
       "  <th>distance2</th>           <td>    0.0364</td> <td>    0.020</td> <td>    1.807</td> <td> 0.081</td> <td>   -0.005</td> <td>    0.078</td>\n",
       "</tr>\n",
       "<tr>\n",
       "  <th>threshold</th>           <td>    4.4266</td> <td>    1.468</td> <td>    3.015</td> <td> 0.005</td> <td>    1.423</td> <td>    7.430</td>\n",
       "</tr>\n",
       "<tr>\n",
       "  <th>distance2:threshold</th> <td>   -0.0285</td> <td>    0.023</td> <td>   -1.238</td> <td> 0.226</td> <td>   -0.075</td> <td>    0.019</td>\n",
       "</tr>\n",
       "</table>"
      ],
      "text/plain": [
       "<class 'statsmodels.iolib.table.SimpleTable'>"
      ]
     },
     "execution_count": 170,
     "metadata": {},
     "output_type": "execute_result"
    }
   ],
   "source": [
    "df_rd['distance2'] = df_rd['distance'] ** 2\n",
    "# try polynomial \n",
    "model = smf.wls(\"top ~ distance2*threshold\", df_rd, weights=df_rd[\"records\"]).fit()\n",
    "print(\"Baseline is:\", model.summary().tables[1][1][1])\n",
    "print(\"Effect is:\", model.summary().tables[1][3][1])\n",
    "print(\"pvalue is:\", model.summary().tables[1][3][4])\n",
    "model.summary().tables[1]"
   ]
  },
  {
   "cell_type": "code",
   "execution_count": 171,
   "metadata": {},
   "outputs": [
    {
     "data": {
      "image/png": "[encoded data removed]",
      "text/plain": [
       "<Figure size 720x432 with 1 Axes>"
      ]
     },
     "metadata": {
      "needs_background": "light"
     },
     "output_type": "display_data"
    }
   ],
   "source": [
    "plt.figure(figsize=(10, 6))\n",
    "# use the Helvetica Neue font\n",
    "plt.rcParams['font.sans-serif'] = \"Helvetica Neue\"\n",
    "# Split the data into two parts\n",
    "df_below = df_rd[df_rd['distance'] < 0]\n",
    "df_above = df_rd[df_rd['distance'] >= 0]\n",
    "# Scatter plot for points below the threshold\n",
    "plt.scatter(df_below['distance'], df_below['top'], s=df_below['records'], facecolors='none', edgecolors='red', label='South')\n",
    "# Scatter plot for points above the threshold\n",
    "plt.scatter(df_above['distance'], df_above['top'], s=df_above['records'], facecolors='none', edgecolors='blue', label='North')\n",
    "\n",
    "# plot less than 0 distance for model.fittedvalues\n",
    "plt.plot(df_rd['distance'][df_rd['distance'] < 0], model.fittedvalues[df_rd['distance'] < 0], color='r')\n",
    "# plot larger than 0 distance for model.fittedvalues\n",
    "plt.plot(df_rd['distance'][df_rd['distance'] >= 0], model.fittedvalues[df_rd['distance'] >= 0], color='b')\n",
    "# plot a vertical dash line at the threshold\n",
    "plt.axvline(x=0, color='k', linestyle=\"--\", linewidth=1)\n",
    "\n",
    "plt.xticks(fontsize=12)\n",
    "plt.yticks(fontsize=12)\n",
    "plt.xlim(-17, 17)\n",
    "# increase the font size of labels\n",
    "plt.xlabel('Latitude distance from the Huai River', fontsize=14)\n",
    "plt.ylabel('Indoor Operative Temperature', fontsize=14)\n",
    "# show the legend below the x-label\n",
    "\n",
    "import matplotlib.patches as mpatches\n",
    "# Create custom legend handles\n",
    "blue_patch = mpatches.Patch(color='blue', label='Northern Cities')\n",
    "red_patch = mpatches.Patch(color='red', label='Southern Cities')\n",
    "plt.legend(handles=[red_patch, blue_patch], loc='upper center', bbox_to_anchor=(0.5, 1.1), ncol=2)\n",
    "plt.show()\n"
   ]
  },
  {
   "cell_type": "markdown",
   "metadata": {},
   "source": [
    "summer time indoor top smoothness at the treshold"
   ]
  },
  {
   "cell_type": "markdown",
   "metadata": {},
   "source": [
    "### Operative Temperature - Yes SD"
   ]
  },
  {
   "cell_type": "code",
   "execution_count": 349,
   "metadata": {},
   "outputs": [
    {
     "name": "stdout",
     "output_type": "stream",
     "text": [
      "Baseline is:     5.1169\n",
      "Effect is:    -2.0135\n",
      "pvalue is:  0.000\n"
     ]
    },
    {
     "data": {
      "text/html": [
       "<table class=\"simpletable\">\n",
       "<tr>\n",
       "           <td></td>             <th>coef</th>     <th>std err</th>      <th>t</th>      <th>P>|t|</th>  <th>[0.025</th>    <th>0.975]</th>  \n",
       "</tr>\n",
       "<tr>\n",
       "  <th>Intercept</th>          <td>    5.1169</td> <td>    0.352</td> <td>   14.553</td> <td> 0.000</td> <td>    4.394</td> <td>    5.840</td>\n",
       "</tr>\n",
       "<tr>\n",
       "  <th>distance</th>           <td>    0.3354</td> <td>    0.058</td> <td>    5.816</td> <td> 0.000</td> <td>    0.217</td> <td>    0.454</td>\n",
       "</tr>\n",
       "<tr>\n",
       "  <th>threshold</th>          <td>   -2.0135</td> <td>    0.429</td> <td>   -4.692</td> <td> 0.000</td> <td>   -2.896</td> <td>   -1.131</td>\n",
       "</tr>\n",
       "<tr>\n",
       "  <th>distance:threshold</th> <td>   -0.3854</td> <td>    0.066</td> <td>   -5.866</td> <td> 0.000</td> <td>   -0.520</td> <td>   -0.250</td>\n",
       "</tr>\n",
       "</table>"
      ],
      "text/plain": [
       "<class 'statsmodels.iolib.table.SimpleTable'>"
      ]
     },
     "execution_count": 349,
     "metadata": {},
     "output_type": "execute_result"
    }
   ],
   "source": [
    "model = smf.wls(\"top_std~distance*threshold\", df_rd, weights=df_rd[\"records\"]).fit()\n",
    "print(\"Baseline is:\", model.summary().tables[1][1][1])\n",
    "print(\"Effect is:\", model.summary().tables[1][3][1])\n",
    "print(\"pvalue is:\", model.summary().tables[1][3][4])\n",
    "model.summary().tables[1]"
   ]
  },
  {
   "cell_type": "code",
   "execution_count": 350,
   "metadata": {},
   "outputs": [
    {
     "name": "stdout",
     "output_type": "stream",
     "text": [
      "Baseline is:     4.3250\n",
      "Effect is:    -1.3736\n",
      "pvalue is:  0.000\n"
     ]
    },
    {
     "data": {
      "text/html": [
       "<table class=\"simpletable\">\n",
       "<tr>\n",
       "           <td></td>              <th>coef</th>     <th>std err</th>      <th>t</th>      <th>P>|t|</th>  <th>[0.025</th>    <th>0.975]</th>  \n",
       "</tr>\n",
       "<tr>\n",
       "  <th>Intercept</th>           <td>    4.3250</td> <td>    0.245</td> <td>   17.674</td> <td> 0.000</td> <td>    3.822</td> <td>    4.828</td>\n",
       "</tr>\n",
       "<tr>\n",
       "  <th>distance2</th>           <td>   -0.0257</td> <td>    0.004</td> <td>   -5.885</td> <td> 0.000</td> <td>   -0.035</td> <td>   -0.017</td>\n",
       "</tr>\n",
       "<tr>\n",
       "  <th>threshold</th>           <td>   -1.3736</td> <td>    0.318</td> <td>   -4.316</td> <td> 0.000</td> <td>   -2.028</td> <td>   -0.719</td>\n",
       "</tr>\n",
       "<tr>\n",
       "  <th>distance2:threshold</th> <td>    0.0230</td> <td>    0.005</td> <td>    4.610</td> <td> 0.000</td> <td>    0.013</td> <td>    0.033</td>\n",
       "</tr>\n",
       "</table>"
      ],
      "text/plain": [
       "<class 'statsmodels.iolib.table.SimpleTable'>"
      ]
     },
     "execution_count": 350,
     "metadata": {},
     "output_type": "execute_result"
    }
   ],
   "source": [
    "# try polynomial \n",
    "model = smf.wls(\"top_std ~ distance2*threshold\", df_rd, weights=df_rd[\"records\"]).fit()\n",
    "print(\"Baseline is:\", model.summary().tables[1][1][1])\n",
    "print(\"Effect is:\", model.summary().tables[1][3][1])\n",
    "print(\"pvalue is:\", model.summary().tables[1][3][4])\n",
    "model.summary().tables[1]"
   ]
  },
  {
   "cell_type": "code",
   "execution_count": 358,
   "metadata": {},
   "outputs": [
    {
     "data": {
      "image/png": "[encoded data removed]",
      "text/plain": [
       "<Figure size 720x432 with 1 Axes>"
      ]
     },
     "metadata": {
      "needs_background": "light"
     },
     "output_type": "display_data"
    }
   ],
   "source": [
    "plt.figure(figsize=(10, 6))\n",
    "# use the Helvetica Neue font\n",
    "plt.rcParams['font.sans-serif'] = \"Helvetica Neue\"\n",
    "# Split the data into two parts\n",
    "df_below = df_rd[df_rd['distance'] < 0]\n",
    "df_above = df_rd[df_rd['distance'] >= 0]\n",
    "# Scatter plot for points below the threshold\n",
    "plt.scatter(df_below['distance'], df_below['top_std'], s=df_below['records'], facecolors='none', edgecolors='red', label='South')\n",
    "# Scatter plot for points above the threshold\n",
    "plt.scatter(df_above['distance'], df_above['top_std'], s=df_above['records'], facecolors='none', edgecolors='blue', label='North')\n",
    "\n",
    "# plot less than 0 distance for model.fittedvalues\n",
    "plt.plot(df_rd['distance'][df_rd['distance'] < 0], model.fittedvalues[df_rd['distance'] < 0], color='r')\n",
    "# plot larger than 0 distance for model.fittedvalues\n",
    "plt.plot(df_rd['distance'][df_rd['distance'] >= 0], model.fittedvalues[df_rd['distance'] >= 0], color='b')\n",
    "# plot a vertical dash line at the threshold\n",
    "plt.axvline(x=0, color='k', linestyle=\"--\", linewidth=1)\n",
    "\n",
    "plt.xticks(fontsize=12)\n",
    "plt.yticks(fontsize=12)\n",
    "plt.xlim(-17, 17)\n",
    "plt.ylim(0, 5)\n",
    "# increase the font size of labels\n",
    "plt.xlabel('Latitude distance from the Huai River', fontsize=14)\n",
    "plt.ylabel('Indoor Operative Temperature Standard Deviation', fontsize=14)\n",
    "# show the legend below the x-label\n",
    "blue_patch = mpatches.Patch(color='blue', label='Northern Cities')\n",
    "red_patch = mpatches.Patch(color='red', label='Southern Cities')\n",
    "plt.legend(handles=[red_patch, blue_patch], loc='upper center', bbox_to_anchor=(0.5, 1.1), ncol=2)\n",
    "plt.show()\n"
   ]
  },
  {
   "cell_type": "code",
   "execution_count": 175,
   "metadata": {},
   "outputs": [],
   "source": [
    "# plt.figure(figsize=(10, 6))\n",
    "# SE = df_rd['top_std'] / np.sqrt(df_rd['records'])\n",
    "# plt.errorbar(df_rd['distance'], df_rd['top'], yerr=SE, fmt='o', color='b', ecolor='gray', elinewidth=3, capsize=4)\n",
    "# plt.xlabel('Distance')\n",
    "# plt.ylabel('Indoor operative temperature)')\n",
    "# plt.title('Mean indoor operative temperature with standard error as bar')"
   ]
  },
  {
   "cell_type": "markdown",
   "metadata": {},
   "source": [
    "### Relative Humdity - Yes Mean, No SD"
   ]
  },
  {
   "cell_type": "markdown",
   "metadata": {},
   "source": [
    "TBD: the absolute RH, humidity ratio"
   ]
  },
  {
   "cell_type": "code",
   "execution_count": 176,
   "metadata": {},
   "outputs": [
    {
     "name": "stdout",
     "output_type": "stream",
     "text": [
      "Baseline is:    56.1940\n",
      "Effect is:   -24.7888\n",
      "pvalue is:  0.001\n"
     ]
    },
    {
     "data": {
      "text/html": [
       "<table class=\"simpletable\">\n",
       "<tr>\n",
       "           <td></td>             <th>coef</th>     <th>std err</th>      <th>t</th>      <th>P>|t|</th>  <th>[0.025</th>    <th>0.975]</th>  \n",
       "</tr>\n",
       "<tr>\n",
       "  <th>Intercept</th>          <td>   56.1940</td> <td>    5.242</td> <td>   10.720</td> <td> 0.000</td> <td>   45.419</td> <td>   66.969</td>\n",
       "</tr>\n",
       "<tr>\n",
       "  <th>distance</th>           <td>    1.1168</td> <td>    0.860</td> <td>    1.299</td> <td> 0.205</td> <td>   -0.651</td> <td>    2.884</td>\n",
       "</tr>\n",
       "<tr>\n",
       "  <th>threshold</th>          <td>  -24.7888</td> <td>    6.398</td> <td>   -3.874</td> <td> 0.001</td> <td>  -37.941</td> <td>  -11.637</td>\n",
       "</tr>\n",
       "<tr>\n",
       "  <th>distance:threshold</th> <td>   -0.9465</td> <td>    0.979</td> <td>   -0.966</td> <td> 0.343</td> <td>   -2.960</td> <td>    1.067</td>\n",
       "</tr>\n",
       "</table>"
      ],
      "text/plain": [
       "<class 'statsmodels.iolib.table.SimpleTable'>"
      ]
     },
     "execution_count": 176,
     "metadata": {},
     "output_type": "execute_result"
    }
   ],
   "source": [
    "model = smf.wls(\"rh~distance*threshold\", df_rd, weights=df_rd[\"records\"]).fit()\n",
    "print(\"Baseline is:\", model.summary().tables[1][1][1])\n",
    "print(\"Effect is:\", model.summary().tables[1][3][1])\n",
    "print(\"pvalue is:\", model.summary().tables[1][3][4])\n",
    "model.summary().tables[1]"
   ]
  },
  {
   "cell_type": "code",
   "execution_count": 177,
   "metadata": {},
   "outputs": [
    {
     "data": {
      "image/png": "[encoded data removed]",
      "text/plain": [
       "<Figure size 720x432 with 1 Axes>"
      ]
     },
     "metadata": {
      "needs_background": "light"
     },
     "output_type": "display_data"
    }
   ],
   "source": [
    "plt.figure(figsize=(10, 6))\n",
    "plt.scatter(df_rd['distance'], df_rd['rh'], s=df_rd['records'], facecolors='none', edgecolors='b')\n",
    "plt.plot(df_rd['distance'][df_rd['distance'] < 0], model.fittedvalues[df_rd['distance'] < 0], color='red')\n",
    "plt.plot(df_rd['distance'][df_rd['distance'] >= 0], model.fittedvalues[df_rd['distance'] >= 0], color='red')\n",
    "plt.axvline(x=0, color='black', linestyle='--')\n",
    "plt.xlabel('Distance')\n",
    "plt.ylabel('Relative Humidity')\n",
    "plt.title(\"Regression Discontinuity\")\n",
    "plt.show()"
   ]
  },
  {
   "cell_type": "code",
   "execution_count": 178,
   "metadata": {},
   "outputs": [
    {
     "name": "stdout",
     "output_type": "stream",
     "text": [
      "Baseline is:    14.1228\n",
      "Effect is:    -0.2292\n",
      "pvalue is:  0.902\n"
     ]
    },
    {
     "data": {
      "text/html": [
       "<table class=\"simpletable\">\n",
       "<tr>\n",
       "           <td></td>             <th>coef</th>     <th>std err</th>      <th>t</th>      <th>P>|t|</th>  <th>[0.025</th>    <th>0.975]</th>  \n",
       "</tr>\n",
       "<tr>\n",
       "  <th>Intercept</th>          <td>   14.1228</td> <td>    1.515</td> <td>    9.325</td> <td> 0.000</td> <td>   11.010</td> <td>   17.236</td>\n",
       "</tr>\n",
       "<tr>\n",
       "  <th>distance</th>           <td>    0.3053</td> <td>    0.248</td> <td>    1.229</td> <td> 0.230</td> <td>   -0.205</td> <td>    0.816</td>\n",
       "</tr>\n",
       "<tr>\n",
       "  <th>threshold</th>          <td>   -0.2292</td> <td>    1.849</td> <td>   -0.124</td> <td> 0.902</td> <td>   -4.029</td> <td>    3.571</td>\n",
       "</tr>\n",
       "<tr>\n",
       "  <th>distance:threshold</th> <td>   -0.6473</td> <td>    0.283</td> <td>   -2.287</td> <td> 0.031</td> <td>   -1.229</td> <td>   -0.066</td>\n",
       "</tr>\n",
       "</table>"
      ],
      "text/plain": [
       "<class 'statsmodels.iolib.table.SimpleTable'>"
      ]
     },
     "execution_count": 178,
     "metadata": {},
     "output_type": "execute_result"
    }
   ],
   "source": [
    "#### No causal effect on standard deviation of indoor relative humidity\n",
    "model = smf.wls(\"rh_std~distance*threshold\", df_rd, weights=df_rd[\"records\"]).fit()\n",
    "print(\"Baseline is:\", model.summary().tables[1][1][1])\n",
    "print(\"Effect is:\", model.summary().tables[1][3][1])\n",
    "print(\"pvalue is:\", model.summary().tables[1][3][4])\n",
    "model.summary().tables[1]"
   ]
  },
  {
   "cell_type": "code",
   "execution_count": 179,
   "metadata": {},
   "outputs": [
    {
     "data": {
      "image/png": "[encoded data removed]",
      "text/plain": [
       "<Figure size 720x432 with 1 Axes>"
      ]
     },
     "metadata": {
      "needs_background": "light"
     },
     "output_type": "display_data"
    }
   ],
   "source": [
    "plt.figure(figsize=(10, 6))\n",
    "plt.scatter(df_rd['distance'], df_rd['rh_std'], s=df_rd['records'], facecolors='none', edgecolors='b')\n",
    "plt.xlabel('Distance')\n",
    "plt.ylabel('Relative Humidity SD')\n",
    "plt.title(\"Regression Discontinuity\")\n",
    "plt.show()"
   ]
  },
  {
   "cell_type": "markdown",
   "metadata": {},
   "source": [
    "### Air Velocity - No"
   ]
  },
  {
   "cell_type": "code",
   "execution_count": 180,
   "metadata": {},
   "outputs": [
    {
     "name": "stdout",
     "output_type": "stream",
     "text": [
      "Baseline is:    -0.0068\n",
      "Effect is:     0.0304\n",
      "pvalue is:  0.266\n"
     ]
    },
    {
     "data": {
      "text/html": [
       "<table class=\"simpletable\">\n",
       "<tr>\n",
       "           <td></td>             <th>coef</th>     <th>std err</th>      <th>t</th>      <th>P>|t|</th>  <th>[0.025</th>    <th>0.975]</th>  \n",
       "</tr>\n",
       "<tr>\n",
       "  <th>Intercept</th>          <td>   -0.0068</td> <td>    0.022</td> <td>   -0.311</td> <td> 0.758</td> <td>   -0.052</td> <td>    0.038</td>\n",
       "</tr>\n",
       "<tr>\n",
       "  <th>distance</th>           <td>   -0.0132</td> <td>    0.004</td> <td>   -3.666</td> <td> 0.001</td> <td>   -0.021</td> <td>   -0.006</td>\n",
       "</tr>\n",
       "<tr>\n",
       "  <th>threshold</th>          <td>    0.0304</td> <td>    0.027</td> <td>    1.136</td> <td> 0.266</td> <td>   -0.025</td> <td>    0.085</td>\n",
       "</tr>\n",
       "<tr>\n",
       "  <th>distance:threshold</th> <td>    0.0143</td> <td>    0.004</td> <td>    3.494</td> <td> 0.002</td> <td>    0.006</td> <td>    0.023</td>\n",
       "</tr>\n",
       "</table>"
      ],
      "text/plain": [
       "<class 'statsmodels.iolib.table.SimpleTable'>"
      ]
     },
     "execution_count": 180,
     "metadata": {},
     "output_type": "execute_result"
    }
   ],
   "source": [
    "model = smf.wls(\"vel~distance*threshold\", df_rd, weights=df_rd[\"records\"]).fit()\n",
    "print(\"Baseline is:\", model.summary().tables[1][1][1])\n",
    "print(\"Effect is:\", model.summary().tables[1][3][1])\n",
    "print(\"pvalue is:\", model.summary().tables[1][3][4])\n",
    "model.summary().tables[1]"
   ]
  },
  {
   "cell_type": "markdown",
   "metadata": {},
   "source": [
    "### Metabolic Rate - No"
   ]
  },
  {
   "cell_type": "code",
   "execution_count": 181,
   "metadata": {},
   "outputs": [
    {
     "name": "stdout",
     "output_type": "stream",
     "text": [
      "Baseline is:     1.0996\n",
      "Effect is:     0.0129\n",
      "pvalue is:  0.716\n"
     ]
    },
    {
     "data": {
      "text/html": [
       "<table class=\"simpletable\">\n",
       "<tr>\n",
       "           <td></td>             <th>coef</th>     <th>std err</th>      <th>t</th>      <th>P>|t|</th>  <th>[0.025</th>    <th>0.975]</th>  \n",
       "</tr>\n",
       "<tr>\n",
       "  <th>Intercept</th>          <td>    1.0996</td> <td>    0.029</td> <td>   38.079</td> <td> 0.000</td> <td>    1.040</td> <td>    1.159</td>\n",
       "</tr>\n",
       "<tr>\n",
       "  <th>distance</th>           <td>    0.0081</td> <td>    0.005</td> <td>    1.717</td> <td> 0.098</td> <td>   -0.002</td> <td>    0.018</td>\n",
       "</tr>\n",
       "<tr>\n",
       "  <th>threshold</th>          <td>    0.0129</td> <td>    0.035</td> <td>    0.367</td> <td> 0.716</td> <td>   -0.060</td> <td>    0.085</td>\n",
       "</tr>\n",
       "<tr>\n",
       "  <th>distance:threshold</th> <td>   -0.0168</td> <td>    0.005</td> <td>   -3.105</td> <td> 0.005</td> <td>   -0.028</td> <td>   -0.006</td>\n",
       "</tr>\n",
       "</table>"
      ],
      "text/plain": [
       "<class 'statsmodels.iolib.table.SimpleTable'>"
      ]
     },
     "execution_count": 181,
     "metadata": {},
     "output_type": "execute_result"
    }
   ],
   "source": [
    "model = smf.wls(\"met~distance*threshold\", df_rd, weights=df_rd[\"records\"]).fit()\n",
    "print(\"Baseline is:\", model.summary().tables[1][1][1])\n",
    "print(\"Effect is:\", model.summary().tables[1][3][1])\n",
    "print(\"pvalue is:\", model.summary().tables[1][3][4])\n",
    "model.summary().tables[1]"
   ]
  },
  {
   "cell_type": "markdown",
   "metadata": {},
   "source": [
    "### Clothing Insulation - No Mean"
   ]
  },
  {
   "cell_type": "code",
   "execution_count": 182,
   "metadata": {},
   "outputs": [
    {
     "name": "stdout",
     "output_type": "stream",
     "text": [
      "Baseline is:     1.1943\n",
      "Effect is:    -0.3049\n",
      "pvalue is:  0.088\n"
     ]
    },
    {
     "data": {
      "text/html": [
       "<table class=\"simpletable\">\n",
       "<tr>\n",
       "           <td></td>             <th>coef</th>     <th>std err</th>      <th>t</th>      <th>P>|t|</th>  <th>[0.025</th>    <th>0.975]</th>  \n",
       "</tr>\n",
       "<tr>\n",
       "  <th>Intercept</th>          <td>    1.1943</td> <td>    0.141</td> <td>    8.475</td> <td> 0.000</td> <td>    0.905</td> <td>    1.484</td>\n",
       "</tr>\n",
       "<tr>\n",
       "  <th>distance</th>           <td>    0.0355</td> <td>    0.023</td> <td>    1.535</td> <td> 0.137</td> <td>   -0.012</td> <td>    0.083</td>\n",
       "</tr>\n",
       "<tr>\n",
       "  <th>threshold</th>          <td>   -0.3049</td> <td>    0.172</td> <td>   -1.773</td> <td> 0.088</td> <td>   -0.658</td> <td>    0.049</td>\n",
       "</tr>\n",
       "<tr>\n",
       "  <th>distance:threshold</th> <td>   -0.0316</td> <td>    0.026</td> <td>   -1.199</td> <td> 0.241</td> <td>   -0.086</td> <td>    0.023</td>\n",
       "</tr>\n",
       "</table>"
      ],
      "text/plain": [
       "<class 'statsmodels.iolib.table.SimpleTable'>"
      ]
     },
     "execution_count": 182,
     "metadata": {},
     "output_type": "execute_result"
    }
   ],
   "source": [
    "model = smf.wls(\"clo~distance*threshold\", df_rd, weights=df_rd[\"records\"]).fit()\n",
    "print(\"Baseline is:\", model.summary().tables[1][1][1])\n",
    "print(\"Effect is:\", model.summary().tables[1][3][1])\n",
    "print(\"pvalue is:\", model.summary().tables[1][3][4])\n",
    "model.summary().tables[1]"
   ]
  },
  {
   "cell_type": "code",
   "execution_count": 183,
   "metadata": {},
   "outputs": [
    {
     "name": "stdout",
     "output_type": "stream",
     "text": [
      "Baseline is:     1.1096\n",
      "Effect is:    -0.2085\n",
      "pvalue is:  0.113\n"
     ]
    },
    {
     "data": {
      "text/html": [
       "<table class=\"simpletable\">\n",
       "<tr>\n",
       "           <td></td>              <th>coef</th>     <th>std err</th>      <th>t</th>      <th>P>|t|</th>  <th>[0.025</th>    <th>0.975]</th>  \n",
       "</tr>\n",
       "<tr>\n",
       "  <th>Intercept</th>           <td>    1.1096</td> <td>    0.098</td> <td>   11.345</td> <td> 0.000</td> <td>    0.909</td> <td>    1.311</td>\n",
       "</tr>\n",
       "<tr>\n",
       "  <th>distance2</th>           <td>   -0.0027</td> <td>    0.002</td> <td>   -1.544</td> <td> 0.135</td> <td>   -0.006</td> <td>    0.001</td>\n",
       "</tr>\n",
       "<tr>\n",
       "  <th>threshold</th>           <td>   -0.2085</td> <td>    0.127</td> <td>   -1.639</td> <td> 0.113</td> <td>   -0.470</td> <td>    0.053</td>\n",
       "</tr>\n",
       "<tr>\n",
       "  <th>distance2:threshold</th> <td>    0.0029</td> <td>    0.002</td> <td>    1.463</td> <td> 0.155</td> <td>   -0.001</td> <td>    0.007</td>\n",
       "</tr>\n",
       "</table>"
      ],
      "text/plain": [
       "<class 'statsmodels.iolib.table.SimpleTable'>"
      ]
     },
     "execution_count": 183,
     "metadata": {},
     "output_type": "execute_result"
    }
   ],
   "source": [
    "# try polynomial \n",
    "model = smf.wls(\"clo ~ distance2*threshold\", df_rd, weights=df_rd[\"records\"]).fit()\n",
    "print(\"Baseline is:\", model.summary().tables[1][1][1])\n",
    "print(\"Effect is:\", model.summary().tables[1][3][1])\n",
    "print(\"pvalue is:\", model.summary().tables[1][3][4])\n",
    "model.summary().tables[1]"
   ]
  },
  {
   "cell_type": "code",
   "execution_count": 184,
   "metadata": {},
   "outputs": [
    {
     "data": {
      "image/png": "[encoded data removed]",
      "text/plain": [
       "<Figure size 720x432 with 1 Axes>"
      ]
     },
     "metadata": {
      "needs_background": "light"
     },
     "output_type": "display_data"
    }
   ],
   "source": [
    "plt.figure(figsize=(10, 6))\n",
    "plt.scatter(df_rd['distance'], df_rd['clo'], s=df_rd['records'], facecolors='none', edgecolors='b')\n",
    "# plt.plot(df_rd['distance'][df_rd['distance'] < 0], model.fittedvalues[df_rd['distance'] < 0], color='red')\n",
    "# plt.plot(df_rd['distance'][df_rd['distance'] >= 0], model.fittedvalues[df_rd['distance'] >= 0], color='red')\n",
    "plt.xlabel('Distance')\n",
    "plt.ylabel('Mean clothing insulation')\n",
    "plt.title(\"No regression discontinuity\")\n",
    "\n",
    "plt.show()"
   ]
  },
  {
   "cell_type": "markdown",
   "metadata": {},
   "source": [
    "### Clothing Insulation - Yes SD"
   ]
  },
  {
   "cell_type": "code",
   "execution_count": 185,
   "metadata": {},
   "outputs": [
    {
     "name": "stdout",
     "output_type": "stream",
     "text": [
      "Baseline is:     0.5321\n",
      "Effect is:    -0.1829\n",
      "pvalue is:  0.001\n"
     ]
    },
    {
     "data": {
      "text/html": [
       "<table class=\"simpletable\">\n",
       "<tr>\n",
       "           <td></td>             <th>coef</th>     <th>std err</th>      <th>t</th>      <th>P>|t|</th>  <th>[0.025</th>    <th>0.975]</th>  \n",
       "</tr>\n",
       "<tr>\n",
       "  <th>Intercept</th>          <td>    0.5321</td> <td>    0.042</td> <td>   12.762</td> <td> 0.000</td> <td>    0.446</td> <td>    0.618</td>\n",
       "</tr>\n",
       "<tr>\n",
       "  <th>distance</th>           <td>    0.0278</td> <td>    0.007</td> <td>    4.064</td> <td> 0.000</td> <td>    0.014</td> <td>    0.042</td>\n",
       "</tr>\n",
       "<tr>\n",
       "  <th>threshold</th>          <td>   -0.1829</td> <td>    0.051</td> <td>   -3.594</td> <td> 0.001</td> <td>   -0.288</td> <td>   -0.078</td>\n",
       "</tr>\n",
       "<tr>\n",
       "  <th>distance:threshold</th> <td>   -0.0300</td> <td>    0.008</td> <td>   -3.853</td> <td> 0.001</td> <td>   -0.046</td> <td>   -0.014</td>\n",
       "</tr>\n",
       "</table>"
      ],
      "text/plain": [
       "<class 'statsmodels.iolib.table.SimpleTable'>"
      ]
     },
     "execution_count": 185,
     "metadata": {},
     "output_type": "execute_result"
    }
   ],
   "source": [
    "model = smf.wls(\"clo_std~distance*threshold\", df_rd, weights=df_rd[\"records\"]).fit()\n",
    "print(\"Baseline is:\", model.summary().tables[1][1][1])\n",
    "print(\"Effect is:\", model.summary().tables[1][3][1])\n",
    "print(\"pvalue is:\", model.summary().tables[1][3][4])\n",
    "model.summary().tables[1]"
   ]
  },
  {
   "cell_type": "code",
   "execution_count": 186,
   "metadata": {},
   "outputs": [
    {
     "name": "stdout",
     "output_type": "stream",
     "text": [
      "Baseline is:     0.4681\n",
      "Effect is:    -0.1223\n",
      "pvalue is:  0.003\n"
     ]
    },
    {
     "data": {
      "text/html": [
       "<table class=\"simpletable\">\n",
       "<tr>\n",
       "           <td></td>              <th>coef</th>     <th>std err</th>      <th>t</th>      <th>P>|t|</th>  <th>[0.025</th>    <th>0.975]</th>  \n",
       "</tr>\n",
       "<tr>\n",
       "  <th>Intercept</th>           <td>    0.4681</td> <td>    0.028</td> <td>   16.571</td> <td> 0.000</td> <td>    0.410</td> <td>    0.526</td>\n",
       "</tr>\n",
       "<tr>\n",
       "  <th>distance2</th>           <td>   -0.0022</td> <td>    0.001</td> <td>   -4.310</td> <td> 0.000</td> <td>   -0.003</td> <td>   -0.001</td>\n",
       "</tr>\n",
       "<tr>\n",
       "  <th>threshold</th>           <td>   -0.1223</td> <td>    0.037</td> <td>   -3.330</td> <td> 0.003</td> <td>   -0.198</td> <td>   -0.047</td>\n",
       "</tr>\n",
       "<tr>\n",
       "  <th>distance2:threshold</th> <td>    0.0020</td> <td>    0.001</td> <td>    3.474</td> <td> 0.002</td> <td>    0.001</td> <td>    0.003</td>\n",
       "</tr>\n",
       "</table>"
      ],
      "text/plain": [
       "<class 'statsmodels.iolib.table.SimpleTable'>"
      ]
     },
     "execution_count": 186,
     "metadata": {},
     "output_type": "execute_result"
    }
   ],
   "source": [
    "# try polynomial \n",
    "model = smf.wls(\"clo_std ~ distance2*threshold\", df_rd, weights=df_rd[\"records\"]).fit()\n",
    "print(\"Baseline is:\", model.summary().tables[1][1][1])\n",
    "print(\"Effect is:\", model.summary().tables[1][3][1])\n",
    "print(\"pvalue is:\", model.summary().tables[1][3][4])\n",
    "model.summary().tables[1]"
   ]
  },
  {
   "cell_type": "code",
   "execution_count": 187,
   "metadata": {},
   "outputs": [
    {
     "data": {
      "text/plain": [
       "Text(0, 0.5, 'Standard deviation of clothing insulation')"
      ]
     },
     "execution_count": 187,
     "metadata": {},
     "output_type": "execute_result"
    },
    {
     "data": {
      "image/png": "[encoded data removed]",
      "text/plain": [
       "<Figure size 720x432 with 1 Axes>"
      ]
     },
     "metadata": {
      "needs_background": "light"
     },
     "output_type": "display_data"
    }
   ],
   "source": [
    "plt.figure(figsize=(10, 6))\n",
    "plt.scatter(df_rd['distance'], df_rd['clo_std'], s=df_rd['records'], facecolors='none', edgecolors='b')\n",
    "plt.plot(df_rd['distance'][df_rd['distance'] < 0], model.fittedvalues[df_rd['distance'] < 0], color='red')\n",
    "plt.plot(df_rd['distance'][df_rd['distance'] >= 0], model.fittedvalues[df_rd['distance'] >= 0], color='red')\n",
    "plt.axvline(x=0, color='black', linestyle='--')\n",
    "plt.xlabel('Distance')\n",
    "plt.ylabel('Standard deviation of clothing insulation')\n",
    "# plt.title(\"No regression discontinuity\")"
   ]
  },
  {
   "cell_type": "code",
   "execution_count": 188,
   "metadata": {},
   "outputs": [
    {
     "data": {
      "text/html": [
       "<table class=\"simpletable\">\n",
       "<tr>\n",
       "      <td></td>         <th>coef</th>     <th>std err</th>      <th>t</th>      <th>P>|t|</th>  <th>[0.025</th>    <th>0.975]</th>  \n",
       "</tr>\n",
       "<tr>\n",
       "  <th>Intercept</th> <td>    1.7656</td> <td>    0.235</td> <td>    7.528</td> <td> 0.000</td> <td>    1.285</td> <td>    2.246</td>\n",
       "</tr>\n",
       "<tr>\n",
       "  <th>top</th>       <td>   -0.0394</td> <td>    0.011</td> <td>   -3.525</td> <td> 0.001</td> <td>   -0.062</td> <td>   -0.016</td>\n",
       "</tr>\n",
       "</table>"
      ],
      "text/plain": [
       "<class 'statsmodels.iolib.table.SimpleTable'>"
      ]
     },
     "execution_count": 188,
     "metadata": {},
     "output_type": "execute_result"
    }
   ],
   "source": [
    "model = smf.wls(\"clo~top\", df_rd, weights=df_rd[\"records\"]).fit()\n",
    "model.summary().tables[1]"
   ]
  },
  {
   "cell_type": "code",
   "execution_count": 189,
   "metadata": {},
   "outputs": [
    {
     "data": {
      "image/png": "[encoded data removed]",
      "text/plain": [
       "<Figure size 720x432 with 1 Axes>"
      ]
     },
     "metadata": {
      "needs_background": "light"
     },
     "output_type": "display_data"
    }
   ],
   "source": [
    "# scatter plot clo against top\n",
    "plt.figure(figsize=(10, 6))\n",
    "plt.scatter(df_rd['top'], df_rd['clo'], s=df_rd['records'], facecolors='none', edgecolors='b')\n",
    "# plot the fitted values\n",
    "plt.plot(df_rd['top'], model.fittedvalues, color='red')\n",
    "plt.title(\"Correlation\")\n",
    "plt.xlabel('Indoor operative temperature')\n",
    "plt.ylabel('Clothing insulation')\n",
    "plt.show()"
   ]
  },
  {
   "cell_type": "code",
   "execution_count": 190,
   "metadata": {},
   "outputs": [
    {
     "data": {
      "text/html": [
       "<table class=\"simpletable\">\n",
       "<tr>\n",
       "      <td></td>         <th>coef</th>     <th>std err</th>      <th>t</th>      <th>P>|t|</th>  <th>[0.025</th>    <th>0.975]</th>  \n",
       "</tr>\n",
       "<tr>\n",
       "  <th>Intercept</th> <td>    0.1595</td> <td>    0.043</td> <td>    3.693</td> <td> 0.001</td> <td>    0.071</td> <td>    0.248</td>\n",
       "</tr>\n",
       "<tr>\n",
       "  <th>top_std</th>   <td>    0.0649</td> <td>    0.014</td> <td>    4.723</td> <td> 0.000</td> <td>    0.037</td> <td>    0.093</td>\n",
       "</tr>\n",
       "</table>"
      ],
      "text/plain": [
       "<class 'statsmodels.iolib.table.SimpleTable'>"
      ]
     },
     "execution_count": 190,
     "metadata": {},
     "output_type": "execute_result"
    }
   ],
   "source": [
    "model = smf.wls(\"clo_std~top_std\", df_rd, weights=df_rd[\"records\"]).fit()\n",
    "model.summary().tables[1]"
   ]
  },
  {
   "cell_type": "code",
   "execution_count": 191,
   "metadata": {},
   "outputs": [
    {
     "data": {
      "text/plain": [
       "Text(0.5, 0, 'Indoor operative temperature standard deviation')"
      ]
     },
     "execution_count": 191,
     "metadata": {},
     "output_type": "execute_result"
    },
    {
     "data": {
      "image/png": "[encoded data removed]",
      "text/plain": [
       "<Figure size 720x432 with 1 Axes>"
      ]
     },
     "metadata": {
      "needs_background": "light"
     },
     "output_type": "display_data"
    }
   ],
   "source": [
    "# scatter plot clo_std against top_std\n",
    "plt.figure(figsize=(10, 6))\n",
    "plt.scatter(df_rd['top_std'], df_rd['clo_std'], s=df_rd['records'], facecolors='none', edgecolors='b')\n",
    "# plot the fitted values\n",
    "plt.plot(df_rd['top_std'], model.fittedvalues, color='red')\n",
    "plt.ylabel('Clothing insulation standard deviation')\n",
    "plt.xlabel('Indoor operative temperature standard deviation')\n"
   ]
  },
  {
   "cell_type": "code",
   "execution_count": 403,
   "metadata": {},
   "outputs": [
    {
     "data": {
      "image/png": "[encoded data removed]",
      "text/plain": [
       "<Figure size 576x360 with 2 Axes>"
      ]
     },
     "metadata": {
      "needs_background": "light"
     },
     "output_type": "display_data"
    }
   ],
   "source": [
    "import matplotlib.pyplot as plt\n",
    "import numpy as np\n",
    "\n",
    "# Data for indoor temperature\n",
    "temp_control = 17.1\n",
    "temp_treatment = 21.5\n",
    "temp_control_err = 2.2\n",
    "temp_treatment_err = 1.5\n",
    "\n",
    "# Data for clothing insulation\n",
    "clo_control = 1.1\n",
    "clo_treatment = 0.9\n",
    "clo_control_err = 0.5\n",
    "clo_treatment_err = 0.3\n",
    "\n",
    "# Set positions with a smaller distance and extra padding on the left\n",
    "variables = ['Indoor Temperature', 'Clothing Insulation']\n",
    "x = np.array([0.2, 0.7])  # Closer spacing, shifted slightly to the right\n",
    "\n",
    "# Create figure and axis\n",
    "fig, ax1 = plt.subplots(figsize=(8, 5))\n",
    "\n",
    "# Plot indoor temperature data points with error bars (left y-axis)\n",
    "temp_control_point = ax1.errorbar(x[0] - 0.1, temp_control, yerr=temp_control_err, fmt='o', color='lightblue', \n",
    "                                  label='Control (Temp)', capsize=5, markersize=8)\n",
    "temp_treatment_point = ax1.errorbar(x[0] + 0.1, temp_treatment, yerr=temp_treatment_err, fmt='o', color='royalblue', \n",
    "                                    label='Treatment (Temp)', capsize=5, markersize=8)\n",
    "ax1.set_ylabel('Indoor Temperature (°C)', color='royalblue')\n",
    "ax1.tick_params(axis='y', labelcolor='royalblue')\n",
    "\n",
    "# Create secondary axis for clothing insulation data points\n",
    "ax2 = ax1.twinx()\n",
    "clo_control_point = ax2.errorbar(x[1] - 0.1, clo_control, yerr=clo_control_err, fmt='o', color='lightcoral', \n",
    "                                 label='Control (Clo)', capsize=5, markersize=8)\n",
    "clo_treatment_point = ax2.errorbar(x[1] + 0.1, clo_treatment, yerr=clo_treatment_err, fmt='o', color='darkred', \n",
    "                                   label='Treatment (Clo)', capsize=5, markersize=8)\n",
    "ax2.set_ylabel('Clothing Insulation (clo)', color='darkred')\n",
    "ax2.tick_params(axis='y', labelcolor='darkred')\n",
    "\n",
    "# Set custom x-axis limits to add padding before the first data point\n",
    "ax1.set_xlim(0, 1)\n",
    "\n",
    "# Add labels, legends, and title\n",
    "ax1.set_xticks(x)\n",
    "ax1.set_xticklabels(variables)\n",
    "ax1.set_title('Treatment Effects on Indoor Temperature and Clothing Insulation')\n",
    "\n",
    "# Separate legends for each axis\n",
    "ax1.legend(loc='upper left')  # Indoor temperature legend on upper left\n",
    "ax2.legend(loc='upper right')  # Clothing insulation legend on upper right\n",
    "\n",
    "# Adjust layout and show plot\n",
    "fig.tight_layout()\n",
    "plt.show()\n"
   ]
  },
  {
   "cell_type": "markdown",
   "metadata": {},
   "source": [
    "### Conclusions"
   ]
  },
  {
   "cell_type": "markdown",
   "metadata": {},
   "source": [
    "\n",
    "The policy affects mean indoor top and the variation of top </br>\n",
    "The policy affects mean indoor rh </br>\n",
    "The policy doesn't affect mean clo </br>\n",
    "But the policy affects the variation of clo </br>\n",
    "\n",
    "Assuming that the policy affects clothing insulation only through indoor thermal environment, represented by top and rh </br>\n",
    "policy -> top & rh -> clo </br>\n",
    "Then, increasing mean top or decreasing rh doesn't affect mean clo. </br>\n",
    "However, reducing variation of top affect variation of clo </br>\n",
    "2C delta top -> 0.2 delta clo"
   ]
  },
  {
   "cell_type": "markdown",
   "metadata": {},
   "source": [
    "### Thermal Sensation Vote - Yes"
   ]
  },
  {
   "cell_type": "code",
   "execution_count": 340,
   "metadata": {},
   "outputs": [
    {
     "name": "stdout",
     "output_type": "stream",
     "text": [
      "Baseline is:    -0.4039\n",
      "Effect is:     0.6373\n",
      "pvalue is:  0.028\n"
     ]
    },
    {
     "data": {
      "text/html": [
       "<table class=\"simpletable\">\n",
       "<tr>\n",
       "           <td></td>             <th>coef</th>     <th>std err</th>      <th>t</th>      <th>P>|t|</th>  <th>[0.025</th>    <th>0.975]</th>  \n",
       "</tr>\n",
       "<tr>\n",
       "  <th>Intercept</th>          <td>   -0.4039</td> <td>    0.224</td> <td>   -1.803</td> <td> 0.083</td> <td>   -0.864</td> <td>    0.057</td>\n",
       "</tr>\n",
       "<tr>\n",
       "  <th>distance</th>           <td>   -0.0034</td> <td>    0.037</td> <td>   -0.092</td> <td> 0.927</td> <td>   -0.079</td> <td>    0.072</td>\n",
       "</tr>\n",
       "<tr>\n",
       "  <th>threshold</th>          <td>    0.6373</td> <td>    0.273</td> <td>    2.330</td> <td> 0.028</td> <td>    0.075</td> <td>    1.199</td>\n",
       "</tr>\n",
       "<tr>\n",
       "  <th>distance:threshold</th> <td>    0.0036</td> <td>    0.042</td> <td>    0.086</td> <td> 0.932</td> <td>   -0.082</td> <td>    0.090</td>\n",
       "</tr>\n",
       "</table>"
      ],
      "text/plain": [
       "<class 'statsmodels.iolib.table.SimpleTable'>"
      ]
     },
     "execution_count": 340,
     "metadata": {},
     "output_type": "execute_result"
    }
   ],
   "source": [
    "model = smf.wls(\"tsv~distance*threshold\", df_rd, weights=df_rd[\"records\"]).fit()\n",
    "print(\"Baseline is:\", model.summary().tables[1][1][1])\n",
    "print(\"Effect is:\", model.summary().tables[1][3][1])\n",
    "print(\"pvalue is:\", model.summary().tables[1][3][4])\n",
    "model.summary().tables[1]"
   ]
  },
  {
   "cell_type": "code",
   "execution_count": 380,
   "metadata": {},
   "outputs": [
    {
     "name": "stdout",
     "output_type": "stream",
     "text": [
      "Baseline is:    -0.4313\n",
      "Effect is:     0.6439\n",
      "pvalue is:  0.004\n"
     ]
    },
    {
     "data": {
      "text/html": [
       "<table class=\"simpletable\">\n",
       "<tr>\n",
       "           <td></td>              <th>coef</th>     <th>std err</th>      <th>t</th>      <th>P>|t|</th>  <th>[0.025</th>    <th>0.975]</th>  \n",
       "</tr>\n",
       "<tr>\n",
       "  <th>Intercept</th>           <td>   -0.4313</td> <td>    0.155</td> <td>   -2.788</td> <td> 0.010</td> <td>   -0.749</td> <td>   -0.113</td>\n",
       "</tr>\n",
       "<tr>\n",
       "  <th>distance2</th>           <td>    0.0012</td> <td>    0.003</td> <td>    0.439</td> <td> 0.665</td> <td>   -0.004</td> <td>    0.007</td>\n",
       "</tr>\n",
       "<tr>\n",
       "  <th>threshold</th>           <td>    0.6439</td> <td>    0.201</td> <td>    3.199</td> <td> 0.004</td> <td>    0.230</td> <td>    1.058</td>\n",
       "</tr>\n",
       "<tr>\n",
       "  <th>distance2:threshold</th> <td>   -0.0008</td> <td>    0.003</td> <td>   -0.269</td> <td> 0.790</td> <td>   -0.007</td> <td>    0.006</td>\n",
       "</tr>\n",
       "</table>"
      ],
      "text/plain": [
       "<class 'statsmodels.iolib.table.SimpleTable'>"
      ]
     },
     "execution_count": 380,
     "metadata": {},
     "output_type": "execute_result"
    }
   ],
   "source": [
    "# try polynomial \n",
    "model = smf.wls(\"tsv ~ distance2*threshold\", df_rd, weights=df_rd[\"records\"]).fit()\n",
    "print(\"Baseline is:\", model.summary().tables[1][1][1])\n",
    "print(\"Effect is:\", model.summary().tables[1][3][1])\n",
    "print(\"pvalue is:\", model.summary().tables[1][3][4])\n",
    "model.summary().tables[1]"
   ]
  },
  {
   "cell_type": "code",
   "execution_count": 381,
   "metadata": {},
   "outputs": [
    {
     "data": {
      "image/png": "[encoded data removed]",
      "text/plain": [
       "<Figure size 720x432 with 1 Axes>"
      ]
     },
     "metadata": {
      "needs_background": "light"
     },
     "output_type": "display_data"
    }
   ],
   "source": [
    "plt.figure(figsize=(10, 6))\n",
    "# use the Helvetica Neue font\n",
    "plt.rcParams['font.sans-serif'] = \"Helvetica Neue\"\n",
    "# Split the data into two parts\n",
    "df_below = df_rd[df_rd['distance'] < 0]\n",
    "df_above = df_rd[df_rd['distance'] >= 0]\n",
    "# Scatter plot for points below the threshold\n",
    "plt.scatter(df_below['distance'], df_below['tsv'], s=df_below['records'], facecolors='none', edgecolors='red', label='South')\n",
    "# Scatter plot for points above the threshold\n",
    "plt.scatter(df_above['distance'], df_above['tsv'], s=df_above['records'], facecolors='none', edgecolors='blue', label='North')\n",
    "\n",
    "# plot less than 0 distance for model.fittedvalues\n",
    "plt.plot(df_rd['distance'][df_rd['distance'] < 0], model.fittedvalues[df_rd['distance'] < 0], color='r')\n",
    "# plot larger than 0 distance for model.fittedvalues\n",
    "plt.plot(df_rd['distance'][df_rd['distance'] >= 0], model.fittedvalues[df_rd['distance'] >= 0], color='b')\n",
    "# plot a vertical dash line at the threshold\n",
    "plt.axvline(x=0, color='k', linestyle=\"--\", linewidth=1)\n",
    "\n",
    "plt.xticks(fontsize=12)\n",
    "plt.yticks(fontsize=12)\n",
    "plt.xlim(-17, 17)\n",
    "plt.ylim(-3, 3)\n",
    "# increase the font size of labels\n",
    "plt.xlabel('Latitude distance from the Huai River', fontsize=14)\n",
    "plt.ylabel('Thermal Sensation Vote', fontsize=14)\n",
    "# show the legend below the x-label\n",
    "\n",
    "import matplotlib.patches as mpatches\n",
    "# Create custom legend handles\n",
    "blue_patch = mpatches.Patch(color='blue', label='Northern Cities')\n",
    "red_patch = mpatches.Patch(color='red', label='Southern Cities')\n",
    "plt.legend(handles=[red_patch, blue_patch], loc='upper center', bbox_to_anchor=(0.5, 1.1), ncol=2)\n",
    "plt.show()\n"
   ]
  },
  {
   "cell_type": "markdown",
   "metadata": {},
   "source": [
    "Assuming that the policy affects thermal sensations only through indoor thermal environment, represented by top and rh </br>\n",
    "Which means there is no psychological effect </br>\n",
    "Then, then increasing mean indoor top from 16.4 to 21.3 (5 delta) would increase thermal sensation from -0.4 to 0.2 (0.6 delta) </br>\n",
    "It's hard to compare with PMV model due to the unknown clo value. Two groups have the same clo, but which values to use is unceratin. At different values, PMV have different output delta TSV. "
   ]
  },
  {
   "cell_type": "markdown",
   "metadata": {},
   "source": [
    "correlation model"
   ]
  },
  {
   "cell_type": "code",
   "execution_count": 194,
   "metadata": {},
   "outputs": [
    {
     "data": {
      "text/html": [
       "<table class=\"simpletable\">\n",
       "<tr>\n",
       "      <td></td>         <th>coef</th>     <th>std err</th>      <th>t</th>      <th>P>|t|</th>  <th>[0.025</th>    <th>0.975]</th>  \n",
       "</tr>\n",
       "<tr>\n",
       "  <th>Intercept</th> <td>   -2.5081</td> <td>    0.259</td> <td>   -9.669</td> <td> 0.000</td> <td>   -3.039</td> <td>   -1.977</td>\n",
       "</tr>\n",
       "<tr>\n",
       "  <th>top</th>       <td>    0.1212</td> <td>    0.012</td> <td>    9.811</td> <td> 0.000</td> <td>    0.096</td> <td>    0.146</td>\n",
       "</tr>\n",
       "</table>"
      ],
      "text/plain": [
       "<class 'statsmodels.iolib.table.SimpleTable'>"
      ]
     },
     "execution_count": 194,
     "metadata": {},
     "output_type": "execute_result"
    }
   ],
   "source": [
    "model = smf.wls(\"tsv~top\", df_rd, weights=df_rd[\"records\"]).fit()\n",
    "model.summary().tables[1]"
   ]
  },
  {
   "cell_type": "code",
   "execution_count": 195,
   "metadata": {},
   "outputs": [
    {
     "data": {
      "image/png": "[encoded data removed]",
      "text/plain": [
       "<Figure size 720x432 with 1 Axes>"
      ]
     },
     "metadata": {
      "needs_background": "light"
     },
     "output_type": "display_data"
    }
   ],
   "source": [
    "# scatter plot tsv against operative temperature\n",
    "plt.figure(figsize=(10, 6))\n",
    "plt.scatter(df_rd['top'], df_rd['tsv'], s=df_rd['records'], facecolors='none', edgecolors='b')\n",
    "# plot the fitted values\n",
    "plt.plot(df_rd['top'], model.fittedvalues, color='red')\n",
    "plt.xlabel('Operative temperature')\n",
    "plt.ylabel('Thermal sensation vote')\n",
    "plt.show()"
   ]
  },
  {
   "cell_type": "code",
   "execution_count": 196,
   "metadata": {},
   "outputs": [
    {
     "name": "stdout",
     "output_type": "stream",
     "text": [
      "Predicted thermal sensation vote at 16.4 degree is: 0   -0.521092\n",
      "dtype: float64\n",
      "Predicted thermal sensation vote at 21.3 degree is: 0    0.072574\n",
      "dtype: float64\n"
     ]
    }
   ],
   "source": [
    "# calculate the predicted thermal sensation vote at operative temeprature at 16.4 and 21.3\n",
    "tsv_16 = model.predict(pd.DataFrame({'top': [16.4]}))\n",
    "tsv_21 = model.predict(pd.DataFrame({'top': [21.3]}))\n",
    "print(\"Predicted thermal sensation vote at 16.4 degree is:\", tsv_16)\n",
    "print(\"Predicted thermal sensation vote at 21.3 degree is:\", tsv_21)"
   ]
  },
  {
   "cell_type": "code",
   "execution_count": 197,
   "metadata": {},
   "outputs": [
    {
     "name": "stdout",
     "output_type": "stream",
     "text": [
      "Total buildings: 809\n",
      "Total records: 109033\n"
     ]
    },
    {
     "name": "stderr",
     "output_type": "stream",
     "text": [
      "/var/folders/v0/03v41tbn7072cjr0b3ddfgjw0000gn/T/ipykernel_3831/2919751080.py:7: DtypeWarning: Columns (5,35,36) have mixed types. Specify dtype option on import or set low_memory=False.\n",
      "  df_measurements = pd.read_csv(url_measurements)\n"
     ]
    }
   ],
   "source": [
    "# ASHRAE db2\n",
    "url_meta = \"https://github.com/CenterForTheBuiltEnvironment/ashrae-db-II/raw/master/v2.1.0/db_metadata.csv\"\n",
    "df_meta = pd.read_csv(url_meta)\n",
    "\n",
    "# Read database from Github\n",
    "url_measurements = \"https://github.com/CenterForTheBuiltEnvironment/ashrae-db-II/raw/master/v2.1.0/db_measurements_v2.1.0.csv.gz\"\n",
    "df_measurements = pd.read_csv(url_measurements)\n",
    "\n",
    "# Merge building metadata and measurement data\n",
    "df_rawdata = df_measurements.merge(df_meta[['building_id', 'building_type', 'cooling_type', 'records', 'climate']], on='building_id', how='left')\n",
    "\n",
    "print('Total buildings:', len(df_rawdata.building_id.unique()))\n",
    "print('Total records:', len(df_rawdata))"
   ]
  },
  {
   "cell_type": "code",
   "execution_count": 198,
   "metadata": {},
   "outputs": [],
   "source": [
    "# group by building id and calculate the mean of top and thermal_sensation, and records\n",
    "df_grouped = df_rawdata.groupby('building_id').agg({'top': 'mean', 'thermal_sensation': 'mean', 'records': 'mean'}).reset_index()\n"
   ]
  },
  {
   "cell_type": "code",
   "execution_count": 199,
   "metadata": {},
   "outputs": [
    {
     "data": {
      "text/html": [
       "<div>\n",
       "<style scoped>\n",
       "    .dataframe tbody tr th:only-of-type {\n",
       "        vertical-align: middle;\n",
       "    }\n",
       "\n",
       "    .dataframe tbody tr th {\n",
       "        vertical-align: top;\n",
       "    }\n",
       "\n",
       "    .dataframe thead th {\n",
       "        text-align: right;\n",
       "    }\n",
       "</style>\n",
       "<table border=\"1\" class=\"dataframe\">\n",
       "  <thead>\n",
       "    <tr style=\"text-align: right;\">\n",
       "      <th></th>\n",
       "      <th>building_id</th>\n",
       "      <th>top</th>\n",
       "      <th>thermal_sensation</th>\n",
       "      <th>records</th>\n",
       "    </tr>\n",
       "  </thead>\n",
       "  <tbody>\n",
       "    <tr>\n",
       "      <th>0</th>\n",
       "      <td>1</td>\n",
       "      <td>23.246958</td>\n",
       "      <td>0.627219</td>\n",
       "      <td>170.0</td>\n",
       "    </tr>\n",
       "    <tr>\n",
       "      <th>1</th>\n",
       "      <td>2</td>\n",
       "      <td>22.283912</td>\n",
       "      <td>-0.072289</td>\n",
       "      <td>83.0</td>\n",
       "    </tr>\n",
       "    <tr>\n",
       "      <th>2</th>\n",
       "      <td>3</td>\n",
       "      <td>23.178237</td>\n",
       "      <td>0.252941</td>\n",
       "      <td>85.0</td>\n",
       "    </tr>\n",
       "    <tr>\n",
       "      <th>3</th>\n",
       "      <td>4</td>\n",
       "      <td>23.992550</td>\n",
       "      <td>0.103704</td>\n",
       "      <td>137.0</td>\n",
       "    </tr>\n",
       "    <tr>\n",
       "      <th>4</th>\n",
       "      <td>5</td>\n",
       "      <td>22.095310</td>\n",
       "      <td>-0.063281</td>\n",
       "      <td>128.0</td>\n",
       "    </tr>\n",
       "  </tbody>\n",
       "</table>\n",
       "</div>"
      ],
      "text/plain": [
       "   building_id        top  thermal_sensation  records\n",
       "0            1  23.246958           0.627219    170.0\n",
       "1            2  22.283912          -0.072289     83.0\n",
       "2            3  23.178237           0.252941     85.0\n",
       "3            4  23.992550           0.103704    137.0\n",
       "4            5  22.095310          -0.063281    128.0"
      ]
     },
     "execution_count": 199,
     "metadata": {},
     "output_type": "execute_result"
    }
   ],
   "source": [
    "df_grouped.head()"
   ]
  },
  {
   "cell_type": "code",
   "execution_count": 200,
   "metadata": {},
   "outputs": [],
   "source": [
    "model = smf.wls(\"thermal_sensation~top\", df_grouped, weights=df_grouped[\"records\"]).fit()"
   ]
  },
  {
   "cell_type": "code",
   "execution_count": 201,
   "metadata": {},
   "outputs": [
    {
     "data": {
      "text/html": [
       "<table class=\"simpletable\">\n",
       "<tr>\n",
       "      <td></td>         <th>coef</th>     <th>std err</th>      <th>t</th>      <th>P>|t|</th>  <th>[0.025</th>    <th>0.975]</th>  \n",
       "</tr>\n",
       "<tr>\n",
       "  <th>Intercept</th> <td>   -2.5576</td> <td>    0.148</td> <td>  -17.270</td> <td> 0.000</td> <td>   -2.848</td> <td>   -2.267</td>\n",
       "</tr>\n",
       "<tr>\n",
       "  <th>top</th>       <td>    0.1091</td> <td>    0.006</td> <td>   18.304</td> <td> 0.000</td> <td>    0.097</td> <td>    0.121</td>\n",
       "</tr>\n",
       "</table>"
      ],
      "text/plain": [
       "<class 'statsmodels.iolib.table.SimpleTable'>"
      ]
     },
     "execution_count": 201,
     "metadata": {},
     "output_type": "execute_result"
    }
   ],
   "source": [
    "model.summary().tables[1]"
   ]
  },
  {
   "cell_type": "code",
   "execution_count": 202,
   "metadata": {},
   "outputs": [
    {
     "data": {
      "image/png": "[encoded data removed]",
      "text/plain": [
       "<Figure size 720x432 with 1 Axes>"
      ]
     },
     "metadata": {
      "needs_background": "light"
     },
     "output_type": "display_data"
    }
   ],
   "source": [
    "# plot top against tsv\n",
    "plt.figure(figsize=(10, 6))\n",
    "plt.scatter(df_grouped['top'], df_grouped['thermal_sensation'], s=df_grouped['records'], facecolors='none', edgecolors='b')\n",
    "plt.xlabel('Operative temperature')\n",
    "plt.ylabel('Thermal sensation vote')\n",
    "plt.show()\n"
   ]
  },
  {
   "cell_type": "markdown",
   "metadata": {},
   "source": [
    "the correlational effect is very similar to causal effect!"
   ]
  },
  {
   "cell_type": "markdown",
   "metadata": {},
   "source": [
    "### Comfort Vote - No\n",
    "heat realted outcome data, heat related hospital visiting"
   ]
  },
  {
   "cell_type": "code",
   "execution_count": 382,
   "metadata": {},
   "outputs": [
    {
     "name": "stdout",
     "output_type": "stream",
     "text": [
      "Baseline is:     1.6940\n",
      "Effect is:    -0.2112\n",
      "pvalue is:  0.468\n"
     ]
    },
    {
     "data": {
      "text/html": [
       "<table class=\"simpletable\">\n",
       "<tr>\n",
       "           <td></td>             <th>coef</th>     <th>std err</th>      <th>t</th>      <th>P>|t|</th>  <th>[0.025</th>    <th>0.975]</th>  \n",
       "</tr>\n",
       "<tr>\n",
       "  <th>Intercept</th>          <td>    1.6940</td> <td>    0.240</td> <td>    7.046</td> <td> 0.000</td> <td>    1.198</td> <td>    2.190</td>\n",
       "</tr>\n",
       "<tr>\n",
       "  <th>distance</th>           <td>   -0.0035</td> <td>    0.038</td> <td>   -0.093</td> <td> 0.927</td> <td>   -0.082</td> <td>    0.075</td>\n",
       "</tr>\n",
       "<tr>\n",
       "  <th>threshold</th>          <td>   -0.2112</td> <td>    0.286</td> <td>   -0.738</td> <td> 0.468</td> <td>   -0.802</td> <td>    0.379</td>\n",
       "</tr>\n",
       "<tr>\n",
       "  <th>distance:threshold</th> <td>    0.0103</td> <td>    0.043</td> <td>    0.240</td> <td> 0.812</td> <td>   -0.078</td> <td>    0.099</td>\n",
       "</tr>\n",
       "</table>"
      ],
      "text/plain": [
       "<class 'statsmodels.iolib.table.SimpleTable'>"
      ]
     },
     "execution_count": 382,
     "metadata": {},
     "output_type": "execute_result"
    }
   ],
   "source": [
    "model = smf.wls(\"tcv~distance*threshold\", df_rd, weights=df_rd[\"records\"]).fit()\n",
    "print(\"Baseline is:\", model.summary().tables[1][1][1])\n",
    "print(\"Effect is:\", model.summary().tables[1][3][1])\n",
    "print(\"pvalue is:\", model.summary().tables[1][3][4])\n",
    "model.summary().tables[1]"
   ]
  },
  {
   "cell_type": "code",
   "execution_count": 383,
   "metadata": {},
   "outputs": [
    {
     "data": {
      "text/html": [
       "<table class=\"simpletable\">\n",
       "<tr>\n",
       "           <td></td>              <th>coef</th>     <th>std err</th>      <th>t</th>      <th>P>|t|</th>  <th>[0.025</th>    <th>0.975]</th>  \n",
       "</tr>\n",
       "<tr>\n",
       "  <th>Intercept</th>           <td>    1.7729</td> <td>    0.164</td> <td>   10.816</td> <td> 0.000</td> <td>    1.435</td> <td>    2.111</td>\n",
       "</tr>\n",
       "<tr>\n",
       "  <th>distance2</th>           <td>   -0.0015</td> <td>    0.003</td> <td>   -0.535</td> <td> 0.598</td> <td>   -0.007</td> <td>    0.004</td>\n",
       "</tr>\n",
       "<tr>\n",
       "  <th>threshold</th>           <td>   -0.2992</td> <td>    0.207</td> <td>   -1.444</td> <td> 0.162</td> <td>   -0.727</td> <td>    0.128</td>\n",
       "</tr>\n",
       "<tr>\n",
       "  <th>distance2:threshold</th> <td>    0.0023</td> <td>    0.003</td> <td>    0.743</td> <td> 0.465</td> <td>   -0.004</td> <td>    0.009</td>\n",
       "</tr>\n",
       "</table>"
      ],
      "text/plain": [
       "<class 'statsmodels.iolib.table.SimpleTable'>"
      ]
     },
     "execution_count": 383,
     "metadata": {},
     "output_type": "execute_result"
    }
   ],
   "source": [
    "# try polynomial \n",
    "model = smf.wls(\"tcv ~ distance2*threshold\", df_rd, weights=df_rd[\"records\"]).fit()\n",
    "model.summary().tables[1]"
   ]
  },
  {
   "cell_type": "code",
   "execution_count": 384,
   "metadata": {},
   "outputs": [
    {
     "data": {
      "image/png": "[encoded data removed]",
      "text/plain": [
       "<Figure size 720x432 with 1 Axes>"
      ]
     },
     "metadata": {
      "needs_background": "light"
     },
     "output_type": "display_data"
    }
   ],
   "source": [
    "# Define a range of distance values\n",
    "distance_values = np.linspace(df_rd['distance'].min(), df_rd['distance'].max(), 100)\n",
    "distance2_values = distance_values ** 2\n",
    "\n",
    "# Prepare a DataFrame for predictions\n",
    "predict_df = pd.DataFrame({\n",
    "    'distance': distance_values,\n",
    "    'distance2': distance2_values,\n",
    "    'threshold': (distance_values >= 0).astype(int)  # 1 if distance >= 0, else 0\n",
    "})\n",
    "\n",
    "# Generate predictions using the model\n",
    "predict_df['predictions'] = model.predict(predict_df)\n",
    "\n",
    "# Plot the data and the model's fitted values\n",
    "plt.figure(figsize=(10, 6))\n",
    "\n",
    "# Scatter plot for points below and above the threshold\n",
    "df_below = df_rd[df_rd['distance'] < 0]\n",
    "df_above = df_rd[df_rd['distance'] >= 0]\n",
    "plt.scatter(df_below['distance'], df_below['tcv'], s=df_below['records'], facecolors='none', edgecolors='red', label='South')\n",
    "plt.scatter(df_above['distance'], df_above['tcv'], s=df_above['records'], facecolors='none', edgecolors='blue', label='North')\n",
    "\n",
    "# Plot the fitted values from the prediction DataFrame\n",
    "plt.plot(predict_df['distance'][predict_df['threshold'] == 0], predict_df['predictions'][predict_df['threshold'] == 0], color='red')\n",
    "plt.plot(predict_df['distance'][predict_df['threshold'] == 1], predict_df['predictions'][predict_df['threshold'] == 1], color='blue')\n",
    "\n",
    "# Add a vertical dashed line at the threshold\n",
    "plt.axvline(x=0, color='k', linestyle=\"--\", linewidth=1)\n",
    "\n",
    "# Label and style the plot\n",
    "plt.xticks(fontsize=12)\n",
    "plt.yticks(fontsize=12)\n",
    "plt.xlim(-17, 17)\n",
    "plt.ylim(0, 5)\n",
    "plt.xlabel('Latitude Distance from the Huai River', fontsize=14)\n",
    "plt.ylabel('Thermal Comfort Vote', fontsize=14)\n",
    "\n",
    "# Add custom legend\n",
    "blue_patch = mpatches.Patch(color='blue', label='Northern Cities')\n",
    "red_patch = mpatches.Patch(color='red', label='Southern Cities')\n",
    "plt.legend(handles=[red_patch, blue_patch], loc='upper center', bbox_to_anchor=(0.5, 1.1), ncol=2)\n",
    "\n",
    "plt.show()\n"
   ]
  },
  {
   "cell_type": "markdown",
   "metadata": {},
   "source": [
    "### Satisfaction Rate - No"
   ]
  },
  {
   "cell_type": "code",
   "execution_count": 330,
   "metadata": {},
   "outputs": [
    {
     "name": "stdout",
     "output_type": "stream",
     "text": [
      "Baseline is:     0.8135\n",
      "Effect is:     0.0392\n",
      "pvalue is:  0.610\n"
     ]
    },
    {
     "data": {
      "text/html": [
       "<table class=\"simpletable\">\n",
       "<tr>\n",
       "           <td></td>             <th>coef</th>     <th>std err</th>      <th>t</th>      <th>P>|t|</th>  <th>[0.025</th>    <th>0.975]</th>  \n",
       "</tr>\n",
       "<tr>\n",
       "  <th>Intercept</th>          <td>    0.8135</td> <td>    0.062</td> <td>   13.100</td> <td> 0.000</td> <td>    0.686</td> <td>    0.941</td>\n",
       "</tr>\n",
       "<tr>\n",
       "  <th>distance</th>           <td>   -0.0028</td> <td>    0.010</td> <td>   -0.272</td> <td> 0.787</td> <td>   -0.024</td> <td>    0.018</td>\n",
       "</tr>\n",
       "<tr>\n",
       "  <th>threshold</th>          <td>    0.0392</td> <td>    0.076</td> <td>    0.517</td> <td> 0.610</td> <td>   -0.117</td> <td>    0.195</td>\n",
       "</tr>\n",
       "<tr>\n",
       "  <th>distance:threshold</th> <td>    0.0017</td> <td>    0.012</td> <td>    0.149</td> <td> 0.883</td> <td>   -0.022</td> <td>    0.026</td>\n",
       "</tr>\n",
       "</table>"
      ],
      "text/plain": [
       "<class 'statsmodels.iolib.table.SimpleTable'>"
      ]
     },
     "execution_count": 330,
     "metadata": {},
     "output_type": "execute_result"
    }
   ],
   "source": [
    "model = smf.wls(\"tsr~distance*threshold\", df_rd, weights=df_rd[\"records\"]).fit()\n",
    "print(\"Baseline is:\", model.summary().tables[1][1][1])\n",
    "print(\"Effect is:\", model.summary().tables[1][3][1])\n",
    "print(\"pvalue is:\", model.summary().tables[1][3][4])\n",
    "model.summary().tables[1]"
   ]
  },
  {
   "cell_type": "code",
   "execution_count": 375,
   "metadata": {},
   "outputs": [
    {
     "data": {
      "text/html": [
       "<table class=\"simpletable\">\n",
       "<tr>\n",
       "           <td></td>              <th>coef</th>     <th>std err</th>      <th>t</th>      <th>P>|t|</th>  <th>[0.025</th>    <th>0.975]</th>  \n",
       "</tr>\n",
       "<tr>\n",
       "  <th>Intercept</th>           <td>    0.8171</td> <td>    0.043</td> <td>   19.077</td> <td> 0.000</td> <td>    0.729</td> <td>    0.905</td>\n",
       "</tr>\n",
       "<tr>\n",
       "  <th>distance2</th>           <td>    0.0003</td> <td>    0.001</td> <td>    0.384</td> <td> 0.704</td> <td>   -0.001</td> <td>    0.002</td>\n",
       "</tr>\n",
       "<tr>\n",
       "  <th>threshold</th>           <td>    0.0424</td> <td>    0.056</td> <td>    0.762</td> <td> 0.453</td> <td>   -0.072</td> <td>    0.157</td>\n",
       "</tr>\n",
       "<tr>\n",
       "  <th>distance2:threshold</th> <td>   -0.0005</td> <td>    0.001</td> <td>   -0.590</td> <td> 0.560</td> <td>   -0.002</td> <td>    0.001</td>\n",
       "</tr>\n",
       "</table>"
      ],
      "text/plain": [
       "<class 'statsmodels.iolib.table.SimpleTable'>"
      ]
     },
     "execution_count": 375,
     "metadata": {},
     "output_type": "execute_result"
    }
   ],
   "source": [
    "# try polynomial \n",
    "model = smf.wls(\"tsr ~ distance2*threshold\", df_rd, weights=df_rd[\"records\"]).fit()\n",
    "model.summary().tables[1]"
   ]
  },
  {
   "cell_type": "code",
   "execution_count": 378,
   "metadata": {},
   "outputs": [
    {
     "data": {
      "image/png": "[encoded data removed]",
      "text/plain": [
       "<Figure size 720x432 with 1 Axes>"
      ]
     },
     "metadata": {
      "needs_background": "light"
     },
     "output_type": "display_data"
    }
   ],
   "source": [
    "\n",
    "\n",
    "# Define a range of distance values\n",
    "distance_values = np.linspace(df_rd['distance'].min(), df_rd['distance'].max(), 100)\n",
    "distance2_values = distance_values ** 2\n",
    "\n",
    "# Prepare a DataFrame for predictions\n",
    "predict_df = pd.DataFrame({\n",
    "    'distance': distance_values,\n",
    "    'distance2': distance2_values,\n",
    "    'threshold': (distance_values >= 0).astype(int)  # 1 if distance >= 0, else 0\n",
    "})\n",
    "\n",
    "# Generate predictions using the model\n",
    "predict_df['predictions'] = model.predict(predict_df)\n",
    "\n",
    "# Plot the data and the model's fitted values\n",
    "plt.figure(figsize=(10, 6))\n",
    "\n",
    "# Scatter plot for points below and above the threshold\n",
    "df_below = df_rd[df_rd['distance'] < 0]\n",
    "df_above = df_rd[df_rd['distance'] >= 0]\n",
    "plt.scatter(df_below['distance'], df_below['tsr'], s=df_below['records'], facecolors='none', edgecolors='red', label='South')\n",
    "plt.scatter(df_above['distance'], df_above['tsr'], s=df_above['records'], facecolors='none', edgecolors='blue', label='North')\n",
    "\n",
    "# Plot the fitted values from the prediction DataFrame\n",
    "plt.plot(predict_df['distance'][predict_df['threshold'] == 0], predict_df['predictions'][predict_df['threshold'] == 0], color='red')\n",
    "plt.plot(predict_df['distance'][predict_df['threshold'] == 1], predict_df['predictions'][predict_df['threshold'] == 1], color='blue')\n",
    "\n",
    "# Add a vertical dashed line at the threshold\n",
    "plt.axvline(x=0, color='k', linestyle=\"--\", linewidth=1)\n",
    "\n",
    "# Label and style the plot\n",
    "plt.xticks(fontsize=12)\n",
    "plt.yticks(fontsize=12)\n",
    "plt.xlim(-17, 17)\n",
    "# plt.ylim(0, 1)\n",
    "plt.xlabel('Lattitude Distance from the Huai River', fontsize=14)\n",
    "plt.ylabel('Thermal Satisfaction Rate', fontsize=14)\n",
    "\n",
    "# Add custom legend\n",
    "blue_patch = mpatches.Patch(color='blue', label='Northern Cities')\n",
    "red_patch = mpatches.Patch(color='red', label='Southern Cities')\n",
    "plt.legend(handles=[red_patch, blue_patch], loc='upper center', bbox_to_anchor=(0.5, 1.1), ncol=2)\n",
    "\n",
    "plt.show()\n"
   ]
  },
  {
   "cell_type": "code",
   "execution_count": 312,
   "metadata": {},
   "outputs": [
    {
     "data": {
      "text/html": [
       "<table class=\"simpletable\">\n",
       "<tr>\n",
       "      <td></td>         <th>coef</th>     <th>std err</th>      <th>t</th>      <th>P>|t|</th>  <th>[0.025</th>    <th>0.975]</th>  \n",
       "</tr>\n",
       "<tr>\n",
       "  <th>Intercept</th> <td>    0.5832</td> <td>    0.107</td> <td>    5.476</td> <td> 0.000</td> <td>    0.365</td> <td>    0.801</td>\n",
       "</tr>\n",
       "<tr>\n",
       "  <th>top</th>       <td>    0.0124</td> <td>    0.005</td> <td>    2.436</td> <td> 0.021</td> <td>    0.002</td> <td>    0.023</td>\n",
       "</tr>\n",
       "</table>"
      ],
      "text/plain": [
       "<class 'statsmodels.iolib.table.SimpleTable'>"
      ]
     },
     "execution_count": 312,
     "metadata": {},
     "output_type": "execute_result"
    }
   ],
   "source": [
    "model = smf.wls(\"tsr~top\", df_rd, weights=df_rd[\"records\"]).fit()\n",
    "model.summary().tables[1]"
   ]
  },
  {
   "cell_type": "code",
   "execution_count": 361,
   "metadata": {},
   "outputs": [
    {
     "data": {
      "image/png": "[encoded data removed]",
      "text/plain": [
       "<Figure size 720x432 with 1 Axes>"
      ]
     },
     "metadata": {
      "needs_background": "light"
     },
     "output_type": "display_data"
    }
   ],
   "source": [
    "import matplotlib.pyplot as plt\n",
    "import statsmodels.formula.api as smf\n",
    "import pandas as pd\n",
    "\n",
    "# Fit the model for the whole dataset\n",
    "model_whole = smf.ols(\"tsr ~ top\", data=df_rd).fit()\n",
    "\n",
    "# Split the data into two parts based on the threshold of 16 degrees\n",
    "threshold = 16\n",
    "df_below = df_rd[df_rd['top'] < threshold]\n",
    "df_above = df_rd[df_rd['top'] >= threshold]\n",
    "\n",
    "# Fit the models for each group\n",
    "model_below = smf.ols(\"tsr ~ top\", data=df_below).fit()\n",
    "model_above = smf.ols(\"tsr ~ top\", data=df_above).fit()\n",
    "\n",
    "plt.rcParams['font.sans-serif'] = \"Helvetica Neue\"\n",
    "# Scatter plot\n",
    "plt.figure(figsize=(10, 6))\n",
    "\n",
    "# Scatter plot for points below the threshold\n",
    "plt.scatter(df_below['top'], df_below['tsr'], s=df_below['records'], facecolors='none', edgecolors='red', label='Below 16°C')\n",
    "\n",
    "# Scatter plot for points above the threshold\n",
    "plt.scatter(df_above['top'], df_above['tsr'], s=df_above['records'], facecolors='none', edgecolors='blue', label='Above 16°C')\n",
    "\n",
    "# Sort the data for plotting the regression line\n",
    "df_rd_sorted = df_rd.sort_values(by='top')\n",
    "\n",
    "# Plot the fitted values for the whole dataset as a dashed black line\n",
    "plt.plot(df_rd_sorted['top'], model_whole.predict(df_rd_sorted), color='black', linestyle='--', label='Whole Data')\n",
    "\n",
    "# Plot the fitted values for below 16 degrees\n",
    "plt.plot(df_below['top'], model_below.fittedvalues, color='red', label='Below 16°C')\n",
    "\n",
    "# Plot the fitted values for above 16 degrees\n",
    "plt.plot(df_above['top'], model_above.fittedvalues, color='blue', label='Above 16°C')\n",
    "\n",
    "# Add labels and title\n",
    "plt.xticks(fontsize=12)\n",
    "plt.yticks(fontsize=12)\n",
    "plt.xlabel('Indoor Operative temperature', fontsize=14)\n",
    "plt.ylabel('Thermal Satisfaction Rate', fontsize=14)\n",
    "plt.title('Spurious Correlations', fontsize=16)\n",
    "# plt.legend()\n",
    "plt.show()"
   ]
  },
  {
   "cell_type": "code",
   "execution_count": 211,
   "metadata": {},
   "outputs": [
    {
     "name": "stdout",
     "output_type": "stream",
     "text": [
      "Predicted thermal satisfaction rate at 16.4 degree is: 0    0.785842\n",
      "dtype: float64\n",
      "Predicted thermal satisfaction rate at 21.3 degree is: 0    0.846382\n",
      "dtype: float64\n"
     ]
    }
   ],
   "source": [
    "# calculate the predicted thermal sensation vote at operative temeprature at 16.4 and 21.3\n",
    "tsr_16 = model.predict(pd.DataFrame({'top': [16.4]}))\n",
    "tsr_21 = model.predict(pd.DataFrame({'top': [21.3]}))\n",
    "print(\"Predicted thermal satisfaction rate at 16.4 degree is:\", tsr_16)\n",
    "print(\"Predicted thermal satisfaction rate at 21.3 degree is:\", tsr_21)"
   ]
  },
  {
   "cell_type": "markdown",
   "metadata": {},
   "source": [
    "### Acceptablity Vote - No"
   ]
  },
  {
   "cell_type": "code",
   "execution_count": 212,
   "metadata": {},
   "outputs": [
    {
     "name": "stdout",
     "output_type": "stream",
     "text": [
      "Baseline is:     0.2778\n",
      "Effect is:    -0.0776\n",
      "pvalue is:  0.489\n"
     ]
    },
    {
     "data": {
      "text/html": [
       "<table class=\"simpletable\">\n",
       "<tr>\n",
       "           <td></td>             <th>coef</th>     <th>std err</th>      <th>t</th>      <th>P>|t|</th>  <th>[0.025</th>    <th>0.975]</th>  \n",
       "</tr>\n",
       "<tr>\n",
       "  <th>Intercept</th>          <td>    0.2778</td> <td>    0.089</td> <td>    3.109</td> <td> 0.005</td> <td>    0.093</td> <td>    0.463</td>\n",
       "</tr>\n",
       "<tr>\n",
       "  <th>distance</th>           <td>   -0.0219</td> <td>    0.014</td> <td>   -1.548</td> <td> 0.135</td> <td>   -0.051</td> <td>    0.007</td>\n",
       "</tr>\n",
       "<tr>\n",
       "  <th>threshold</th>          <td>   -0.0776</td> <td>    0.110</td> <td>   -0.703</td> <td> 0.489</td> <td>   -0.306</td> <td>    0.151</td>\n",
       "</tr>\n",
       "<tr>\n",
       "  <th>distance:threshold</th> <td>    0.0680</td> <td>    0.016</td> <td>    4.203</td> <td> 0.000</td> <td>    0.035</td> <td>    0.101</td>\n",
       "</tr>\n",
       "</table>"
      ],
      "text/plain": [
       "<class 'statsmodels.iolib.table.SimpleTable'>"
      ]
     },
     "execution_count": 212,
     "metadata": {},
     "output_type": "execute_result"
    }
   ],
   "source": [
    "model = smf.wls(\"tav~distance*threshold\", df_rd, weights=df_rd[\"records\"]).fit()\n",
    "print(\"Baseline is:\", model.summary().tables[1][1][1])\n",
    "print(\"Effect is:\", model.summary().tables[1][3][1])\n",
    "print(\"pvalue is:\", model.summary().tables[1][3][4])\n",
    "model.summary().tables[1]"
   ]
  },
  {
   "cell_type": "code",
   "execution_count": 213,
   "metadata": {},
   "outputs": [
    {
     "data": {
      "image/png": "[encoded data removed]",
      "text/plain": [
       "<Figure size 720x432 with 1 Axes>"
      ]
     },
     "metadata": {
      "needs_background": "light"
     },
     "output_type": "display_data"
    }
   ],
   "source": [
    "# scatter plot tsv against operative temperature\n",
    "plt.figure(figsize=(10, 6))\n",
    "plt.scatter(df_rd['top'], df_rd['tav'], s=df_rd['records'], facecolors='none', edgecolors='b')\n",
    "# plot the fitted values\n",
    "plt.xlabel('Operative temperature')\n",
    "plt.ylabel('Thermal satisfaction rate')\n",
    "plt.show()"
   ]
  },
  {
   "cell_type": "markdown",
   "metadata": {},
   "source": [
    "## Effect of P on Neutral Temperature (tricky)\n"
   ]
  },
  {
   "cell_type": "code",
   "execution_count": 214,
   "metadata": {},
   "outputs": [
    {
     "name": "stdout",
     "output_type": "stream",
     "text": [
      "Causal effect is:     3.3097\n",
      "p-value is:  0.046\n"
     ]
    },
    {
     "data": {
      "text/html": [
       "<table class=\"simpletable\">\n",
       "<tr>\n",
       "           <td></td>             <th>coef</th>     <th>std err</th>      <th>t</th>      <th>P>|t|</th>  <th>[0.025</th>    <th>0.975]</th>  \n",
       "</tr>\n",
       "<tr>\n",
       "  <th>Intercept</th>          <td>   17.4589</td> <td>    1.291</td> <td>   13.522</td> <td> 0.000</td> <td>   14.805</td> <td>   20.113</td>\n",
       "</tr>\n",
       "<tr>\n",
       "  <th>distance</th>           <td>   -0.3840</td> <td>    0.212</td> <td>   -1.813</td> <td> 0.081</td> <td>   -0.819</td> <td>    0.051</td>\n",
       "</tr>\n",
       "<tr>\n",
       "  <th>threshold</th>          <td>    3.3097</td> <td>    1.576</td> <td>    2.100</td> <td> 0.046</td> <td>    0.070</td> <td>    6.549</td>\n",
       "</tr>\n",
       "<tr>\n",
       "  <th>distance:threshold</th> <td>    0.4912</td> <td>    0.241</td> <td>    2.036</td> <td> 0.052</td> <td>   -0.005</td> <td>    0.987</td>\n",
       "</tr>\n",
       "</table>"
      ],
      "text/plain": [
       "<class 'statsmodels.iolib.table.SimpleTable'>"
      ]
     },
     "execution_count": 214,
     "metadata": {},
     "output_type": "execute_result"
    }
   ],
   "source": [
    "# needs one more non-NaN neutral temperature/comfort zone calcualted by regression approach a and b\n",
    "# neutral temperature calcualted by Griffth method, and using measured globe temperature\n",
    "model = smf.wls(\"tn_op~distance*threshold\", df_rd, weights=df_rd[\"records\"]).fit()\n",
    "print(\"Causal effect is:\", model.summary().tables[1][3][1])\n",
    "print(\"p-value is:\", model.summary().tables[1][3][4])\n",
    "model.summary().tables[1]"
   ]
  },
  {
   "cell_type": "code",
   "execution_count": 215,
   "metadata": {},
   "outputs": [
    {
     "data": {
      "image/png": "[encoded data removed]",
      "text/plain": [
       "<Figure size 432x288 with 1 Axes>"
      ]
     },
     "metadata": {
      "needs_background": "light"
     },
     "output_type": "display_data"
    }
   ],
   "source": [
    "# scatter plot tn_op vs distance\n",
    "plt.scatter(df_rd['distance'], df_rd['tn_op'], s=df_rd['records'], facecolors='none', edgecolors='b')\n",
    "plt.plot(df_rd['distance'][df_rd['distance'] < 0], model.fittedvalues[df_rd['distance'] < 0], color='red')\n",
    "plt.plot(df_rd['distance'][df_rd['distance'] >= 0], model.fittedvalues[df_rd['distance'] >= 0], color='red')\n",
    "plt.xlabel('Distance')\n",
    "plt.ylabel('Neutral temperature')\n",
    "plt.title(\"Regression Discontinuity\")\n",
    "plt.show()"
   ]
  },
  {
   "cell_type": "markdown",
   "metadata": {},
   "source": []
  },
  {
   "cell_type": "markdown",
   "metadata": {},
   "source": [
    "Assuming that the policy can only affect the neutral temperature through indoor thermal enviornment, represented by the tg. Then the causal effect of indoor globe temperature on neutral temperature is 4.6279/5.2973 = 0.87 (95% CI:0.64, 0.92)"
   ]
  },
  {
   "cell_type": "markdown",
   "metadata": {},
   "source": [
    "## Effect of X on Comfort Vote\n",
    "The assumption is that the district heating policy affects Y only through indoor thermal environment, represented by  </br>\n",
    "\n",
    "P -> X -> Y"
   ]
  },
  {
   "cell_type": "markdown",
   "metadata": {},
   "source": [
    "## Use outdoor design temperaure"
   ]
  },
  {
   "cell_type": "code",
   "execution_count": 241,
   "metadata": {},
   "outputs": [
    {
     "data": {
      "text/html": [
       "<div>\n",
       "<style scoped>\n",
       "    .dataframe tbody tr th:only-of-type {\n",
       "        vertical-align: middle;\n",
       "    }\n",
       "\n",
       "    .dataframe tbody tr th {\n",
       "        vertical-align: top;\n",
       "    }\n",
       "\n",
       "    .dataframe thead th {\n",
       "        text-align: right;\n",
       "    }\n",
       "</style>\n",
       "<table border=\"1\" class=\"dataframe\">\n",
       "  <thead>\n",
       "    <tr style=\"text-align: right;\">\n",
       "      <th></th>\n",
       "      <th>city</th>\n",
       "      <th>records</th>\n",
       "      <th>top</th>\n",
       "      <th>top_std</th>\n",
       "      <th>rh</th>\n",
       "      <th>rh_std</th>\n",
       "      <th>twb</th>\n",
       "      <th>vel</th>\n",
       "      <th>met</th>\n",
       "      <th>clo</th>\n",
       "      <th>...</th>\n",
       "      <th>t_out</th>\n",
       "      <th>t_out_min</th>\n",
       "      <th>latitude</th>\n",
       "      <th>tsr</th>\n",
       "      <th>tn_op</th>\n",
       "      <th>p_dh</th>\n",
       "      <th>p_nv</th>\n",
       "      <th>distance</th>\n",
       "      <th>threshold</th>\n",
       "      <th>distance2</th>\n",
       "    </tr>\n",
       "  </thead>\n",
       "  <tbody>\n",
       "    <tr>\n",
       "      <th>32</th>\n",
       "      <td>HeilongjiangHarbin</td>\n",
       "      <td>3552</td>\n",
       "      <td>22.71</td>\n",
       "      <td>2.63</td>\n",
       "      <td>32.61</td>\n",
       "      <td>10.32</td>\n",
       "      <td>13.47</td>\n",
       "      <td>0.04</td>\n",
       "      <td>1.01</td>\n",
       "      <td>0.92</td>\n",
       "      <td>...</td>\n",
       "      <td>-7.17</td>\n",
       "      <td>-17.4</td>\n",
       "      <td>45.75</td>\n",
       "      <td>0.82</td>\n",
       "      <td>21.97</td>\n",
       "      <td>1.00</td>\n",
       "      <td>0.00</td>\n",
       "      <td>11.75</td>\n",
       "      <td>1</td>\n",
       "      <td>138.0625</td>\n",
       "    </tr>\n",
       "    <tr>\n",
       "      <th>30</th>\n",
       "      <td>LiaoningBenxi</td>\n",
       "      <td>22</td>\n",
       "      <td>19.74</td>\n",
       "      <td>2.60</td>\n",
       "      <td>41.09</td>\n",
       "      <td>13.80</td>\n",
       "      <td>12.15</td>\n",
       "      <td>0.00</td>\n",
       "      <td>0.96</td>\n",
       "      <td>1.04</td>\n",
       "      <td>...</td>\n",
       "      <td>-0.91</td>\n",
       "      <td>-10.9</td>\n",
       "      <td>41.29</td>\n",
       "      <td>0.73</td>\n",
       "      <td>20.08</td>\n",
       "      <td>1.00</td>\n",
       "      <td>0.00</td>\n",
       "      <td>7.29</td>\n",
       "      <td>1</td>\n",
       "      <td>53.1441</td>\n",
       "    </tr>\n",
       "    <tr>\n",
       "      <th>29</th>\n",
       "      <td>Hohhot</td>\n",
       "      <td>12</td>\n",
       "      <td>20.73</td>\n",
       "      <td>0.63</td>\n",
       "      <td>36.83</td>\n",
       "      <td>1.70</td>\n",
       "      <td>12.44</td>\n",
       "      <td>0.00</td>\n",
       "      <td>0.96</td>\n",
       "      <td>0.51</td>\n",
       "      <td>...</td>\n",
       "      <td>NaN</td>\n",
       "      <td>-10.7</td>\n",
       "      <td>40.82</td>\n",
       "      <td>1.00</td>\n",
       "      <td>21.57</td>\n",
       "      <td>1.00</td>\n",
       "      <td>0.00</td>\n",
       "      <td>6.82</td>\n",
       "      <td>1</td>\n",
       "      <td>46.5124</td>\n",
       "    </tr>\n",
       "    <tr>\n",
       "      <th>28</th>\n",
       "      <td>Baotou</td>\n",
       "      <td>303</td>\n",
       "      <td>19.28</td>\n",
       "      <td>3.66</td>\n",
       "      <td>36.36</td>\n",
       "      <td>14.97</td>\n",
       "      <td>11.44</td>\n",
       "      <td>0.05</td>\n",
       "      <td>1.07</td>\n",
       "      <td>0.34</td>\n",
       "      <td>...</td>\n",
       "      <td>-8.60</td>\n",
       "      <td>-10.4</td>\n",
       "      <td>40.65</td>\n",
       "      <td>0.90</td>\n",
       "      <td>19.24</td>\n",
       "      <td>1.00</td>\n",
       "      <td>0.00</td>\n",
       "      <td>6.65</td>\n",
       "      <td>1</td>\n",
       "      <td>44.2225</td>\n",
       "    </tr>\n",
       "    <tr>\n",
       "      <th>20</th>\n",
       "      <td>ShandongXintai</td>\n",
       "      <td>3</td>\n",
       "      <td>22.83</td>\n",
       "      <td>0.60</td>\n",
       "      <td>31.00</td>\n",
       "      <td>9.54</td>\n",
       "      <td>13.03</td>\n",
       "      <td>0.00</td>\n",
       "      <td>0.90</td>\n",
       "      <td>0.69</td>\n",
       "      <td>...</td>\n",
       "      <td>NaN</td>\n",
       "      <td>-7.4</td>\n",
       "      <td>35.90</td>\n",
       "      <td>1.00</td>\n",
       "      <td>22.00</td>\n",
       "      <td>1.00</td>\n",
       "      <td>0.00</td>\n",
       "      <td>1.90</td>\n",
       "      <td>1</td>\n",
       "      <td>3.6100</td>\n",
       "    </tr>\n",
       "    <tr>\n",
       "      <th>31</th>\n",
       "      <td>Turpan</td>\n",
       "      <td>283</td>\n",
       "      <td>19.44</td>\n",
       "      <td>2.80</td>\n",
       "      <td>33.90</td>\n",
       "      <td>14.18</td>\n",
       "      <td>9.79</td>\n",
       "      <td>0.02</td>\n",
       "      <td>1.19</td>\n",
       "      <td>1.42</td>\n",
       "      <td>...</td>\n",
       "      <td>-7.52</td>\n",
       "      <td>-6.5</td>\n",
       "      <td>42.94</td>\n",
       "      <td>0.92</td>\n",
       "      <td>19.52</td>\n",
       "      <td>0.00</td>\n",
       "      <td>0.19</td>\n",
       "      <td>8.94</td>\n",
       "      <td>1</td>\n",
       "      <td>79.9236</td>\n",
       "    </tr>\n",
       "    <tr>\n",
       "      <th>23</th>\n",
       "      <td>ShanxiLvliangfenyang</td>\n",
       "      <td>9</td>\n",
       "      <td>21.13</td>\n",
       "      <td>1.22</td>\n",
       "      <td>40.56</td>\n",
       "      <td>3.24</td>\n",
       "      <td>13.30</td>\n",
       "      <td>0.00</td>\n",
       "      <td>0.97</td>\n",
       "      <td>0.41</td>\n",
       "      <td>...</td>\n",
       "      <td>NaN</td>\n",
       "      <td>-4.8</td>\n",
       "      <td>37.51</td>\n",
       "      <td>1.00</td>\n",
       "      <td>21.69</td>\n",
       "      <td>1.00</td>\n",
       "      <td>0.00</td>\n",
       "      <td>3.51</td>\n",
       "      <td>1</td>\n",
       "      <td>12.3201</td>\n",
       "    </tr>\n",
       "    <tr>\n",
       "      <th>25</th>\n",
       "      <td>LiaoningDalian</td>\n",
       "      <td>1703</td>\n",
       "      <td>22.46</td>\n",
       "      <td>2.27</td>\n",
       "      <td>36.87</td>\n",
       "      <td>10.76</td>\n",
       "      <td>13.71</td>\n",
       "      <td>0.00</td>\n",
       "      <td>0.99</td>\n",
       "      <td>0.98</td>\n",
       "      <td>...</td>\n",
       "      <td>0.83</td>\n",
       "      <td>-3.4</td>\n",
       "      <td>38.92</td>\n",
       "      <td>0.85</td>\n",
       "      <td>21.72</td>\n",
       "      <td>0.80</td>\n",
       "      <td>0.00</td>\n",
       "      <td>4.92</td>\n",
       "      <td>1</td>\n",
       "      <td>24.2064</td>\n",
       "    </tr>\n",
       "    <tr>\n",
       "      <th>26</th>\n",
       "      <td>Tianjin</td>\n",
       "      <td>730</td>\n",
       "      <td>24.50</td>\n",
       "      <td>1.90</td>\n",
       "      <td>27.41</td>\n",
       "      <td>6.71</td>\n",
       "      <td>13.70</td>\n",
       "      <td>0.02</td>\n",
       "      <td>1.16</td>\n",
       "      <td>0.81</td>\n",
       "      <td>...</td>\n",
       "      <td>1.80</td>\n",
       "      <td>-3.3</td>\n",
       "      <td>39.12</td>\n",
       "      <td>0.95</td>\n",
       "      <td>23.94</td>\n",
       "      <td>0.98</td>\n",
       "      <td>0.00</td>\n",
       "      <td>5.12</td>\n",
       "      <td>1</td>\n",
       "      <td>26.2144</td>\n",
       "    </tr>\n",
       "    <tr>\n",
       "      <th>27</th>\n",
       "      <td>Beijing</td>\n",
       "      <td>651</td>\n",
       "      <td>22.07</td>\n",
       "      <td>2.97</td>\n",
       "      <td>28.61</td>\n",
       "      <td>11.76</td>\n",
       "      <td>12.57</td>\n",
       "      <td>0.07</td>\n",
       "      <td>1.06</td>\n",
       "      <td>0.92</td>\n",
       "      <td>...</td>\n",
       "      <td>5.81</td>\n",
       "      <td>-2.8</td>\n",
       "      <td>39.90</td>\n",
       "      <td>0.86</td>\n",
       "      <td>22.14</td>\n",
       "      <td>0.76</td>\n",
       "      <td>0.00</td>\n",
       "      <td>5.90</td>\n",
       "      <td>1</td>\n",
       "      <td>34.8100</td>\n",
       "    </tr>\n",
       "    <tr>\n",
       "      <th>24</th>\n",
       "      <td>ShandongYantai</td>\n",
       "      <td>7</td>\n",
       "      <td>25.67</td>\n",
       "      <td>1.99</td>\n",
       "      <td>34.00</td>\n",
       "      <td>8.93</td>\n",
       "      <td>15.74</td>\n",
       "      <td>0.00</td>\n",
       "      <td>1.10</td>\n",
       "      <td>0.80</td>\n",
       "      <td>...</td>\n",
       "      <td>NaN</td>\n",
       "      <td>-1.3</td>\n",
       "      <td>37.53</td>\n",
       "      <td>0.71</td>\n",
       "      <td>23.53</td>\n",
       "      <td>0.86</td>\n",
       "      <td>0.14</td>\n",
       "      <td>3.53</td>\n",
       "      <td>1</td>\n",
       "      <td>12.4609</td>\n",
       "    </tr>\n",
       "    <tr>\n",
       "      <th>22</th>\n",
       "      <td>HebeiHandan</td>\n",
       "      <td>26</td>\n",
       "      <td>19.30</td>\n",
       "      <td>3.43</td>\n",
       "      <td>35.81</td>\n",
       "      <td>7.55</td>\n",
       "      <td>11.24</td>\n",
       "      <td>0.00</td>\n",
       "      <td>0.98</td>\n",
       "      <td>1.45</td>\n",
       "      <td>...</td>\n",
       "      <td>3.18</td>\n",
       "      <td>-0.8</td>\n",
       "      <td>36.62</td>\n",
       "      <td>0.92</td>\n",
       "      <td>20.26</td>\n",
       "      <td>1.00</td>\n",
       "      <td>0.00</td>\n",
       "      <td>2.62</td>\n",
       "      <td>1</td>\n",
       "      <td>6.8644</td>\n",
       "    </tr>\n",
       "    <tr>\n",
       "      <th>9</th>\n",
       "      <td>Lhasa</td>\n",
       "      <td>355</td>\n",
       "      <td>10.64</td>\n",
       "      <td>4.03</td>\n",
       "      <td>71.19</td>\n",
       "      <td>20.88</td>\n",
       "      <td>7.66</td>\n",
       "      <td>0.02</td>\n",
       "      <td>1.10</td>\n",
       "      <td>1.25</td>\n",
       "      <td>...</td>\n",
       "      <td>NaN</td>\n",
       "      <td>-0.2</td>\n",
       "      <td>29.65</td>\n",
       "      <td>0.64</td>\n",
       "      <td>13.38</td>\n",
       "      <td>0.01</td>\n",
       "      <td>0.68</td>\n",
       "      <td>-4.35</td>\n",
       "      <td>0</td>\n",
       "      <td>18.9225</td>\n",
       "    </tr>\n",
       "    <tr>\n",
       "      <th>14</th>\n",
       "      <td>HenanPingdingshan</td>\n",
       "      <td>5</td>\n",
       "      <td>17.56</td>\n",
       "      <td>2.08</td>\n",
       "      <td>57.80</td>\n",
       "      <td>7.85</td>\n",
       "      <td>12.52</td>\n",
       "      <td>0.00</td>\n",
       "      <td>0.94</td>\n",
       "      <td>0.79</td>\n",
       "      <td>...</td>\n",
       "      <td>NaN</td>\n",
       "      <td>0.7</td>\n",
       "      <td>33.74</td>\n",
       "      <td>1.00</td>\n",
       "      <td>19.56</td>\n",
       "      <td>0.20</td>\n",
       "      <td>0.80</td>\n",
       "      <td>-0.26</td>\n",
       "      <td>0</td>\n",
       "      <td>0.0676</td>\n",
       "    </tr>\n",
       "    <tr>\n",
       "      <th>16</th>\n",
       "      <td>HenanLuoyang</td>\n",
       "      <td>45</td>\n",
       "      <td>19.04</td>\n",
       "      <td>2.73</td>\n",
       "      <td>30.62</td>\n",
       "      <td>4.58</td>\n",
       "      <td>10.99</td>\n",
       "      <td>0.00</td>\n",
       "      <td>1.00</td>\n",
       "      <td>1.05</td>\n",
       "      <td>...</td>\n",
       "      <td>5.80</td>\n",
       "      <td>0.8</td>\n",
       "      <td>34.62</td>\n",
       "      <td>0.93</td>\n",
       "      <td>19.48</td>\n",
       "      <td>0.00</td>\n",
       "      <td>0.04</td>\n",
       "      <td>0.62</td>\n",
       "      <td>1</td>\n",
       "      <td>0.3844</td>\n",
       "    </tr>\n",
       "    <tr>\n",
       "      <th>17</th>\n",
       "      <td>HenanZhengzhou</td>\n",
       "      <td>96</td>\n",
       "      <td>22.30</td>\n",
       "      <td>3.80</td>\n",
       "      <td>28.90</td>\n",
       "      <td>6.10</td>\n",
       "      <td>13.11</td>\n",
       "      <td>0.00</td>\n",
       "      <td>1.01</td>\n",
       "      <td>1.19</td>\n",
       "      <td>...</td>\n",
       "      <td>5.80</td>\n",
       "      <td>0.8</td>\n",
       "      <td>34.75</td>\n",
       "      <td>0.67</td>\n",
       "      <td>20.66</td>\n",
       "      <td>0.04</td>\n",
       "      <td>0.00</td>\n",
       "      <td>0.75</td>\n",
       "      <td>1</td>\n",
       "      <td>0.5625</td>\n",
       "    </tr>\n",
       "    <tr>\n",
       "      <th>19</th>\n",
       "      <td>HenanJiaozuo</td>\n",
       "      <td>888</td>\n",
       "      <td>16.80</td>\n",
       "      <td>4.11</td>\n",
       "      <td>49.04</td>\n",
       "      <td>13.46</td>\n",
       "      <td>10.67</td>\n",
       "      <td>0.02</td>\n",
       "      <td>1.10</td>\n",
       "      <td>1.19</td>\n",
       "      <td>...</td>\n",
       "      <td>NaN</td>\n",
       "      <td>1.5</td>\n",
       "      <td>35.24</td>\n",
       "      <td>0.98</td>\n",
       "      <td>17.44</td>\n",
       "      <td>1.00</td>\n",
       "      <td>0.00</td>\n",
       "      <td>1.24</td>\n",
       "      <td>1</td>\n",
       "      <td>1.5376</td>\n",
       "    </tr>\n",
       "    <tr>\n",
       "      <th>13</th>\n",
       "      <td>HenanNanyang</td>\n",
       "      <td>251</td>\n",
       "      <td>12.22</td>\n",
       "      <td>4.04</td>\n",
       "      <td>66.37</td>\n",
       "      <td>13.40</td>\n",
       "      <td>8.60</td>\n",
       "      <td>0.00</td>\n",
       "      <td>1.00</td>\n",
       "      <td>1.31</td>\n",
       "      <td>...</td>\n",
       "      <td>NaN</td>\n",
       "      <td>1.8</td>\n",
       "      <td>32.99</td>\n",
       "      <td>0.71</td>\n",
       "      <td>13.24</td>\n",
       "      <td>0.00</td>\n",
       "      <td>0.62</td>\n",
       "      <td>-1.01</td>\n",
       "      <td>0</td>\n",
       "      <td>1.0201</td>\n",
       "    </tr>\n",
       "    <tr>\n",
       "      <th>15</th>\n",
       "      <td>ShaanxiXi'an</td>\n",
       "      <td>1686</td>\n",
       "      <td>23.04</td>\n",
       "      <td>3.04</td>\n",
       "      <td>21.92</td>\n",
       "      <td>16.44</td>\n",
       "      <td>11.13</td>\n",
       "      <td>0.04</td>\n",
       "      <td>1.14</td>\n",
       "      <td>0.73</td>\n",
       "      <td>...</td>\n",
       "      <td>2.82</td>\n",
       "      <td>3.1</td>\n",
       "      <td>34.26</td>\n",
       "      <td>0.76</td>\n",
       "      <td>21.73</td>\n",
       "      <td>0.70</td>\n",
       "      <td>0.00</td>\n",
       "      <td>0.26</td>\n",
       "      <td>1</td>\n",
       "      <td>0.0676</td>\n",
       "    </tr>\n",
       "    <tr>\n",
       "      <th>12</th>\n",
       "      <td>JiangsuChangzhou</td>\n",
       "      <td>144</td>\n",
       "      <td>20.51</td>\n",
       "      <td>1.45</td>\n",
       "      <td>41.18</td>\n",
       "      <td>4.92</td>\n",
       "      <td>13.60</td>\n",
       "      <td>0.01</td>\n",
       "      <td>1.02</td>\n",
       "      <td>1.15</td>\n",
       "      <td>...</td>\n",
       "      <td>6.40</td>\n",
       "      <td>3.9</td>\n",
       "      <td>31.78</td>\n",
       "      <td>0.88</td>\n",
       "      <td>19.65</td>\n",
       "      <td>0.00</td>\n",
       "      <td>0.00</td>\n",
       "      <td>-2.22</td>\n",
       "      <td>0</td>\n",
       "      <td>4.9284</td>\n",
       "    </tr>\n",
       "    <tr>\n",
       "      <th>10</th>\n",
       "      <td>HubeiWuhan</td>\n",
       "      <td>526</td>\n",
       "      <td>12.91</td>\n",
       "      <td>3.92</td>\n",
       "      <td>47.98</td>\n",
       "      <td>12.98</td>\n",
       "      <td>7.07</td>\n",
       "      <td>0.09</td>\n",
       "      <td>1.07</td>\n",
       "      <td>1.88</td>\n",
       "      <td>...</td>\n",
       "      <td>4.64</td>\n",
       "      <td>4.1</td>\n",
       "      <td>30.58</td>\n",
       "      <td>0.49</td>\n",
       "      <td>16.79</td>\n",
       "      <td>0.00</td>\n",
       "      <td>1.00</td>\n",
       "      <td>-3.42</td>\n",
       "      <td>0</td>\n",
       "      <td>11.6964</td>\n",
       "    </tr>\n",
       "    <tr>\n",
       "      <th>11</th>\n",
       "      <td>Shanghai</td>\n",
       "      <td>2131</td>\n",
       "      <td>20.84</td>\n",
       "      <td>4.49</td>\n",
       "      <td>52.26</td>\n",
       "      <td>12.97</td>\n",
       "      <td>14.30</td>\n",
       "      <td>0.03</td>\n",
       "      <td>1.10</td>\n",
       "      <td>0.88</td>\n",
       "      <td>...</td>\n",
       "      <td>7.41</td>\n",
       "      <td>5.2</td>\n",
       "      <td>31.23</td>\n",
       "      <td>0.92</td>\n",
       "      <td>20.97</td>\n",
       "      <td>0.00</td>\n",
       "      <td>0.18</td>\n",
       "      <td>-2.77</td>\n",
       "      <td>0</td>\n",
       "      <td>7.6729</td>\n",
       "    </tr>\n",
       "    <tr>\n",
       "      <th>7</th>\n",
       "      <td>HunanChangsha</td>\n",
       "      <td>1108</td>\n",
       "      <td>17.41</td>\n",
       "      <td>3.07</td>\n",
       "      <td>48.35</td>\n",
       "      <td>12.03</td>\n",
       "      <td>11.00</td>\n",
       "      <td>0.03</td>\n",
       "      <td>1.02</td>\n",
       "      <td>0.95</td>\n",
       "      <td>...</td>\n",
       "      <td>NaN</td>\n",
       "      <td>5.2</td>\n",
       "      <td>28.23</td>\n",
       "      <td>0.89</td>\n",
       "      <td>18.40</td>\n",
       "      <td>0.00</td>\n",
       "      <td>0.58</td>\n",
       "      <td>-5.77</td>\n",
       "      <td>0</td>\n",
       "      <td>33.2929</td>\n",
       "    </tr>\n",
       "    <tr>\n",
       "      <th>8</th>\n",
       "      <td>SichuanZigong</td>\n",
       "      <td>23</td>\n",
       "      <td>11.03</td>\n",
       "      <td>1.30</td>\n",
       "      <td>66.52</td>\n",
       "      <td>6.75</td>\n",
       "      <td>7.56</td>\n",
       "      <td>0.00</td>\n",
       "      <td>1.00</td>\n",
       "      <td>1.59</td>\n",
       "      <td>...</td>\n",
       "      <td>NaN</td>\n",
       "      <td>7.6</td>\n",
       "      <td>29.34</td>\n",
       "      <td>0.78</td>\n",
       "      <td>11.57</td>\n",
       "      <td>0.00</td>\n",
       "      <td>1.00</td>\n",
       "      <td>-4.66</td>\n",
       "      <td>0</td>\n",
       "      <td>21.7156</td>\n",
       "    </tr>\n",
       "    <tr>\n",
       "      <th>2</th>\n",
       "      <td>YunnanKunming</td>\n",
       "      <td>415</td>\n",
       "      <td>13.62</td>\n",
       "      <td>3.12</td>\n",
       "      <td>16.95</td>\n",
       "      <td>13.78</td>\n",
       "      <td>4.41</td>\n",
       "      <td>0.28</td>\n",
       "      <td>1.08</td>\n",
       "      <td>0.65</td>\n",
       "      <td>...</td>\n",
       "      <td>NaN</td>\n",
       "      <td>9.2</td>\n",
       "      <td>24.87</td>\n",
       "      <td>0.66</td>\n",
       "      <td>16.50</td>\n",
       "      <td>0.00</td>\n",
       "      <td>1.00</td>\n",
       "      <td>-9.13</td>\n",
       "      <td>0</td>\n",
       "      <td>83.3569</td>\n",
       "    </tr>\n",
       "    <tr>\n",
       "      <th>4</th>\n",
       "      <td>FujianZhenjiang</td>\n",
       "      <td>2</td>\n",
       "      <td>22.90</td>\n",
       "      <td>2.26</td>\n",
       "      <td>74.50</td>\n",
       "      <td>0.71</td>\n",
       "      <td>19.55</td>\n",
       "      <td>0.00</td>\n",
       "      <td>0.90</td>\n",
       "      <td>0.31</td>\n",
       "      <td>...</td>\n",
       "      <td>NaN</td>\n",
       "      <td>10.0</td>\n",
       "      <td>26.10</td>\n",
       "      <td>0.50</td>\n",
       "      <td>24.15</td>\n",
       "      <td>0.00</td>\n",
       "      <td>1.00</td>\n",
       "      <td>-7.90</td>\n",
       "      <td>0</td>\n",
       "      <td>62.4100</td>\n",
       "    </tr>\n",
       "    <tr>\n",
       "      <th>5</th>\n",
       "      <td>FujianNanping</td>\n",
       "      <td>4</td>\n",
       "      <td>17.90</td>\n",
       "      <td>1.24</td>\n",
       "      <td>60.25</td>\n",
       "      <td>10.21</td>\n",
       "      <td>13.15</td>\n",
       "      <td>0.00</td>\n",
       "      <td>0.88</td>\n",
       "      <td>0.42</td>\n",
       "      <td>...</td>\n",
       "      <td>NaN</td>\n",
       "      <td>10.1</td>\n",
       "      <td>26.64</td>\n",
       "      <td>1.00</td>\n",
       "      <td>17.90</td>\n",
       "      <td>0.00</td>\n",
       "      <td>1.00</td>\n",
       "      <td>-7.36</td>\n",
       "      <td>0</td>\n",
       "      <td>54.1696</td>\n",
       "    </tr>\n",
       "    <tr>\n",
       "      <th>3</th>\n",
       "      <td>FujianFuzhou</td>\n",
       "      <td>7</td>\n",
       "      <td>18.10</td>\n",
       "      <td>1.53</td>\n",
       "      <td>67.43</td>\n",
       "      <td>5.80</td>\n",
       "      <td>14.23</td>\n",
       "      <td>0.00</td>\n",
       "      <td>0.89</td>\n",
       "      <td>0.35</td>\n",
       "      <td>...</td>\n",
       "      <td>NaN</td>\n",
       "      <td>11.3</td>\n",
       "      <td>26.08</td>\n",
       "      <td>0.86</td>\n",
       "      <td>19.89</td>\n",
       "      <td>0.00</td>\n",
       "      <td>1.00</td>\n",
       "      <td>-7.92</td>\n",
       "      <td>0</td>\n",
       "      <td>62.7264</td>\n",
       "    </tr>\n",
       "    <tr>\n",
       "      <th>1</th>\n",
       "      <td>GuangdongGuangzhou</td>\n",
       "      <td>997</td>\n",
       "      <td>23.88</td>\n",
       "      <td>1.08</td>\n",
       "      <td>52.94</td>\n",
       "      <td>9.58</td>\n",
       "      <td>17.40</td>\n",
       "      <td>0.10</td>\n",
       "      <td>1.00</td>\n",
       "      <td>0.86</td>\n",
       "      <td>...</td>\n",
       "      <td>16.71</td>\n",
       "      <td>13.7</td>\n",
       "      <td>23.13</td>\n",
       "      <td>0.90</td>\n",
       "      <td>23.91</td>\n",
       "      <td>0.00</td>\n",
       "      <td>0.00</td>\n",
       "      <td>-10.87</td>\n",
       "      <td>0</td>\n",
       "      <td>118.1569</td>\n",
       "    </tr>\n",
       "    <tr>\n",
       "      <th>0</th>\n",
       "      <td>HainanSanya</td>\n",
       "      <td>5</td>\n",
       "      <td>24.88</td>\n",
       "      <td>1.24</td>\n",
       "      <td>70.20</td>\n",
       "      <td>4.82</td>\n",
       "      <td>20.84</td>\n",
       "      <td>0.00</td>\n",
       "      <td>0.98</td>\n",
       "      <td>0.33</td>\n",
       "      <td>...</td>\n",
       "      <td>NaN</td>\n",
       "      <td>21.0</td>\n",
       "      <td>18.25</td>\n",
       "      <td>0.80</td>\n",
       "      <td>23.38</td>\n",
       "      <td>0.00</td>\n",
       "      <td>1.00</td>\n",
       "      <td>-15.75</td>\n",
       "      <td>0</td>\n",
       "      <td>248.0625</td>\n",
       "    </tr>\n",
       "  </tbody>\n",
       "</table>\n",
       "<p>30 rows × 26 columns</p>\n",
       "</div>"
      ],
      "text/plain": [
       "                    city  records    top  top_std     rh  rh_std    twb   vel  \\\n",
       "32    HeilongjiangHarbin     3552  22.71     2.63  32.61   10.32  13.47  0.04   \n",
       "30         LiaoningBenxi       22  19.74     2.60  41.09   13.80  12.15  0.00   \n",
       "29                Hohhot       12  20.73     0.63  36.83    1.70  12.44  0.00   \n",
       "28                Baotou      303  19.28     3.66  36.36   14.97  11.44  0.05   \n",
       "20        ShandongXintai        3  22.83     0.60  31.00    9.54  13.03  0.00   \n",
       "31                Turpan      283  19.44     2.80  33.90   14.18   9.79  0.02   \n",
       "23  ShanxiLvliangfenyang        9  21.13     1.22  40.56    3.24  13.30  0.00   \n",
       "25        LiaoningDalian     1703  22.46     2.27  36.87   10.76  13.71  0.00   \n",
       "26               Tianjin      730  24.50     1.90  27.41    6.71  13.70  0.02   \n",
       "27               Beijing      651  22.07     2.97  28.61   11.76  12.57  0.07   \n",
       "24        ShandongYantai        7  25.67     1.99  34.00    8.93  15.74  0.00   \n",
       "22           HebeiHandan       26  19.30     3.43  35.81    7.55  11.24  0.00   \n",
       "9                  Lhasa      355  10.64     4.03  71.19   20.88   7.66  0.02   \n",
       "14     HenanPingdingshan        5  17.56     2.08  57.80    7.85  12.52  0.00   \n",
       "16          HenanLuoyang       45  19.04     2.73  30.62    4.58  10.99  0.00   \n",
       "17        HenanZhengzhou       96  22.30     3.80  28.90    6.10  13.11  0.00   \n",
       "19          HenanJiaozuo      888  16.80     4.11  49.04   13.46  10.67  0.02   \n",
       "13          HenanNanyang      251  12.22     4.04  66.37   13.40   8.60  0.00   \n",
       "15          ShaanxiXi'an     1686  23.04     3.04  21.92   16.44  11.13  0.04   \n",
       "12      JiangsuChangzhou      144  20.51     1.45  41.18    4.92  13.60  0.01   \n",
       "10            HubeiWuhan      526  12.91     3.92  47.98   12.98   7.07  0.09   \n",
       "11              Shanghai     2131  20.84     4.49  52.26   12.97  14.30  0.03   \n",
       "7          HunanChangsha     1108  17.41     3.07  48.35   12.03  11.00  0.03   \n",
       "8          SichuanZigong       23  11.03     1.30  66.52    6.75   7.56  0.00   \n",
       "2          YunnanKunming      415  13.62     3.12  16.95   13.78   4.41  0.28   \n",
       "4        FujianZhenjiang        2  22.90     2.26  74.50    0.71  19.55  0.00   \n",
       "5          FujianNanping        4  17.90     1.24  60.25   10.21  13.15  0.00   \n",
       "3           FujianFuzhou        7  18.10     1.53  67.43    5.80  14.23  0.00   \n",
       "1     GuangdongGuangzhou      997  23.88     1.08  52.94    9.58  17.40  0.10   \n",
       "0            HainanSanya        5  24.88     1.24  70.20    4.82  20.84  0.00   \n",
       "\n",
       "     met   clo  ...  t_out  t_out_min  latitude   tsr  tn_op  p_dh  p_nv  \\\n",
       "32  1.01  0.92  ...  -7.17      -17.4     45.75  0.82  21.97  1.00  0.00   \n",
       "30  0.96  1.04  ...  -0.91      -10.9     41.29  0.73  20.08  1.00  0.00   \n",
       "29  0.96  0.51  ...    NaN      -10.7     40.82  1.00  21.57  1.00  0.00   \n",
       "28  1.07  0.34  ...  -8.60      -10.4     40.65  0.90  19.24  1.00  0.00   \n",
       "20  0.90  0.69  ...    NaN       -7.4     35.90  1.00  22.00  1.00  0.00   \n",
       "31  1.19  1.42  ...  -7.52       -6.5     42.94  0.92  19.52  0.00  0.19   \n",
       "23  0.97  0.41  ...    NaN       -4.8     37.51  1.00  21.69  1.00  0.00   \n",
       "25  0.99  0.98  ...   0.83       -3.4     38.92  0.85  21.72  0.80  0.00   \n",
       "26  1.16  0.81  ...   1.80       -3.3     39.12  0.95  23.94  0.98  0.00   \n",
       "27  1.06  0.92  ...   5.81       -2.8     39.90  0.86  22.14  0.76  0.00   \n",
       "24  1.10  0.80  ...    NaN       -1.3     37.53  0.71  23.53  0.86  0.14   \n",
       "22  0.98  1.45  ...   3.18       -0.8     36.62  0.92  20.26  1.00  0.00   \n",
       "9   1.10  1.25  ...    NaN       -0.2     29.65  0.64  13.38  0.01  0.68   \n",
       "14  0.94  0.79  ...    NaN        0.7     33.74  1.00  19.56  0.20  0.80   \n",
       "16  1.00  1.05  ...   5.80        0.8     34.62  0.93  19.48  0.00  0.04   \n",
       "17  1.01  1.19  ...   5.80        0.8     34.75  0.67  20.66  0.04  0.00   \n",
       "19  1.10  1.19  ...    NaN        1.5     35.24  0.98  17.44  1.00  0.00   \n",
       "13  1.00  1.31  ...    NaN        1.8     32.99  0.71  13.24  0.00  0.62   \n",
       "15  1.14  0.73  ...   2.82        3.1     34.26  0.76  21.73  0.70  0.00   \n",
       "12  1.02  1.15  ...   6.40        3.9     31.78  0.88  19.65  0.00  0.00   \n",
       "10  1.07  1.88  ...   4.64        4.1     30.58  0.49  16.79  0.00  1.00   \n",
       "11  1.10  0.88  ...   7.41        5.2     31.23  0.92  20.97  0.00  0.18   \n",
       "7   1.02  0.95  ...    NaN        5.2     28.23  0.89  18.40  0.00  0.58   \n",
       "8   1.00  1.59  ...    NaN        7.6     29.34  0.78  11.57  0.00  1.00   \n",
       "2   1.08  0.65  ...    NaN        9.2     24.87  0.66  16.50  0.00  1.00   \n",
       "4   0.90  0.31  ...    NaN       10.0     26.10  0.50  24.15  0.00  1.00   \n",
       "5   0.88  0.42  ...    NaN       10.1     26.64  1.00  17.90  0.00  1.00   \n",
       "3   0.89  0.35  ...    NaN       11.3     26.08  0.86  19.89  0.00  1.00   \n",
       "1   1.00  0.86  ...  16.71       13.7     23.13  0.90  23.91  0.00  0.00   \n",
       "0   0.98  0.33  ...    NaN       21.0     18.25  0.80  23.38  0.00  1.00   \n",
       "\n",
       "    distance  threshold  distance2  \n",
       "32     11.75          1   138.0625  \n",
       "30      7.29          1    53.1441  \n",
       "29      6.82          1    46.5124  \n",
       "28      6.65          1    44.2225  \n",
       "20      1.90          1     3.6100  \n",
       "31      8.94          1    79.9236  \n",
       "23      3.51          1    12.3201  \n",
       "25      4.92          1    24.2064  \n",
       "26      5.12          1    26.2144  \n",
       "27      5.90          1    34.8100  \n",
       "24      3.53          1    12.4609  \n",
       "22      2.62          1     6.8644  \n",
       "9      -4.35          0    18.9225  \n",
       "14     -0.26          0     0.0676  \n",
       "16      0.62          1     0.3844  \n",
       "17      0.75          1     0.5625  \n",
       "19      1.24          1     1.5376  \n",
       "13     -1.01          0     1.0201  \n",
       "15      0.26          1     0.0676  \n",
       "12     -2.22          0     4.9284  \n",
       "10     -3.42          0    11.6964  \n",
       "11     -2.77          0     7.6729  \n",
       "7      -5.77          0    33.2929  \n",
       "8      -4.66          0    21.7156  \n",
       "2      -9.13          0    83.3569  \n",
       "4      -7.90          0    62.4100  \n",
       "5      -7.36          0    54.1696  \n",
       "3      -7.92          0    62.7264  \n",
       "1     -10.87          0   118.1569  \n",
       "0     -15.75          0   248.0625  \n",
       "\n",
       "[30 rows x 26 columns]"
      ]
     },
     "execution_count": 241,
     "metadata": {},
     "output_type": "execute_result"
    }
   ],
   "source": [
    "# create a new df and order the data by t_out_min\n",
    "df_rd_out = df_rd.sort_values('t_out_min')\n",
    "# order df_rd_out by t_out_min\n",
    "df_rd_out = df_rd_out.sort_values('t_out_min')\n",
    "df_rd_out"
   ]
  },
  {
   "cell_type": "code",
   "execution_count": 248,
   "metadata": {},
   "outputs": [],
   "source": [
    "# create a new dummy variable based on the distance\n",
    "df_rd_out = df_city.assign(threshold_out=(df_city[\"t_out_min\"] < 0).astype(int))"
   ]
  },
  {
   "cell_type": "code",
   "execution_count": 249,
   "metadata": {},
   "outputs": [
    {
     "name": "stdout",
     "output_type": "stream",
     "text": [
      "Baseline is:    17.9938\n",
      "Effect is:     2.7788\n",
      "pvalue is:  0.181\n"
     ]
    },
    {
     "data": {
      "text/html": [
       "<table class=\"simpletable\">\n",
       "<tr>\n",
       "             <td></td>                <th>coef</th>     <th>std err</th>      <th>t</th>      <th>P>|t|</th>  <th>[0.025</th>    <th>0.975]</th>  \n",
       "</tr>\n",
       "<tr>\n",
       "  <th>Intercept</th>               <td>   17.9938</td> <td>    1.422</td> <td>   12.654</td> <td> 0.000</td> <td>   15.085</td> <td>   20.902</td>\n",
       "</tr>\n",
       "<tr>\n",
       "  <th>t_out_min</th>               <td>    0.3028</td> <td>    0.221</td> <td>    1.370</td> <td> 0.181</td> <td>   -0.149</td> <td>    0.755</td>\n",
       "</tr>\n",
       "<tr>\n",
       "  <th>threshold_out</th>           <td>    2.7788</td> <td>    2.029</td> <td>    1.370</td> <td> 0.181</td> <td>   -1.370</td> <td>    6.928</td>\n",
       "</tr>\n",
       "<tr>\n",
       "  <th>t_out_min:threshold_out</th> <td>   -0.4175</td> <td>    0.250</td> <td>   -1.667</td> <td> 0.106</td> <td>   -0.930</td> <td>    0.095</td>\n",
       "</tr>\n",
       "</table>"
      ],
      "text/plain": [
       "<class 'statsmodels.iolib.table.SimpleTable'>"
      ]
     },
     "execution_count": 249,
     "metadata": {},
     "output_type": "execute_result"
    }
   ],
   "source": [
    "model = smf.wls(\"top ~ t_out_min*threshold_out\", df_rd_out, weights=df_rd_out[\"records\"]).fit()\n",
    "print(\"Baseline is:\", model.summary().tables[1][1][1])\n",
    "print(\"Effect is:\", model.summary().tables[1][3][1])\n",
    "print(\"pvalue is:\", model.summary().tables[1][3][4])\n",
    "model.summary().tables[1]"
   ]
  },
  {
   "cell_type": "code",
   "execution_count": 250,
   "metadata": {},
   "outputs": [
    {
     "name": "stdout",
     "output_type": "stream",
     "text": [
      "Baseline is:    18.7512\n",
      "Effect is:     2.4579\n",
      "pvalue is:  0.122\n"
     ]
    },
    {
     "data": {
      "text/html": [
       "<table class=\"simpletable\">\n",
       "<tr>\n",
       "              <td></td>                <th>coef</th>     <th>std err</th>      <th>t</th>      <th>P>|t|</th>  <th>[0.025</th>    <th>0.975]</th>  \n",
       "</tr>\n",
       "<tr>\n",
       "  <th>Intercept</th>                <td>   18.7512</td> <td>    0.970</td> <td>   19.340</td> <td> 0.000</td> <td>   16.768</td> <td>   20.734</td>\n",
       "</tr>\n",
       "<tr>\n",
       "  <th>t_out_min2</th>               <td>    0.0208</td> <td>    0.014</td> <td>    1.525</td> <td> 0.138</td> <td>   -0.007</td> <td>    0.049</td>\n",
       "</tr>\n",
       "<tr>\n",
       "  <th>threshold_out</th>            <td>    2.4579</td> <td>    1.541</td> <td>    1.595</td> <td> 0.122</td> <td>   -0.695</td> <td>    5.610</td>\n",
       "</tr>\n",
       "<tr>\n",
       "  <th>t_out_min2:threshold_out</th> <td>   -0.0160</td> <td>    0.015</td> <td>   -1.083</td> <td> 0.288</td> <td>   -0.046</td> <td>    0.014</td>\n",
       "</tr>\n",
       "</table>"
      ],
      "text/plain": [
       "<class 'statsmodels.iolib.table.SimpleTable'>"
      ]
     },
     "execution_count": 250,
     "metadata": {},
     "output_type": "execute_result"
    }
   ],
   "source": [
    "df_rd_out['t_out_min2'] = df_rd_out['t_out_min'] ** 2\n",
    "# try polynomial \n",
    "model = smf.wls(\"top ~ t_out_min2*threshold_out\", df_rd_out, weights=df_rd_out[\"records\"]).fit()\n",
    "print(\"Baseline is:\", model.summary().tables[1][1][1])\n",
    "print(\"Effect is:\", model.summary().tables[1][3][1])\n",
    "print(\"pvalue is:\", model.summary().tables[1][3][4])\n",
    "model.summary().tables[1]"
   ]
  },
  {
   "cell_type": "code",
   "execution_count": 251,
   "metadata": {},
   "outputs": [
    {
     "data": {
      "image/png": "[encoded data removed]",
      "text/plain": [
       "<Figure size 720x432 with 1 Axes>"
      ]
     },
     "metadata": {
      "needs_background": "light"
     },
     "output_type": "display_data"
    }
   ],
   "source": [
    "# Define a range of t_out_min values\n",
    "t_out_min_values = np.linspace(df_rd_out['t_out_min'].min(), df_rd_out['t_out_min'].max(), 100)\n",
    "t_out_min2_values = t_out_min_values ** 2\n",
    "\n",
    "# Prepare a DataFrame for predictions\n",
    "predict_df = pd.DataFrame({\n",
    "    't_out_min': t_out_min_values,\n",
    "    't_out_min2': t_out_min2_values,\n",
    "    'threshold_out': (t_out_min_values >= 0).astype(int)  # 1 if t_out_min >= 0, else 0\n",
    "})\n",
    "\n",
    "# Generate predictions using the model\n",
    "predict_df['predictions'] = model.predict(predict_df)\n",
    "\n",
    "# Plot the data and the model's fitted values\n",
    "plt.figure(figsize=(10, 6))\n",
    "\n",
    "# Scatter plot for points below and above the threshold_out\n",
    "df_below = df_rd_out[df_rd_out['t_out_min'] < 0]\n",
    "df_above = df_rd_out[df_rd_out['t_out_min'] >= 0]\n",
    "plt.scatter(df_below['t_out_min'], df_below['top'], s=df_below['records'], facecolors='none', edgecolors='red', label='South')\n",
    "plt.scatter(df_above['t_out_min'], df_above['top'], s=df_above['records'], facecolors='none', edgecolors='blue', label='North')\n",
    "\n",
    "# Plot the fitted values from the prediction DataFrame\n",
    "plt.plot(predict_df['t_out_min'][predict_df['threshold_out'] == 0], predict_df['predictions'][predict_df['threshold_out'] == 0], color='red')\n",
    "plt.plot(predict_df['t_out_min'][predict_df['threshold_out'] == 1], predict_df['predictions'][predict_df['threshold_out'] == 1], color='blue')\n",
    "\n",
    "# Add a vertical dashed line at the threshold_out\n",
    "plt.axvline(x=0, color='k', linestyle=\"--\", linewidth=1)\n",
    "\n",
    "# Label and style the plot\n",
    "plt.xticks(fontsize=12)\n",
    "plt.yticks(fontsize=12)\n",
    "plt.xlim(-17, 17)\n",
    "plt.xlabel('Minimum monthly outdoor air temperature', fontsize=14)\n",
    "plt.ylabel('Indoor operative temperature', fontsize=14)\n",
    "\n",
    "# Add custom legend\n",
    "blue_patch = mpatches.Patch(color='red', label='Northern Cities')\n",
    "red_patch = mpatches.Patch(color='b', label='Southern Cities')\n",
    "plt.legend(handles=[red_patch, blue_patch], loc='upper center', bbox_to_anchor=(0.5, 1.1), ncol=2)\n",
    "\n",
    "plt.show()\n"
   ]
  },
  {
   "cell_type": "markdown",
   "metadata": {},
   "source": [
    "### Comfort vote - No"
   ]
  },
  {
   "cell_type": "code",
   "execution_count": 221,
   "metadata": {},
   "outputs": [
    {
     "name": "stdout",
     "output_type": "stream",
     "text": [
      "Baseline is:     1.4030\n",
      "Effect is:     0.3248\n",
      "pvalue is:  0.086\n"
     ]
    },
    {
     "data": {
      "text/html": [
       "<table class=\"simpletable\">\n",
       "<tr>\n",
       "              <td></td>                <th>coef</th>     <th>std err</th>      <th>t</th>      <th>P>|t|</th>  <th>[0.025</th>    <th>0.975]</th>  \n",
       "</tr>\n",
       "<tr>\n",
       "  <th>Intercept</th>                <td>    1.4030</td> <td>    0.143</td> <td>    9.777</td> <td> 0.000</td> <td>    1.109</td> <td>    1.697</td>\n",
       "</tr>\n",
       "<tr>\n",
       "  <th>t_out_min2</th>               <td>    0.0007</td> <td>    0.001</td> <td>    1.046</td> <td> 0.305</td> <td>   -0.001</td> <td>    0.002</td>\n",
       "</tr>\n",
       "<tr>\n",
       "  <th>threshold_out</th>            <td>    0.3248</td> <td>    0.182</td> <td>    1.780</td> <td> 0.086</td> <td>   -0.050</td> <td>    0.699</td>\n",
       "</tr>\n",
       "<tr>\n",
       "  <th>t_out_min2:threshold_out</th> <td>   -0.0023</td> <td>    0.002</td> <td>   -1.342</td> <td> 0.191</td> <td>   -0.006</td> <td>    0.001</td>\n",
       "</tr>\n",
       "</table>"
      ],
      "text/plain": [
       "<class 'statsmodels.iolib.table.SimpleTable'>"
      ]
     },
     "execution_count": 221,
     "metadata": {},
     "output_type": "execute_result"
    }
   ],
   "source": [
    "# try polynomial \n",
    "model = smf.wls(\"tcv ~ t_out_min2*threshold_out\", df_rd_out, weights=df_rd_out[\"records\"]).fit()\n",
    "print(\"Baseline is:\", model.summary().tables[1][1][1])\n",
    "print(\"Effect is:\", model.summary().tables[1][3][1])\n",
    "print(\"pvalue is:\", model.summary().tables[1][3][4])\n",
    "model.summary().tables[1]"
   ]
  },
  {
   "cell_type": "code",
   "execution_count": 222,
   "metadata": {},
   "outputs": [
    {
     "data": {
      "image/png": "[encoded data removed]",
      "text/plain": [
       "<Figure size 720x432 with 1 Axes>"
      ]
     },
     "metadata": {
      "needs_background": "light"
     },
     "output_type": "display_data"
    }
   ],
   "source": [
    "# Define a range of t_out_min values\n",
    "t_out_min_values = np.linspace(df_rd_out['t_out_min'].min(), df_rd_out['t_out_min'].max(), 100)\n",
    "t_out_min2_values = t_out_min_values ** 2\n",
    "\n",
    "# Prepare a DataFrame for predictions\n",
    "predict_df = pd.DataFrame({\n",
    "    't_out_min': t_out_min_values,\n",
    "    't_out_min2': t_out_min2_values,\n",
    "    'threshold_out': (t_out_min_values >= 0).astype(int)  # 1 if t_out_min >= 0, else 0\n",
    "})\n",
    "\n",
    "# Generate predictions using the model\n",
    "predict_df['predictions'] = model.predict(predict_df)\n",
    "\n",
    "# Plot the data and the model's fitted values\n",
    "plt.figure(figsize=(10, 6))\n",
    "\n",
    "# Scatter plot for points below and above the threshold_out\n",
    "df_below = df_rd_out[df_rd_out['t_out_min'] < 0]\n",
    "df_above = df_rd_out[df_rd_out['t_out_min'] >= 0]\n",
    "plt.scatter(df_below['t_out_min'], df_below['tcv'], s=df_below['records'], facecolors='none', edgecolors='red', label='South')\n",
    "plt.scatter(df_above['t_out_min'], df_above['tcv'], s=df_above['records'], facecolors='none', edgecolors='blue', label='North')\n",
    "\n",
    "# Plot the fitted values from the prediction DataFrame\n",
    "plt.plot(predict_df['t_out_min'][predict_df['threshold_out'] == 0], predict_df['predictions'][predict_df['threshold_out'] == 0], color='red')\n",
    "plt.plot(predict_df['t_out_min'][predict_df['threshold_out'] == 1], predict_df['predictions'][predict_df['threshold_out'] == 1], color='blue')\n",
    "\n",
    "# Add a vertical dashed line at the threshold_out\n",
    "plt.axvline(x=0, color='k', linestyle=\"--\", linewidth=1)\n",
    "\n",
    "# Label and style the plot\n",
    "plt.xticks(fontsize=12)\n",
    "plt.yticks(fontsize=12)\n",
    "plt.xlim(-17, 17)\n",
    "plt.xlabel('Degrees from the Huai River', fontsize=14)\n",
    "plt.ylabel('Thermal Satisfaction Rate', fontsize=14)\n",
    "\n",
    "# Add custom legend\n",
    "blue_patch = mpatches.Patch(color='blue', label='Southern Cities')\n",
    "red_patch = mpatches.Patch(color='red', label='Northern Cities')\n",
    "plt.legend(handles=[red_patch, blue_patch], loc='upper center', bbox_to_anchor=(0.5, 1.1), ncol=2)\n",
    "\n",
    "plt.show()\n"
   ]
  },
  {
   "cell_type": "markdown",
   "metadata": {},
   "source": [
    "### Senstaion vote - No"
   ]
  },
  {
   "cell_type": "code",
   "execution_count": 228,
   "metadata": {},
   "outputs": [
    {
     "name": "stdout",
     "output_type": "stream",
     "text": [
      "Baseline is:     0.0401\n",
      "Effect is:    -0.1682\n",
      "pvalue is:  0.450\n"
     ]
    },
    {
     "data": {
      "text/html": [
       "<table class=\"simpletable\">\n",
       "<tr>\n",
       "              <td></td>                <th>coef</th>     <th>std err</th>      <th>t</th>      <th>P>|t|</th>  <th>[0.025</th>    <th>0.975]</th>  \n",
       "</tr>\n",
       "<tr>\n",
       "  <th>Intercept</th>                <td>    0.0401</td> <td>    0.171</td> <td>    0.234</td> <td> 0.816</td> <td>   -0.309</td> <td>    0.389</td>\n",
       "</tr>\n",
       "<tr>\n",
       "  <th>t_out_min2</th>               <td>    0.0008</td> <td>    0.001</td> <td>    1.002</td> <td> 0.325</td> <td>   -0.001</td> <td>    0.003</td>\n",
       "</tr>\n",
       "<tr>\n",
       "  <th>threshold_out</th>            <td>   -0.1682</td> <td>    0.220</td> <td>   -0.765</td> <td> 0.450</td> <td>   -0.618</td> <td>    0.281</td>\n",
       "</tr>\n",
       "<tr>\n",
       "  <th>t_out_min2:threshold_out</th> <td>   -0.0013</td> <td>    0.002</td> <td>   -0.593</td> <td> 0.558</td> <td>   -0.006</td> <td>    0.003</td>\n",
       "</tr>\n",
       "</table>"
      ],
      "text/plain": [
       "<class 'statsmodels.iolib.table.SimpleTable'>"
      ]
     },
     "execution_count": 228,
     "metadata": {},
     "output_type": "execute_result"
    }
   ],
   "source": [
    "model = smf.wls(\"tsv ~ t_out_min2*threshold_out\", df_rd_out, weights=df_rd_out[\"records\"]).fit()\n",
    "print(\"Baseline is:\", model.summary().tables[1][1][1])\n",
    "print(\"Effect is:\", model.summary().tables[1][3][1])\n",
    "print(\"pvalue is:\", model.summary().tables[1][3][4])\n",
    "model.summary().tables[1]"
   ]
  },
  {
   "cell_type": "code",
   "execution_count": 229,
   "metadata": {},
   "outputs": [
    {
     "data": {
      "image/png": "[encoded data removed]",
      "text/plain": [
       "<Figure size 720x432 with 1 Axes>"
      ]
     },
     "metadata": {
      "needs_background": "light"
     },
     "output_type": "display_data"
    }
   ],
   "source": [
    "# Define a range of t_out_min values\n",
    "t_out_min_values = np.linspace(df_rd_out['t_out_min'].min(), df_rd_out['t_out_min'].max(), 100)\n",
    "t_out_min2_values = t_out_min_values ** 2\n",
    "\n",
    "# Prepare a DataFrame for predictions\n",
    "predict_df = pd.DataFrame({\n",
    "    't_out_min': t_out_min_values,\n",
    "    't_out_min2': t_out_min2_values,\n",
    "    'threshold_out': (t_out_min_values >= 0).astype(int)  # 1 if t_out_min >= 0, else 0\n",
    "})\n",
    "\n",
    "# Generate predictions using the model\n",
    "predict_df['predictions'] = model.predict(predict_df)\n",
    "\n",
    "# Plot the data and the model's fitted values\n",
    "plt.figure(figsize=(10, 6))\n",
    "\n",
    "# Scatter plot for points below and above the threshold_out\n",
    "df_below = df_rd_out[df_rd_out['t_out_min'] < 0]\n",
    "df_above = df_rd_out[df_rd_out['t_out_min'] >= 0]\n",
    "plt.scatter(df_below['t_out_min'], df_below['tsv'], s=df_below['records'], facecolors='none', edgecolors='red', label='South')\n",
    "plt.scatter(df_above['t_out_min'], df_above['tsv'], s=df_above['records'], facecolors='none', edgecolors='blue', label='North')\n",
    "\n",
    "# Plot the fitted values from the prediction DataFrame\n",
    "plt.plot(predict_df['t_out_min'][predict_df['threshold_out'] == 0], predict_df['predictions'][predict_df['threshold_out'] == 0], color='red')\n",
    "plt.plot(predict_df['t_out_min'][predict_df['threshold_out'] == 1], predict_df['predictions'][predict_df['threshold_out'] == 1], color='blue')\n",
    "\n",
    "# Add a vertical dashed line at the threshold_out\n",
    "plt.axvline(x=0, color='k', linestyle=\"--\", linewidth=1)\n",
    "\n",
    "# Label and style the plot\n",
    "plt.xticks(fontsize=12)\n",
    "plt.yticks(fontsize=12)\n",
    "plt.xlim(-17, 17)\n",
    "plt.xlabel('Degrees from the Huai River', fontsize=14)\n",
    "plt.ylabel('Thermal Satisfaction Rate', fontsize=14)\n",
    "\n",
    "# Add custom legend\n",
    "blue_patch = mpatches.Patch(color='blue', label='Southern Cities')\n",
    "red_patch = mpatches.Patch(color='red', label='Northern Cities')\n",
    "plt.legend(handles=[red_patch, blue_patch], loc='upper center', bbox_to_anchor=(0.5, 1.1), ncol=2)\n",
    "\n",
    "plt.show()\n"
   ]
  },
  {
   "cell_type": "markdown",
   "metadata": {},
   "source": [
    "### Satisfaction rate - No"
   ]
  },
  {
   "cell_type": "markdown",
   "metadata": {},
   "source": [
    "### CLothing insulation - No"
   ]
  },
  {
   "cell_type": "code",
   "execution_count": 230,
   "metadata": {},
   "outputs": [
    {
     "name": "stdout",
     "output_type": "stream",
     "text": [
      "Baseline is:     0.9633\n",
      "Effect is:     0.0481\n",
      "pvalue is:  0.690\n"
     ]
    },
    {
     "data": {
      "text/html": [
       "<table class=\"simpletable\">\n",
       "<tr>\n",
       "              <td></td>                <th>coef</th>     <th>std err</th>      <th>t</th>      <th>P>|t|</th>  <th>[0.025</th>    <th>0.975]</th>  \n",
       "</tr>\n",
       "<tr>\n",
       "  <th>Intercept</th>                <td>    0.9633</td> <td>    0.093</td> <td>   10.394</td> <td> 0.000</td> <td>    0.774</td> <td>    1.153</td>\n",
       "</tr>\n",
       "<tr>\n",
       "  <th>t_out_min2</th>               <td>   -0.0002</td> <td>    0.000</td> <td>   -0.429</td> <td> 0.671</td> <td>   -0.001</td> <td>    0.001</td>\n",
       "</tr>\n",
       "<tr>\n",
       "  <th>threshold_out</th>            <td>    0.0481</td> <td>    0.119</td> <td>    0.403</td> <td> 0.690</td> <td>   -0.196</td> <td>    0.292</td>\n",
       "</tr>\n",
       "<tr>\n",
       "  <th>t_out_min2:threshold_out</th> <td>   -0.0010</td> <td>    0.001</td> <td>   -0.831</td> <td> 0.412</td> <td>   -0.003</td> <td>    0.001</td>\n",
       "</tr>\n",
       "</table>"
      ],
      "text/plain": [
       "<class 'statsmodels.iolib.table.SimpleTable'>"
      ]
     },
     "execution_count": 230,
     "metadata": {},
     "output_type": "execute_result"
    }
   ],
   "source": [
    "model = smf.wls(\"clo ~ t_out_min2*threshold_out\", df_rd_out, weights=df_rd_out[\"records\"]).fit()\n",
    "print(\"Baseline is:\", model.summary().tables[1][1][1])\n",
    "print(\"Effect is:\", model.summary().tables[1][3][1])\n",
    "print(\"pvalue is:\", model.summary().tables[1][3][4])\n",
    "model.summary().tables[1]"
   ]
  },
  {
   "cell_type": "code",
   "execution_count": 232,
   "metadata": {},
   "outputs": [
    {
     "data": {
      "image/png": "[encoded data removed]",
      "text/plain": [
       "<Figure size 720x432 with 1 Axes>"
      ]
     },
     "metadata": {
      "needs_background": "light"
     },
     "output_type": "display_data"
    }
   ],
   "source": [
    "\n",
    "# Define a range of t_out_min values\n",
    "t_out_min_values = np.linspace(df_rd_out['t_out_min'].min(), df_rd_out['t_out_min'].max(), 100)\n",
    "t_out_min2_values = t_out_min_values ** 2\n",
    "\n",
    "# Prepare a DataFrame for predictions\n",
    "predict_df = pd.DataFrame({\n",
    "    't_out_min': t_out_min_values,\n",
    "    't_out_min2': t_out_min2_values,\n",
    "    'threshold_out': (t_out_min_values >= 0).astype(int)  # 1 if t_out_min >= 0, else 0\n",
    "})\n",
    "\n",
    "# Generate predictions using the model\n",
    "predict_df['predictions'] = model.predict(predict_df)\n",
    "\n",
    "# Plot the data and the model's fitted values\n",
    "plt.figure(figsize=(10, 6))\n",
    "\n",
    "# Scatter plot for points below and above the threshold_out\n",
    "df_below = df_rd_out[df_rd_out['t_out_min'] < 0]\n",
    "df_above = df_rd_out[df_rd_out['t_out_min'] >= 0]\n",
    "plt.scatter(df_below['t_out_min'], df_below['clo'], s=df_below['records'], facecolors='none', edgecolors='red', label='South')\n",
    "plt.scatter(df_above['t_out_min'], df_above['clo'], s=df_above['records'], facecolors='none', edgecolors='blue', label='North')\n",
    "\n",
    "# Plot the fitted values from the prediction DataFrame\n",
    "plt.plot(predict_df['t_out_min'][predict_df['threshold_out'] == 0], predict_df['predictions'][predict_df['threshold_out'] == 0], color='red')\n",
    "plt.plot(predict_df['t_out_min'][predict_df['threshold_out'] == 1], predict_df['predictions'][predict_df['threshold_out'] == 1], color='blue')\n",
    "\n",
    "# Add a vertical dashed line at the threshold_out\n",
    "plt.axvline(x=0, color='k', linestyle=\"--\", linewidth=1)\n",
    "\n",
    "# Label and style the plot\n",
    "plt.xticks(fontsize=12)\n",
    "plt.yticks(fontsize=12)\n",
    "plt.xlim(-17, 17)\n",
    "plt.xlabel('Degrees from the Huai River', fontsize=14)\n",
    "plt.ylabel('Thermal Satisfaction Rate', fontsize=14)\n",
    "\n",
    "# Add custom legend\n",
    "blue_patch = mpatches.Patch(color='blue', label='Southern Cities')\n",
    "red_patch = mpatches.Patch(color='red', label='Northern Cities')\n",
    "plt.legend(handles=[red_patch, blue_patch], loc='upper center', bbox_to_anchor=(0.5, 1.1), ncol=2)\n",
    "\n",
    "plt.show()\n"
   ]
  },
  {
   "cell_type": "markdown",
   "metadata": {},
   "source": [
    "## RD concept graph"
   ]
  },
  {
   "cell_type": "code",
   "execution_count": 424,
   "metadata": {},
   "outputs": [
    {
     "data": {
      "image/png": "[encoded data removed]",
      "text/plain": [
       "<Figure size 576x432 with 1 Axes>"
      ]
     },
     "metadata": {},
     "output_type": "display_data"
    }
   ],
   "source": [
    "import numpy as np\n",
    "import matplotlib.pyplot as plt\n",
    "\n",
    "# Generate sample data\n",
    "np.random.seed(42)\n",
    "x_control = np.random.uniform(-10, 0, 20)\n",
    "y_control = 2 * x_control + 20 + np.random.normal(0, 2, 20)\n",
    "x_treatment = np.random.uniform(0, 10, 20)\n",
    "y_treatment = 2 * x_treatment + 30 + np.random.normal(0, 2, 20)\n",
    "\n",
    "# Plot settings\n",
    "fig, ax = plt.subplots(figsize=(8, 6))\n",
    "\n",
    "# Plot control group\n",
    "ax.scatter(x_control, y_control, color='skyblue', label='Control')\n",
    "ax.plot(np.sort(x_control), 2 * np.sort(x_control) + 20, color='skyblue')\n",
    "\n",
    "# Plot treatment group\n",
    "ax.scatter(x_treatment, y_treatment, color='coral', label='Treatment')\n",
    "ax.plot(np.sort(x_treatment), 2 * np.sort(x_treatment) + 30, color='coral')\n",
    "\n",
    "# Vertical line for assignment cutoff\n",
    "ax.axvline(x=0, color='black', linestyle='--')\n",
    "\n",
    "# Add labels and annotations\n",
    "ax.set_xlabel(\"Discontinuity variable\", fontsize=14)\n",
    "ax.set_ylabel(\"Outcome variable\", fontsize=14)\n",
    "# remove numbers on the x and y axis\n",
    "ax.set_xticks([])\n",
    "ax.set_yticks([])\n",
    "\n",
    "# ax.text(-5, 20, \"Control group\", color='skyblue', fontsize=14)\n",
    "# ax.text(0.5, 25, \"Treatment group\", color='coral', fontsize=14)\n",
    "# ax.annotate(\"Treatment effect\", xy=(0, 17), xytext=(1, 22),\n",
    "#             arrowprops=dict(arrowstyle=\"->\", lw=1.5))\n",
    "\n",
    "# Legend and plot limits\n",
    "# ax.legend()\n",
    "# ax.set_xlim(-12, 12)\n",
    "# ax.set_ylim(0, 30)\n",
    "\n",
    "plt.show()\n"
   ]
  },
  {
   "cell_type": "code",
   "execution_count": null,
   "metadata": {},
   "outputs": [],
   "source": []
  }
 ],
 "metadata": {
  "kernelspec": {
   "display_name": "base",
   "language": "python",
   "name": "python3"
  },
  "language_info": {
   "codemirror_mode": {
    "name": "ipython",
    "version": 3
   },
   "file_extension": ".py",
   "mimetype": "text/x-python",
   "name": "python",
   "nbconvert_exporter": "python",
   "pygments_lexer": "ipython3",
   "version": "3.9.7"
  }
 },
 "nbformat": 4,
 "nbformat_minor": 2
}
