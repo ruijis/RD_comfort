{
 "cells": [
  {
   "cell_type": "code",
   "execution_count": 37,
   "metadata": {},
   "outputs": [],
   "source": [
    "import pandas as pd\n",
    "import numpy as np\n",
    "import matplotlib.pyplot as plt\n",
    "from pythermalcomfort.models import set_tmp"
   ]
  },
  {
   "cell_type": "code",
   "execution_count": 63,
   "metadata": {},
   "outputs": [
    {
     "data": {
      "text/html": [
       "<div>\n",
       "<style scoped>\n",
       "    .dataframe tbody tr th:only-of-type {\n",
       "        vertical-align: middle;\n",
       "    }\n",
       "\n",
       "    .dataframe tbody tr th {\n",
       "        vertical-align: top;\n",
       "    }\n",
       "\n",
       "    .dataframe thead th {\n",
       "        text-align: right;\n",
       "    }\n",
       "</style>\n",
       "<table border=\"1\" class=\"dataframe\">\n",
       "  <thead>\n",
       "    <tr style=\"text-align: right;\">\n",
       "      <th></th>\n",
       "      <th>suject_id</th>\n",
       "      <th>timestamp</th>\n",
       "      <th>season</th>\n",
       "      <th>city</th>\n",
       "      <th>climate</th>\n",
       "      <th>building_type</th>\n",
       "      <th>cooling_type</th>\n",
       "      <th>gender</th>\n",
       "      <th>age</th>\n",
       "      <th>ht</th>\n",
       "      <th>...</th>\n",
       "      <th>met</th>\n",
       "      <th>ta</th>\n",
       "      <th>rh</th>\n",
       "      <th>vel</th>\n",
       "      <th>tg</th>\n",
       "      <th>top</th>\n",
       "      <th>tr</th>\n",
       "      <th>t_out</th>\n",
       "      <th>latitude</th>\n",
       "      <th>set</th>\n",
       "    </tr>\n",
       "  </thead>\n",
       "  <tbody>\n",
       "    <tr>\n",
       "      <th>0</th>\n",
       "      <td>1</td>\n",
       "      <td>1/30/19 10:35</td>\n",
       "      <td>Winter Season</td>\n",
       "      <td>HebeiHandan</td>\n",
       "      <td>Cold zone</td>\n",
       "      <td>Residential</td>\n",
       "      <td>Radiator heating</td>\n",
       "      <td>Female</td>\n",
       "      <td>18-30</td>\n",
       "      <td>170.0</td>\n",
       "      <td>...</td>\n",
       "      <td>1.0</td>\n",
       "      <td>21.5</td>\n",
       "      <td>32.0</td>\n",
       "      <td>0.0</td>\n",
       "      <td>20.9</td>\n",
       "      <td>20.8</td>\n",
       "      <td>20.9</td>\n",
       "      <td>0.4</td>\n",
       "      <td>36.62</td>\n",
       "      <td>24.0</td>\n",
       "    </tr>\n",
       "    <tr>\n",
       "      <th>1</th>\n",
       "      <td>2</td>\n",
       "      <td>1/30/19 10:42</td>\n",
       "      <td>Winter Season</td>\n",
       "      <td>HebeiHandan</td>\n",
       "      <td>Cold zone</td>\n",
       "      <td>Residential</td>\n",
       "      <td>Radiator heating</td>\n",
       "      <td>Female</td>\n",
       "      <td>41-50</td>\n",
       "      <td>168.0</td>\n",
       "      <td>...</td>\n",
       "      <td>0.9</td>\n",
       "      <td>21.5</td>\n",
       "      <td>32.0</td>\n",
       "      <td>0.0</td>\n",
       "      <td>20.9</td>\n",
       "      <td>20.8</td>\n",
       "      <td>20.9</td>\n",
       "      <td>0.4</td>\n",
       "      <td>36.62</td>\n",
       "      <td>NaN</td>\n",
       "    </tr>\n",
       "    <tr>\n",
       "      <th>2</th>\n",
       "      <td>3</td>\n",
       "      <td>1/30/19 10:45</td>\n",
       "      <td>Winter Season</td>\n",
       "      <td>HebeiHandan</td>\n",
       "      <td>Cold zone</td>\n",
       "      <td>Residential</td>\n",
       "      <td>Radiator heating</td>\n",
       "      <td>Male</td>\n",
       "      <td>41-50</td>\n",
       "      <td>170.0</td>\n",
       "      <td>...</td>\n",
       "      <td>0.9</td>\n",
       "      <td>21.5</td>\n",
       "      <td>32.0</td>\n",
       "      <td>0.0</td>\n",
       "      <td>20.9</td>\n",
       "      <td>20.8</td>\n",
       "      <td>20.9</td>\n",
       "      <td>0.4</td>\n",
       "      <td>36.62</td>\n",
       "      <td>NaN</td>\n",
       "    </tr>\n",
       "    <tr>\n",
       "      <th>3</th>\n",
       "      <td>4</td>\n",
       "      <td>1/30/19 10:47</td>\n",
       "      <td>Winter Season</td>\n",
       "      <td>HebeiHandan</td>\n",
       "      <td>Cold zone</td>\n",
       "      <td>Residential</td>\n",
       "      <td>Radiator heating</td>\n",
       "      <td>Male</td>\n",
       "      <td>18-30</td>\n",
       "      <td>178.0</td>\n",
       "      <td>...</td>\n",
       "      <td>0.9</td>\n",
       "      <td>21.5</td>\n",
       "      <td>32.0</td>\n",
       "      <td>0.0</td>\n",
       "      <td>20.9</td>\n",
       "      <td>20.8</td>\n",
       "      <td>20.9</td>\n",
       "      <td>0.4</td>\n",
       "      <td>36.62</td>\n",
       "      <td>NaN</td>\n",
       "    </tr>\n",
       "    <tr>\n",
       "      <th>4</th>\n",
       "      <td>5</td>\n",
       "      <td>1/31/19 20:20</td>\n",
       "      <td>Winter Season</td>\n",
       "      <td>HebeiHandan</td>\n",
       "      <td>Cold zone</td>\n",
       "      <td>Residential</td>\n",
       "      <td>Radiator heating</td>\n",
       "      <td>Male</td>\n",
       "      <td>18-30</td>\n",
       "      <td>174.0</td>\n",
       "      <td>...</td>\n",
       "      <td>0.9</td>\n",
       "      <td>20.9</td>\n",
       "      <td>33.0</td>\n",
       "      <td>0.0</td>\n",
       "      <td>19.8</td>\n",
       "      <td>20.0</td>\n",
       "      <td>19.8</td>\n",
       "      <td>0.4</td>\n",
       "      <td>36.62</td>\n",
       "      <td>NaN</td>\n",
       "    </tr>\n",
       "  </tbody>\n",
       "</table>\n",
       "<p>5 rows × 25 columns</p>\n",
       "</div>"
      ],
      "text/plain": [
       "   suject_id      timestamp         season         city    climate  \\\n",
       "0          1  1/30/19 10:35  Winter Season  HebeiHandan  Cold zone   \n",
       "1          2  1/30/19 10:42  Winter Season  HebeiHandan  Cold zone   \n",
       "2          3  1/30/19 10:45  Winter Season  HebeiHandan  Cold zone   \n",
       "3          4  1/30/19 10:47  Winter Season  HebeiHandan  Cold zone   \n",
       "4          5  1/31/19 20:20  Winter Season  HebeiHandan  Cold zone   \n",
       "\n",
       "  building_type      cooling_type  gender    age     ht  ...  met    ta    rh  \\\n",
       "0   Residential  Radiator heating  Female  18-30  170.0  ...  1.0  21.5  32.0   \n",
       "1   Residential  Radiator heating  Female  41-50  168.0  ...  0.9  21.5  32.0   \n",
       "2   Residential  Radiator heating    Male  41-50  170.0  ...  0.9  21.5  32.0   \n",
       "3   Residential  Radiator heating    Male  18-30  178.0  ...  0.9  21.5  32.0   \n",
       "4   Residential  Radiator heating    Male  18-30  174.0  ...  0.9  20.9  33.0   \n",
       "\n",
       "   vel    tg   top    tr  t_out  latitude   set  \n",
       "0  0.0  20.9  20.8  20.9    0.4     36.62  24.0  \n",
       "1  0.0  20.9  20.8  20.9    0.4     36.62   NaN  \n",
       "2  0.0  20.9  20.8  20.9    0.4     36.62   NaN  \n",
       "3  0.0  20.9  20.8  20.9    0.4     36.62   NaN  \n",
       "4  0.0  19.8  20.0  19.8    0.4     36.62   NaN  \n",
       "\n",
       "[5 rows x 25 columns]"
      ]
     },
     "execution_count": 63,
     "metadata": {},
     "output_type": "execute_result"
    }
   ],
   "source": [
    "df = pd.read_csv('CN_DB.csv')\n",
    "df.head()"
   ]
  },
  {
   "cell_type": "code",
   "execution_count": 71,
   "metadata": {},
   "outputs": [
    {
     "name": "stdout",
     "output_type": "stream",
     "text": [
      "15992 3529\n"
     ]
    }
   ],
   "source": [
    "# total rows of df, and rows with valid values in SET\n",
    "print(len(df), df['set'].isnull().sum())"
   ]
  },
  {
   "cell_type": "code",
   "execution_count": 49,
   "metadata": {},
   "outputs": [],
   "source": [
    "# only keep rows with valid SET values\n",
    "df = df.dropna(subset=['set'])"
   ]
  },
  {
   "cell_type": "code",
   "execution_count": 50,
   "metadata": {},
   "outputs": [
    {
     "data": {
      "text/plain": [
       "array(['Radiator heating', 'Convection heating', 'Radiant floor heating',\n",
       "       'Naturally Ventilated', 'Ceiling capillary heating',\n",
       "       'Air conditioning heating', 'Others', 'self-heating',\n",
       "       'Furnace heating', 'Floor radiation + fan coil',\n",
       "       'Small electric heater heating'], dtype=object)"
      ]
     },
     "execution_count": 50,
     "metadata": {},
     "output_type": "execute_result"
    }
   ],
   "source": [
    "# check cooling_type unique values\n",
    "df['cooling_type'].unique()"
   ]
  },
  {
   "cell_type": "code",
   "execution_count": 51,
   "metadata": {},
   "outputs": [
    {
     "name": "stdout",
     "output_type": "stream",
     "text": [
      "HenanNanyang\n",
      "Air conditioning heating    95\n",
      "Naturally Ventilated        51\n",
      "Name: cooling_type, dtype: int64\n",
      "***************************************\n",
      "\n",
      "Shanghai\n",
      "Radiant floor heating            659\n",
      "Convection heating               636\n",
      "Naturally Ventilated             239\n",
      "Air conditioning heating         169\n",
      "Small electric heater heating      8\n",
      "Others                             3\n",
      "Name: cooling_type, dtype: int64\n",
      "***************************************\n",
      "\n",
      "HubeiWuhan\n",
      "Naturally Ventilated    125\n",
      "Name: cooling_type, dtype: int64\n",
      "***************************************\n",
      "\n",
      "Lhasa\n",
      "Naturally Ventilated    157\n",
      "self-heating             74\n",
      "Convection heating        3\n",
      "Radiator heating          1\n",
      "Name: cooling_type, dtype: int64\n",
      "***************************************\n",
      "\n",
      "HunanChangsha\n",
      "Naturally Ventilated    577\n",
      "Convection heating      444\n",
      "Name: cooling_type, dtype: int64\n",
      "***************************************\n",
      "\n",
      "YunnanKunming\n",
      "Naturally Ventilated    368\n",
      "Name: cooling_type, dtype: int64\n",
      "***************************************\n",
      "\n"
     ]
    }
   ],
   "source": [
    "for i in ['HenanNanyang', 'Shanghai', 'HubeiWuhan', 'Lhasa', 'HunanChangsha', 'YunnanKunming']:\n",
    "    print(i)\n",
    "    print(df[df['city'] == i]['cooling_type'].value_counts())\n",
    "    print(\"***************************************\\n\")"
   ]
  },
  {
   "cell_type": "code",
   "execution_count": 53,
   "metadata": {},
   "outputs": [],
   "source": [
    "# group by city, using mean values\n",
    "df_city = df.groupby('city').agg(\n",
    "    records=('city', 'size'),\n",
    "    thermal_sensation=('thermal_sensation', 'mean'),\n",
    "    thermal_comfort=('thermal_comfort', 'mean'),\n",
    "    thermal_acceptability=('thermal_acceptability', 'mean'),\n",
    "    ta=('ta', 'mean'),\n",
    "    top=('top', 'mean'),\n",
    "    clo=('clo', 'mean'),\n",
    "    set=('set', 'mean'),\n",
    "    latitude=('latitude', 'mean'),\n",
    "    t_out=('t_out', 'mean')\n",
    ").reset_index()\n",
    "\n",
    "# calcualte the percentage of Radiator heating for each city and assign the value to df_city\n",
    "df_city['p_heating'] = df_city['city'].apply(lambda x: df[df['city'] == x]['cooling_type'].value_counts().get('Radiator heating', 0) / df[df['city'] == x]['cooling_type'].count())"
   ]
  },
  {
   "cell_type": "code",
   "execution_count": 55,
   "metadata": {},
   "outputs": [
    {
     "data": {
      "image/png": "[encoded data removed]",
      "text/plain": [
       "<Figure size 1440x432 with 1 Axes>"
      ]
     },
     "metadata": {
      "needs_background": "light"
     },
     "output_type": "display_data"
    }
   ],
   "source": [
    "# box plot the indoor temperature distribution by city, show latitude as x-axis\n",
    "plt.figure(figsize=(20, 6))\n",
    "plt.boxplot([df[df['city'] == city]['ta'] for city in df_city['city']], labels=df_city['city'])\n",
    "plt.title('Indoor Temperature Distribution by City')\n",
    "plt.xlabel('Latitude')\n",
    "plt.ylabel('Temperature (°C)')\n",
    "plt.xticks(rotation=90)  # Rotate x-axis labels by 45 degrees\n",
    "plt.show()"
   ]
  },
  {
   "cell_type": "code",
   "execution_count": null,
   "metadata": {},
   "outputs": [],
   "source": []
  }
 ],
 "metadata": {
  "kernelspec": {
   "display_name": "base",
   "language": "python",
   "name": "python3"
  },
  "language_info": {
   "codemirror_mode": {
    "name": "ipython",
    "version": 3
   },
   "file_extension": ".py",
   "mimetype": "text/x-python",
   "name": "python",
   "nbconvert_exporter": "python",
   "pygments_lexer": "ipython3",
   "version": "3.9.7"
  }
 },
 "nbformat": 4,
 "nbformat_minor": 2
}
