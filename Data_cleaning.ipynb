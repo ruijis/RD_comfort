{
 "cells": [
  {
   "cell_type": "code",
   "execution_count": 2,
   "metadata": {},
   "outputs": [],
   "source": [
    "import pandas as pd\n",
    "import numpy as np"
   ]
  },
  {
   "cell_type": "markdown",
   "metadata": {},
   "source": [
    "# Data Cleaning"
   ]
  },
  {
   "cell_type": "markdown",
   "metadata": {},
   "source": [
    "## Only Select Winter Season Data"
   ]
  },
  {
   "cell_type": "code",
   "execution_count": 3,
   "metadata": {},
   "outputs": [
    {
     "name": "stdout",
     "output_type": "stream",
     "text": [
      "calss 1 records: 7246\n",
      "calss 2 records: 26184\n",
      "calss 3 records: 8547\n",
      "total records: 41977\n",
      "total heating records: 15992\n"
     ]
    }
   ],
   "source": [
    "df_rawdata1 = pd.read_csv('Chinese Thermal Comfort Dataset Class I.csv', encoding='GBK')\n",
    "print(\"calss 1 records:\", len(df_rawdata1))\n",
    "df_rawdata2 = pd.read_csv('Chinese Thermal Comfort Dataset Class II.csv', encoding='GBK')\n",
    "print(\"calss 2 records:\", len(df_rawdata2))\n",
    "df_rawdata3 = pd.read_csv('Chinese Thermal Comfort Dataset Class III.csv', encoding='GBK')\n",
    "print(\"calss 3 records:\", len(df_rawdata3))\n",
    "# concatenate the three datasets\n",
    "df_rawdata = pd.concat([df_rawdata1, df_rawdata2, df_rawdata3], ignore_index=True)\n",
    "print(\"total records:\", len(df_rawdata))\n",
    "# only select A4.Season = heating season\n",
    "df_heating = df_rawdata[df_rawdata['A4.Season'] == 'Winter Season']\n",
    "print(\"total heating records:\", len(df_heating))"
   ]
  },
  {
   "cell_type": "code",
   "execution_count": 48,
   "metadata": {},
   "outputs": [
    {
     "name": "stdout",
     "output_type": "stream",
     "text": [
      "total Baotou records: 888\n",
      "Xi’an University of Architecture and Technology    888\n",
      "Name: A3.Data Contributor, dtype: int64\n",
      "Winter Season    888\n",
      "Name: A4.Season, dtype: int64\n",
      "Radiator heating        887\n",
      "Naturally Ventilated      1\n",
      "Name: B4.Building Operation Mode, dtype: int64\n"
     ]
    }
   ],
   "source": [
    "# check the A3.Data Contributor for rows that have A5.City == Baotou\n",
    "df_baotou = df_heating[df_heating['A5.City'] == 'Henan Province,Jiaozuo City']\n",
    "print(\"total Baotou records:\", len(df_baotou))\n",
    "print(df_baotou['A3.Data Contributor'].value_counts())\n",
    "print(df_baotou['A4.Season'].value_counts())\n",
    "print(df_baotou['B4.Building Operation Mode'].value_counts())\n"
   ]
  },
  {
   "cell_type": "code",
   "execution_count": 49,
   "metadata": {},
   "outputs": [
    {
     "data": {
      "text/html": [
       "<div>\n",
       "<style scoped>\n",
       "    .dataframe tbody tr th:only-of-type {\n",
       "        vertical-align: middle;\n",
       "    }\n",
       "\n",
       "    .dataframe tbody tr th {\n",
       "        vertical-align: top;\n",
       "    }\n",
       "\n",
       "    .dataframe thead th {\n",
       "        text-align: right;\n",
       "    }\n",
       "</style>\n",
       "<table border=\"1\" class=\"dataframe\">\n",
       "  <thead>\n",
       "    <tr style=\"text-align: right;\">\n",
       "      <th></th>\n",
       "      <th>ID</th>\n",
       "      <th>A1.Code</th>\n",
       "      <th>A2.Date</th>\n",
       "      <th>A3.Data Contributor</th>\n",
       "      <th>A4.Season</th>\n",
       "      <th>A5.City</th>\n",
       "      <th>A6.Climate Zone</th>\n",
       "      <th>B1.Building Type</th>\n",
       "      <th>B2.Building Function</th>\n",
       "      <th>B3.Floors</th>\n",
       "      <th>...</th>\n",
       "      <th>F3.Radiant Temperature Asymmetry (℃)</th>\n",
       "      <th>F4.PMV</th>\n",
       "      <th>F5.PPD</th>\n",
       "      <th>G1.Real-Time Outdoor Temperature (℃)</th>\n",
       "      <th>G2.Mean Daily Outdoor Temperature (℃)</th>\n",
       "      <th>G3.Monthly Mean Outdoor Temperature (℃)</th>\n",
       "      <th>G4.7-Day Running Mean Outdoor Temperature (℃)</th>\n",
       "      <th>G4.15-Day Running Mean Outdoor Temperature (℃)</th>\n",
       "      <th>G5.Mean Daily Outdoor Relative Humidity (%)</th>\n",
       "      <th>G6.Mean Daily Outdoor Air Velocity (m/s)</th>\n",
       "    </tr>\n",
       "  </thead>\n",
       "  <tbody>\n",
       "    <tr>\n",
       "      <th>0</th>\n",
       "      <td>1</td>\n",
       "      <td>DLUT1st0172</td>\n",
       "      <td>1/30/19 10:35</td>\n",
       "      <td>Dalian University of Technology</td>\n",
       "      <td>Winter Season</td>\n",
       "      <td>Hebei Province,Handan City</td>\n",
       "      <td>Cold zone</td>\n",
       "      <td>Residential</td>\n",
       "      <td>Bedroom</td>\n",
       "      <td>1.0</td>\n",
       "      <td>...</td>\n",
       "      <td>0.74</td>\n",
       "      <td>-0.58</td>\n",
       "      <td>12.01</td>\n",
       "      <td>NaN</td>\n",
       "      <td>-2.9</td>\n",
       "      <td>0.4</td>\n",
       "      <td>1.2</td>\n",
       "      <td>1.0</td>\n",
       "      <td>NaN</td>\n",
       "      <td>NaN</td>\n",
       "    </tr>\n",
       "    <tr>\n",
       "      <th>1</th>\n",
       "      <td>2</td>\n",
       "      <td>DLUT1st0173</td>\n",
       "      <td>1/30/19 10:42</td>\n",
       "      <td>Dalian University of Technology</td>\n",
       "      <td>Winter Season</td>\n",
       "      <td>Hebei Province,Handan City</td>\n",
       "      <td>Cold zone</td>\n",
       "      <td>Residential</td>\n",
       "      <td>Bedroom</td>\n",
       "      <td>1.0</td>\n",
       "      <td>...</td>\n",
       "      <td>0.74</td>\n",
       "      <td>-0.10</td>\n",
       "      <td>5.19</td>\n",
       "      <td>NaN</td>\n",
       "      <td>-2.9</td>\n",
       "      <td>0.4</td>\n",
       "      <td>1.2</td>\n",
       "      <td>1.0</td>\n",
       "      <td>NaN</td>\n",
       "      <td>NaN</td>\n",
       "    </tr>\n",
       "    <tr>\n",
       "      <th>2</th>\n",
       "      <td>3</td>\n",
       "      <td>DLUT1st0174</td>\n",
       "      <td>1/30/19 10:45</td>\n",
       "      <td>Dalian University of Technology</td>\n",
       "      <td>Winter Season</td>\n",
       "      <td>Hebei Province,Handan City</td>\n",
       "      <td>Cold zone</td>\n",
       "      <td>Residential</td>\n",
       "      <td>Bedroom</td>\n",
       "      <td>1.0</td>\n",
       "      <td>...</td>\n",
       "      <td>0.74</td>\n",
       "      <td>-0.66</td>\n",
       "      <td>14.14</td>\n",
       "      <td>NaN</td>\n",
       "      <td>-2.9</td>\n",
       "      <td>0.4</td>\n",
       "      <td>1.2</td>\n",
       "      <td>1.0</td>\n",
       "      <td>NaN</td>\n",
       "      <td>NaN</td>\n",
       "    </tr>\n",
       "    <tr>\n",
       "      <th>3</th>\n",
       "      <td>4</td>\n",
       "      <td>DLUT1st0175</td>\n",
       "      <td>1/30/19 10:47</td>\n",
       "      <td>Dalian University of Technology</td>\n",
       "      <td>Winter Season</td>\n",
       "      <td>Hebei Province,Handan City</td>\n",
       "      <td>Cold zone</td>\n",
       "      <td>Residential</td>\n",
       "      <td>Bedroom</td>\n",
       "      <td>1.0</td>\n",
       "      <td>...</td>\n",
       "      <td>0.74</td>\n",
       "      <td>-0.36</td>\n",
       "      <td>7.78</td>\n",
       "      <td>NaN</td>\n",
       "      <td>-2.9</td>\n",
       "      <td>0.4</td>\n",
       "      <td>1.2</td>\n",
       "      <td>1.0</td>\n",
       "      <td>NaN</td>\n",
       "      <td>NaN</td>\n",
       "    </tr>\n",
       "    <tr>\n",
       "      <th>4</th>\n",
       "      <td>5</td>\n",
       "      <td>DLUT1st0176</td>\n",
       "      <td>1/31/19 20:20</td>\n",
       "      <td>Dalian University of Technology</td>\n",
       "      <td>Winter Season</td>\n",
       "      <td>Hebei Province,Handan City</td>\n",
       "      <td>Cold zone</td>\n",
       "      <td>Residential</td>\n",
       "      <td>Bedroom</td>\n",
       "      <td>1.0</td>\n",
       "      <td>...</td>\n",
       "      <td>1.12</td>\n",
       "      <td>-0.82</td>\n",
       "      <td>19.45</td>\n",
       "      <td>NaN</td>\n",
       "      <td>0.6</td>\n",
       "      <td>0.4</td>\n",
       "      <td>0.5</td>\n",
       "      <td>0.2</td>\n",
       "      <td>NaN</td>\n",
       "      <td>NaN</td>\n",
       "    </tr>\n",
       "  </tbody>\n",
       "</table>\n",
       "<p>5 rows × 43 columns</p>\n",
       "</div>"
      ],
      "text/plain": [
       "   ID      A1.Code        A2.Date              A3.Data Contributor  \\\n",
       "0   1  DLUT1st0172  1/30/19 10:35  Dalian University of Technology   \n",
       "1   2  DLUT1st0173  1/30/19 10:42  Dalian University of Technology   \n",
       "2   3  DLUT1st0174  1/30/19 10:45  Dalian University of Technology   \n",
       "3   4  DLUT1st0175  1/30/19 10:47  Dalian University of Technology   \n",
       "4   5  DLUT1st0176  1/31/19 20:20  Dalian University of Technology   \n",
       "\n",
       "       A4.Season                     A5.City A6.Climate Zone B1.Building Type  \\\n",
       "0  Winter Season  Hebei Province,Handan City       Cold zone      Residential   \n",
       "1  Winter Season  Hebei Province,Handan City       Cold zone      Residential   \n",
       "2  Winter Season  Hebei Province,Handan City       Cold zone      Residential   \n",
       "3  Winter Season  Hebei Province,Handan City       Cold zone      Residential   \n",
       "4  Winter Season  Hebei Province,Handan City       Cold zone      Residential   \n",
       "\n",
       "  B2.Building Function  B3.Floors  ... F3.Radiant Temperature Asymmetry (℃)  \\\n",
       "0              Bedroom        1.0  ...                                 0.74   \n",
       "1              Bedroom        1.0  ...                                 0.74   \n",
       "2              Bedroom        1.0  ...                                 0.74   \n",
       "3              Bedroom        1.0  ...                                 0.74   \n",
       "4              Bedroom        1.0  ...                                 1.12   \n",
       "\n",
       "  F4.PMV F5.PPD G1.Real-Time Outdoor Temperature (℃)  \\\n",
       "0  -0.58  12.01                                  NaN   \n",
       "1  -0.10   5.19                                  NaN   \n",
       "2  -0.66  14.14                                  NaN   \n",
       "3  -0.36   7.78                                  NaN   \n",
       "4  -0.82  19.45                                  NaN   \n",
       "\n",
       "  G2.Mean Daily Outdoor Temperature (℃)  \\\n",
       "0                                  -2.9   \n",
       "1                                  -2.9   \n",
       "2                                  -2.9   \n",
       "3                                  -2.9   \n",
       "4                                   0.6   \n",
       "\n",
       "   G3.Monthly Mean Outdoor Temperature (℃)  \\\n",
       "0                                      0.4   \n",
       "1                                      0.4   \n",
       "2                                      0.4   \n",
       "3                                      0.4   \n",
       "4                                      0.4   \n",
       "\n",
       "   G4.7-Day Running Mean Outdoor Temperature (℃)  \\\n",
       "0                                            1.2   \n",
       "1                                            1.2   \n",
       "2                                            1.2   \n",
       "3                                            1.2   \n",
       "4                                            0.5   \n",
       "\n",
       "   G4.15-Day Running Mean Outdoor Temperature (℃)  \\\n",
       "0                                             1.0   \n",
       "1                                             1.0   \n",
       "2                                             1.0   \n",
       "3                                             1.0   \n",
       "4                                             0.2   \n",
       "\n",
       "   G5.Mean Daily Outdoor Relative Humidity (%)  \\\n",
       "0                                          NaN   \n",
       "1                                          NaN   \n",
       "2                                          NaN   \n",
       "3                                          NaN   \n",
       "4                                          NaN   \n",
       "\n",
       "   G6.Mean Daily Outdoor Air Velocity (m/s)  \n",
       "0                                       NaN  \n",
       "1                                       NaN  \n",
       "2                                       NaN  \n",
       "3                                       NaN  \n",
       "4                                       NaN  \n",
       "\n",
       "[5 rows x 43 columns]"
      ]
     },
     "execution_count": 49,
     "metadata": {},
     "output_type": "execute_result"
    }
   ],
   "source": [
    "df_heating.head()"
   ]
  },
  {
   "cell_type": "code",
   "execution_count": 50,
   "metadata": {},
   "outputs": [
    {
     "data": {
      "text/plain": [
       "Index(['ID', 'A1.Code', 'A2.Date', 'A3.Data Contributor', 'A4.Season',\n",
       "       'A5.City', 'A6.Climate Zone', 'B1.Building Type',\n",
       "       'B2.Building Function', 'B3.Floors', 'B4.Building Operation Mode',\n",
       "       'B5.Room (Length×Width)', 'B5.Room Height (m)', 'C1.Sex', 'C2.Age',\n",
       "       'C3.Height（cm）', 'C4.Weight（kg）', 'C5.Living Years', 'D1.TSV', 'D2.TCV',\n",
       "       'D3.TAV', 'D5.Clothing Insulation (clo)', 'D6.Metabolic Rate (met)',\n",
       "       'Measured Height (m)', 'E1.Indoor Air Temperature (℃)',\n",
       "       'E2.Indoor Relative Humidity (%)', 'E3.Indoor Air Velocity (m/s)',\n",
       "       'E4.Globe Temperature (℃)', 'E5.Roof Temperature (℃)',\n",
       "       'E5.Wall Temperature (℃)', 'E5.Floor Temperature (℃)',\n",
       "       'F1.Operative Temperature (℃)', 'F2.Mean Radiant Temperature (℃)',\n",
       "       'F3.Radiant Temperature Asymmetry (℃)', 'F4.PMV', 'F5.PPD',\n",
       "       'G1.Real-Time Outdoor Temperature (℃)',\n",
       "       'G2.Mean Daily Outdoor Temperature (℃)',\n",
       "       'G3.Monthly Mean Outdoor Temperature (℃)',\n",
       "       'G4.7-Day Running Mean Outdoor Temperature (℃)',\n",
       "       'G4.15-Day Running Mean Outdoor Temperature (℃)',\n",
       "       'G5.Mean Daily Outdoor Relative Humidity (%)',\n",
       "       'G6.Mean Daily Outdoor Air Velocity (m/s)'],\n",
       "      dtype='object')"
      ]
     },
     "execution_count": 50,
     "metadata": {},
     "output_type": "execute_result"
    }
   ],
   "source": [
    "df_rawdata.columns"
   ]
  },
  {
   "cell_type": "markdown",
   "metadata": {},
   "source": [
    "## Clearning City Names"
   ]
  },
  {
   "cell_type": "code",
   "execution_count": 51,
   "metadata": {},
   "outputs": [
    {
     "data": {
      "text/plain": [
       "array(['Hebei Province,Handan City', 'Henan Province,Zhengzhou City',\n",
       "       'Henan Province,Luoyang City', 'Tianjin City',\n",
       "       'Liaoning Province,Dalian City',\n",
       "       'Heilongjiang Province, Harbin City', 'Beijing',\n",
       "       'Jiangsu Province,Changzhou City', 'Shanghai City',\n",
       "       \"Shaanxi Province,Xi'an City\", 'Guangdong Province,Guangzhou City',\n",
       "       'Beijing City', 'Baotou City', 'Turpan',\n",
       "       'Hubei Province, Wuhan City', \"Shaanxi Province, Xi'an City\",\n",
       "       'Hunan Province, Changsha City', 'Yunnan Province,Kunming City',\n",
       "       'Lhasa City', 'Henan Province,Jiaozuo City',\n",
       "       'Sichuan Province, Zigong City', 'Liaoning Province, Benxi City',\n",
       "       'Henan Province, Nanyang City', 'Liaoning Province, Dalian City',\n",
       "       'Hainan Province, Sanya City', 'Hunan Province, Hengyang City',\n",
       "       'Shanxi Province, Lvliangfenyang City',\n",
       "       'Henan Province, Pingdingshan City',\n",
       "       'Yunnan Province, Kunming City', 'Shandong Province, Qingdao City',\n",
       "       'Fujian Province, Zhenjiang City',\n",
       "       'Shandong Province, Yantai City', 'Hohhot City',\n",
       "       'Fujian Province, Fuzhou City', 'Shandong Province, Xintai City',\n",
       "       'Henan Province, Kaifeng City', 'Fujian Province, Nanping City',\n",
       "       'Henan Province, Luoyang City'], dtype=object)"
      ]
     },
     "execution_count": 51,
     "metadata": {},
     "output_type": "execute_result"
    }
   ],
   "source": [
    "df_heating['A5.City'].unique()"
   ]
  },
  {
   "cell_type": "markdown",
   "metadata": {},
   "source": [
    "### Organizing city names in the same format (without comma and space)"
   ]
  },
  {
   "cell_type": "code",
   "execution_count": 52,
   "metadata": {},
   "outputs": [],
   "source": [
    "df_heating = df_heating.copy()\n",
    "# remove comma and replace space by _ in the A5.City strings\n",
    "df_heating['A5.City'] = df_heating['A5.City'].str.replace(' ', '')\n",
    "df_heating['A5.City'] = df_heating['A5.City'].str.replace(',', '')\n",
    "# replace BeijingCity by Beijing\n",
    "df_heating['A5.City'] = df_heating['A5.City'].str.replace('BeijingCity', 'Beijing')"
   ]
  },
  {
   "cell_type": "code",
   "execution_count": 53,
   "metadata": {},
   "outputs": [
    {
     "data": {
      "text/plain": [
       "array(['HebeiProvinceHandanCity', 'HenanProvinceZhengzhouCity',\n",
       "       'HenanProvinceLuoyangCity', 'TianjinCity',\n",
       "       'LiaoningProvinceDalianCity', 'HeilongjiangProvinceHarbinCity',\n",
       "       'Beijing', 'JiangsuProvinceChangzhouCity', 'ShanghaiCity',\n",
       "       \"ShaanxiProvinceXi'anCity\", 'GuangdongProvinceGuangzhouCity',\n",
       "       'BaotouCity', 'Turpan', 'HubeiProvinceWuhanCity',\n",
       "       'HunanProvinceChangshaCity', 'YunnanProvinceKunmingCity',\n",
       "       'LhasaCity', 'HenanProvinceJiaozuoCity',\n",
       "       'SichuanProvinceZigongCity', 'LiaoningProvinceBenxiCity',\n",
       "       'HenanProvinceNanyangCity', 'HainanProvinceSanyaCity',\n",
       "       'HunanProvinceHengyangCity', 'ShanxiProvinceLvliangfenyangCity',\n",
       "       'HenanProvincePingdingshanCity', 'ShandongProvinceQingdaoCity',\n",
       "       'FujianProvinceZhenjiangCity', 'ShandongProvinceYantaiCity',\n",
       "       'HohhotCity', 'FujianProvinceFuzhouCity',\n",
       "       'ShandongProvinceXintaiCity', 'HenanProvinceKaifengCity',\n",
       "       'FujianProvinceNanpingCity'], dtype=object)"
      ]
     },
     "execution_count": 53,
     "metadata": {},
     "output_type": "execute_result"
    }
   ],
   "source": [
    "df_heating['A5.City'].unique()"
   ]
  },
  {
   "cell_type": "markdown",
   "metadata": {},
   "source": [
    "### Add latitude and outdoor temperature (January) data for each city"
   ]
  },
  {
   "cell_type": "code",
   "execution_count": 54,
   "metadata": {},
   "outputs": [],
   "source": [
    "city_dict_lat = {\n",
    "     \n",
    "    \"HeilongjiangProvinceHarbinCity\": 45.75,\n",
    "    \"Turpan\": 42.94,\n",
    "    \"LiaoningProvinceBenxiCity\": 41.29,\n",
    "    \"HohhotCity\": 40.82,\n",
    "    \"BaotouCity\": 40.65,\n",
    "    \"Beijing\": 39.90,\n",
    "    \"TianjinCity\": 39.12,  \n",
    "    \"LiaoningProvinceDalianCity\": 38.92,\n",
    "    \"ShandongProvinceYantaiCity\": 37.53,\n",
    "    \"ShanxiProvinceLvliangfenyangCity\": 37.51, \n",
    "    \"HebeiProvinceHandanCity\": 36.62,\n",
    "    \"ShandongProvinceQingdaoCity\": 36.07,\n",
    "    \"ShandongProvinceXintaiCity\": 35.90, \n",
    "    \"HenanProvinceJiaozuoCity\": 35.24,\n",
    "    \"HenanProvinceKaifengCity\": 34.79,\n",
    "    \"HenanProvinceZhengzhouCity\": 34.75,\n",
    "    \"HenanProvinceLuoyangCity\": 34.62,\n",
    "    \"ShaanxiProvinceXi'anCity\": 34.26,\n",
    "    \"HenanProvincePingdingshanCity\": 33.74,\n",
    "    \"HenanProvinceNanyangCity\": 32.99,\n",
    "    \"FujianProvinceZhenjiangCity\": 26.10,\n",
    "    \"JiangsuProvinceChangzhouCity\": 31.78,  \n",
    "    \"ShanghaiCity\": 31.23,\n",
    "    \"HubeiProvinceWuhanCity\": 30.58,  \n",
    "    \"LhasaCity\": 29.65,  \n",
    "    \"SichuanProvinceZigongCity\": 29.34,\n",
    "    \"HunanProvinceChangshaCity\": 28.23,\n",
    "    \"HunanProvinceHengyangCity\": 26.89,\n",
    "    \"FujianProvinceNanpingCity\": 26.64,  \n",
    "    \"FujianProvinceFuzhouCity\": 26.08,\n",
    "    \"YunnanProvinceKunmingCity\": 24.87, \n",
    "    \"GuangdongProvinceGuangzhouCity\": 23.13,  \n",
    "    \"HainanProvinceSanyaCity\": 18.25,\n",
    "}\n",
    "# create a new column 'latitude' and in df_heating and assign the latitude value to corresponding city\n",
    "df_heating['latitude'] = df_heating['A5.City'].map(city_dict_lat)"
   ]
  },
  {
   "cell_type": "code",
   "execution_count": 55,
   "metadata": {},
   "outputs": [],
   "source": [
    "# mannual find the january (minimum?) monthly outdoor temperature for each city\n",
    "city_t_out_min = {\n",
    "    \"HebeiProvinceHandanCity\": -7.28,  \n",
    "    \"HenanProvinceZhengzhouCity\": -5.6,  \n",
    "    \"TianjinCity\": -10.97,  \n",
    "    \"LiaoningProvinceDalianCity\": -13.44,  \n",
    "    \"HeilongjiangProvinceHarbinCity\": -27.75,  \n",
    "    \"Beijing\": -10.05,  \n",
    "    \"JiangsuProvinceChangzhouCity\": -3,  # Estimated\n",
    "    \"ShanghaiCity\": -2.16,  \n",
    "    \"ShaanxiProvinceXi'anCity\": -6,  # Estimated\n",
    "    \"GuangdongProvinceGuangzhouCity\": 4.98,  \n",
    "    \"BaotouCity\": -18,  # Estimated\n",
    "    \"Turpan\": -16.5,  \n",
    "    \"HubeiProvinceWuhanCity\": -2.53,  \n",
    "    \"HunanProvinceChangshaCity\": -1.8,  \n",
    "    \"YunnanProvinceKunmingCity\": 0.95,\n",
    "    \"HenanProvinceLuoyangCity\": 0.00,  # Estimated \n",
    "    \"LhasaCity\": -7.02,  \n",
    "    \"HenanProvinceJiaozuoCity\": -5.05,  \n",
    "    \"SichuanProvinceZigongCity\": 2.19,  \n",
    "    \"LiaoningProvinceBenxiCity\": -21.73,  \n",
    "    \"HenanProvinceNanyangCity\": -4.81,  \n",
    "    \"HainanProvinceSanyaCity\": 13.22,  \n",
    "    \"HunanProvinceHengyangCity\": -1.31,  \n",
    "    \"ShanxiProvinceLvliangfenyangCity\": -12,  # Estimated\n",
    "    \"HenanProvincePingdingshanCity\": -13.79,  \n",
    "    \"ShandongProvinceQingdaoCity\": -7.78,  \n",
    "    \"ShandongProvinceYantaiCity\": -5,  # Estimated\n",
    "    \"ShandongProvinceXintaiCity\": -6,  # Estimated\n",
    "    \"FujianProvinceZhenjiangCity\": 3,  # Estimated, assuming a typo and meant for a Fujian city\n",
    "    \"FujianProvinceNanpingCity\": 2,  # Estimated\n",
    "    \"HohhotCity\": -21.05,  \n",
    "    \"FujianProvinceFuzhouCity\": 4.59,\n",
    "    \"HenanProvinceKaifengCity\": -6.2,\n",
    "}\n",
    "# create a new column 't_out_min' and in df_heating and assign the value to corresponding city\n",
    "df_heating['t_out_min'] = df_heating['A5.City'].map(city_t_out_min)"
   ]
  },
  {
   "cell_type": "code",
   "execution_count": 56,
   "metadata": {},
   "outputs": [
    {
     "data": {
      "text/plain": [
       "array(['HebeiHandan', 'HenanZhengzhou', 'HenanLuoyang', 'Tianjin',\n",
       "       'LiaoningDalian', 'HeilongjiangHarbin', 'Beijing',\n",
       "       'JiangsuChangzhou', 'Shanghai', \"ShaanxiXi'an\",\n",
       "       'GuangdongGuangzhou', 'Baotou', 'Turpan', 'HubeiWuhan',\n",
       "       'HunanChangsha', 'YunnanKunming', 'Lhasa', 'HenanJiaozuo',\n",
       "       'SichuanZigong', 'LiaoningBenxi', 'HenanNanyang', 'HainanSanya',\n",
       "       'HunanHengyang', 'ShanxiLvliangfenyang', 'HenanPingdingshan',\n",
       "       'ShandongQingdao', 'FujianZhenjiang', 'ShandongYantai', 'Hohhot',\n",
       "       'FujianFuzhou', 'ShandongXintai', 'HenanKaifeng', 'FujianNanping'],\n",
       "      dtype=object)"
      ]
     },
     "execution_count": 56,
     "metadata": {},
     "output_type": "execute_result"
    }
   ],
   "source": [
    "# remove \"City\" from the city names\n",
    "df_heating['A5.City'] = df_heating['A5.City'].str.replace('City', '')\n",
    "# remove \"Province\" from the city names\n",
    "df_heating['A5.City'] = df_heating['A5.City'].str.replace('Province', '')\n",
    "# check the unique city names\n",
    "df_heating['A5.City'].unique()"
   ]
  },
  {
   "cell_type": "markdown",
   "metadata": {},
   "source": [
    "## Use ASHRAE Thermal Comfort Database2 naming conventions\n",
    "https://github.com/ruijis/ashrae-db-II\n",
    "\n",
    "cooling_type -> heating_type\n"
   ]
  },
  {
   "cell_type": "code",
   "execution_count": 57,
   "metadata": {},
   "outputs": [
    {
     "data": {
      "text/plain": [
       "Index(['ID', 'A1.Code', 'A2.Date', 'A3.Data Contributor', 'A4.Season',\n",
       "       'A5.City', 'A6.Climate Zone', 'B1.Building Type',\n",
       "       'B2.Building Function', 'B3.Floors', 'B4.Building Operation Mode',\n",
       "       'B5.Room (Length×Width)', 'B5.Room Height (m)', 'C1.Sex', 'C2.Age',\n",
       "       'C3.Height（cm）', 'C4.Weight（kg）', 'C5.Living Years', 'D1.TSV', 'D2.TCV',\n",
       "       'D3.TAV', 'D5.Clothing Insulation (clo)', 'D6.Metabolic Rate (met)',\n",
       "       'Measured Height (m)', 'E1.Indoor Air Temperature (℃)',\n",
       "       'E2.Indoor Relative Humidity (%)', 'E3.Indoor Air Velocity (m/s)',\n",
       "       'E4.Globe Temperature (℃)', 'E5.Roof Temperature (℃)',\n",
       "       'E5.Wall Temperature (℃)', 'E5.Floor Temperature (℃)',\n",
       "       'F1.Operative Temperature (℃)', 'F2.Mean Radiant Temperature (℃)',\n",
       "       'F3.Radiant Temperature Asymmetry (℃)', 'F4.PMV', 'F5.PPD',\n",
       "       'G1.Real-Time Outdoor Temperature (℃)',\n",
       "       'G2.Mean Daily Outdoor Temperature (℃)',\n",
       "       'G3.Monthly Mean Outdoor Temperature (℃)',\n",
       "       'G4.7-Day Running Mean Outdoor Temperature (℃)',\n",
       "       'G4.15-Day Running Mean Outdoor Temperature (℃)',\n",
       "       'G5.Mean Daily Outdoor Relative Humidity (%)',\n",
       "       'G6.Mean Daily Outdoor Air Velocity (m/s)', 'latitude', 't_out_min'],\n",
       "      dtype='object')"
      ]
     },
     "execution_count": 57,
     "metadata": {},
     "output_type": "execute_result"
    }
   ],
   "source": [
    "df_heating.columns"
   ]
  },
  {
   "cell_type": "code",
   "execution_count": 58,
   "metadata": {},
   "outputs": [],
   "source": [
    "# rename general information\n",
    "df_heating = df_heating.rename(columns={'ID': 'suject_id'})\n",
    "df_heating = df_heating.rename(columns={'A2.Date': 'timestamp'})\n",
    "df_heating = df_heating.rename(columns={'A3.Data Contributor': 'contributor'})\n",
    "df_heating = df_heating.rename(columns={'A4.Season': 'season'})\n",
    "df_heating = df_heating.rename(columns={'A5.City': 'city'})\n",
    "df_heating = df_heating.rename(columns={'A6.Climate Zone': 'climate'})\n",
    "df_heating = df_heating.rename(columns={'B1.Building Type': 'building_type'})\n",
    "df_heating = df_heating.rename(columns={'B4.Building Operation Mode': 'heating_type'})\n",
    "# rename personal conditions\n",
    "df_heating = df_heating.rename(columns={'C1.Sex': 'gender'})\n",
    "df_heating = df_heating.rename(columns={'C2.Age': 'age'})\n",
    "df_heating = df_heating.rename(columns={'C3.Height（cm）': 'ht'})\n",
    "df_heating = df_heating.rename(columns={'C4.Weight（kg）': 'wt'})\n",
    "df_heating = df_heating.rename(columns={'D1.TSV': 'thermal_sensation'})\n",
    "df_heating = df_heating.rename(columns={'D2.TCV': 'thermal_comfort'})\n",
    "df_heating = df_heating.rename(columns={'D3.TAV': 'thermal_acceptability'})\n",
    "df_heating = df_heating.rename(columns={'D5.Clothing Insulation (clo)': 'clo'})\n",
    "df_heating = df_heating.rename(columns={'D6.Metabolic Rate (met)': 'met'})\n",
    "# rename  indoor environment parameters\n",
    "df_heating = df_heating.rename(columns={'E1.Indoor Air Temperature (℃)': 'ta'})\n",
    "df_heating = df_heating.rename(columns={'E2.Indoor Relative Humidity (%)': 'rh'})\n",
    "df_heating = df_heating.rename(columns={'E3.Indoor Air Velocity (m/s)': 'vel'})\n",
    "df_heating = df_heating.rename(columns={'E4.Globe Temperature (℃)': 'tg'})\n",
    "df_heating = df_heating.rename(columns={'F1.Operative Temperature (℃)': 'top'})\n",
    "df_heating = df_heating.rename(columns={'F2.Mean Radiant Temperature (℃)': 'tr'})\n",
    "# rename outdoor temperature parameters\n",
    "df_heating = df_heating.rename(columns={'G1.Real-Time Outdoor Temperature (℃)': 't_out_realtime'})\n",
    "df_heating = df_heating.rename(columns={'G2.Mean Daily Outdoor Temperature (℃)': 't_out_daily'})\n",
    "df_heating = df_heating.rename(columns={'G3.Monthly Mean Outdoor Temperature (℃)': 't_out_monthly'})\n",
    "df_heating = df_heating.rename(columns={'G4.7-Day Running Mean Outdoor Temperature (℃)': 't_out_7'})\n",
    "df_heating = df_heating.rename(columns={'G4.15-Day Running Mean Outdoor Temperature (℃)': 't_out_15'})\n",
    "\n",
    "# rename\n",
    "df_heating = df_heating.rename(columns={'G5.Mean Daily Outdoor Relative Humidity (%)': 'rh_out'})\n",
    "\n",
    "\n"
   ]
  },
  {
   "cell_type": "markdown",
   "metadata": {},
   "source": [
    "## Check the Datatypes"
   ]
  },
  {
   "cell_type": "code",
   "execution_count": 59,
   "metadata": {},
   "outputs": [
    {
     "name": "stdout",
     "output_type": "stream",
     "text": [
      "(15992, 25)\n"
     ]
    },
    {
     "data": {
      "text/plain": [
       "suject_id                  int64\n",
       "timestamp                 object\n",
       "season                    object\n",
       "city                      object\n",
       "climate                   object\n",
       "building_type             object\n",
       "heating_type              object\n",
       "gender                    object\n",
       "age                       object\n",
       "ht                       float64\n",
       "wt                       float64\n",
       "thermal_sensation        float64\n",
       "thermal_comfort          float64\n",
       "thermal_acceptability    float64\n",
       "clo                      float64\n",
       "met                      float64\n",
       "ta                       float64\n",
       "rh                         int64\n",
       "vel                      float64\n",
       "tg                       float64\n",
       "top                      float64\n",
       "tr                       float64\n",
       "t_out_min                float64\n",
       "t_out_monthly            float64\n",
       "latitude                 float64\n",
       "dtype: object"
      ]
     },
     "execution_count": 59,
     "metadata": {},
     "output_type": "execute_result"
    }
   ],
   "source": [
    "# select a sbuset of columns\n",
    "df_heating_1 = df_heating[['suject_id', \n",
    "                            'timestamp', \n",
    "                            'season', \n",
    "                            'city', \n",
    "                            'climate', \n",
    "                            'building_type', \n",
    "                            'heating_type', \n",
    "                            'gender', \n",
    "                            'age', \n",
    "                            'ht', \n",
    "                            'wt', \n",
    "                            'thermal_sensation', \n",
    "                            'thermal_comfort', \n",
    "                            'thermal_acceptability', \n",
    "                            'clo', \n",
    "                            'met', \n",
    "                            'ta', \n",
    "                            'rh', \n",
    "                            'vel', \n",
    "                            'tg', \n",
    "                            'top', \n",
    "                            'tr', \n",
    "                            't_out_min', \n",
    "                            't_out_monthly', \n",
    "                            'latitude']]\n",
    "print(df_heating_1.shape)\n",
    "df_heating_1.dtypes"
   ]
  },
  {
   "cell_type": "code",
   "execution_count": 60,
   "metadata": {},
   "outputs": [
    {
     "name": "stderr",
     "output_type": "stream",
     "text": [
      "/var/folders/v0/03v41tbn7072cjr0b3ddfgjw0000gn/T/ipykernel_67386/2292325144.py:1: SettingWithCopyWarning: \n",
      "A value is trying to be set on a copy of a slice from a DataFrame.\n",
      "Try using .loc[row_indexer,col_indexer] = value instead\n",
      "\n",
      "See the caveats in the documentation: https://pandas.pydata.org/pandas-docs/stable/user_guide/indexing.html#returning-a-view-versus-a-copy\n",
      "  df_heating_1['rh'] = df_heating['rh'].astype(float)\n"
     ]
    }
   ],
   "source": [
    "df_heating_1['rh'] = df_heating['rh'].astype(float)"
   ]
  },
  {
   "cell_type": "code",
   "execution_count": 61,
   "metadata": {},
   "outputs": [
    {
     "name": "stdout",
     "output_type": "stream",
     "text": [
      "['18-30' '41-50' '51-60' '31-40' '＞60' nan '17' '20' '18' '19' '21' '22'\n",
      " '23' '24' '16' '≥61' '17-Sep' '31' '28' '36' '27' '34' '32' '51' '26'\n",
      " '30' '29' '25' '33' '35' '38' '42' '40' '39' '44' '43' '48' '41' '49'\n",
      " '57' '37' '50' '52' '55' '82' '56' '65' '63' '60' '61' '68' '72' '71'\n",
      " '67' '14' '66' '45' '70' '62' '58' '78' '80' '64' '79' '69' '46' '54'\n",
      " '59' '53' '30-40' ' ' '83' '77' '74' '76' '9' '47' '13' '10' '75' '15'\n",
      " '7' '73' '12' '92' '11' '4' '8' '85']\n"
     ]
    },
    {
     "data": {
      "text/plain": [
       "<AxesSubplot:>"
      ]
     },
     "execution_count": 61,
     "metadata": {},
     "output_type": "execute_result"
    },
    {
     "name": "stderr",
     "output_type": "stream",
     "text": [
      "/Users/ruijisun/opt/anaconda3/lib/python3.9/site-packages/matplotlib/backends/backend_agg.py:240: RuntimeWarning: Glyph 65310 missing from current font.\n",
      "  font.set_text(s, 0.0, flags=flags)\n",
      "/Users/ruijisun/opt/anaconda3/lib/python3.9/site-packages/matplotlib/backends/backend_agg.py:203: RuntimeWarning: Glyph 65310 missing from current font.\n",
      "  font.set_text(s, 0, flags=flags)\n"
     ]
    },
    {
     "data": {
      "image/png": "[encoded data removed]",
      "text/plain": [
       "<Figure size 1440x432 with 1 Axes>"
      ]
     },
     "metadata": {
      "needs_background": "light"
     },
     "output_type": "display_data"
    }
   ],
   "source": [
    "# print unique values of age\n",
    "print(df_heating_1['age'].unique())\n",
    "# increase the graph size\n",
    "df_heating_1['age'].value_counts().plot(kind='bar', figsize=(20, 6))"
   ]
  },
  {
   "cell_type": "code",
   "execution_count": 62,
   "metadata": {},
   "outputs": [
    {
     "name": "stdout",
     "output_type": "stream",
     "text": [
      "['18-30', '40-50', '50-60', '30-40', '60+', NaN, '0-18']\n",
      "Categories (6, object): ['0-18' < '18-30' < '30-40' < '40-50' < '50-60' < '60+']\n"
     ]
    },
    {
     "data": {
      "text/plain": [
       "<AxesSubplot:>"
      ]
     },
     "execution_count": 62,
     "metadata": {},
     "output_type": "execute_result"
    },
    {
     "data": {
      "image/png": "[encoded data removed]",
      "text/plain": [
       "<Figure size 1440x432 with 1 Axes>"
      ]
     },
     "metadata": {
      "needs_background": "light"
     },
     "output_type": "display_data"
    }
   ],
   "source": [
    "df_heating_2 = df_heating_1.copy()\n",
    "\n",
    "# Define the age bins and labels\n",
    "bins = [0, 18, 30, 40, 50, 60, 100]  # Adjust the upper limit as needed\n",
    "labels = ['0-18', '18-30', '30-40', '40-50', '50-60', '60+']\n",
    "\n",
    "# Function to handle age ranges and single ages\n",
    "def convert_age(age):\n",
    "    if pd.isna(age) or age.strip() == '':\n",
    "        return np.nan\n",
    "    if '-' in age:\n",
    "        return int(age.split('-')[0])+5\n",
    "    if '＞' in age or '≥' in age:\n",
    "        return 65\n",
    "    else:\n",
    "        return int(age)\n",
    "    \n",
    "# Apply the conversion function\n",
    "df_heating_2['age'] = df_heating_1['age'].apply(convert_age)\n",
    "\n",
    "# Convert age values to categorical data\n",
    "df_heating_2['age_group'] = pd.cut(df_heating_2['age'], bins=bins, labels=labels, right=False)\n",
    "\n",
    "# Print unique values of age_group\n",
    "print(df_heating_2['age_group'].unique())\n",
    "\n",
    "# Plot the age_group distribution\n",
    "df_heating_2['age_group'].value_counts().plot(kind='bar', figsize=(20, 6))"
   ]
  },
  {
   "cell_type": "code",
   "execution_count": 63,
   "metadata": {},
   "outputs": [
    {
     "data": {
      "text/plain": [
       "suject_id                   int64\n",
       "timestamp                  object\n",
       "season                     object\n",
       "city                       object\n",
       "climate                    object\n",
       "building_type              object\n",
       "heating_type               object\n",
       "gender                     object\n",
       "age                       float64\n",
       "ht                        float64\n",
       "wt                        float64\n",
       "thermal_sensation         float64\n",
       "thermal_comfort           float64\n",
       "thermal_acceptability     float64\n",
       "clo                       float64\n",
       "met                       float64\n",
       "ta                        float64\n",
       "rh                        float64\n",
       "vel                       float64\n",
       "tg                        float64\n",
       "top                       float64\n",
       "tr                        float64\n",
       "t_out_min                 float64\n",
       "t_out_monthly             float64\n",
       "latitude                  float64\n",
       "age_group                category\n",
       "dtype: object"
      ]
     },
     "execution_count": 63,
     "metadata": {},
     "output_type": "execute_result"
    }
   ],
   "source": [
    "df_heating_2.dtypes"
   ]
  },
  {
   "cell_type": "code",
   "execution_count": 64,
   "metadata": {},
   "outputs": [
    {
     "name": "stdout",
     "output_type": "stream",
     "text": [
      "['Radiator heating' 'Convection heating' 'Radiant floor heating'\n",
      " 'Naturally Ventilated' 'Ceiling capillary heating'\n",
      " 'Air conditioning heating' 'Others' 'self-heating' 'Furnace heating'\n",
      " 'Floor radiation + fan coil' 'Small electric heater heating']\n"
     ]
    },
    {
     "data": {
      "text/plain": [
       "<AxesSubplot:>"
      ]
     },
     "execution_count": 64,
     "metadata": {},
     "output_type": "execute_result"
    },
    {
     "data": {
      "image/png": "[encoded data removed]",
      "text/plain": [
       "<Figure size 1440x432 with 1 Axes>"
      ]
     },
     "metadata": {
      "needs_background": "light"
     },
     "output_type": "display_data"
    }
   ],
   "source": [
    "# unique values of heating_type\n",
    "print(df_heating_2['heating_type'].unique())\n",
    "# check the heating_type distribution\n",
    "df_heating_2['heating_type'].value_counts().plot(kind='bar', figsize=(20, 6))"
   ]
  },
  {
   "cell_type": "code",
   "execution_count": 65,
   "metadata": {},
   "outputs": [
    {
     "name": "stdout",
     "output_type": "stream",
     "text": [
      "['Office']\n"
     ]
    }
   ],
   "source": [
    "# check Xi'an building type unique values\n",
    "print(df_heating_2[df_heating_2['city'] == \"ShaanxiXi'an\"]['building_type'].unique())"
   ]
  },
  {
   "cell_type": "markdown",
   "metadata": {},
   "source": [
    "## Calcualte SET\n"
   ]
  },
  {
   "cell_type": "code",
   "execution_count": 66,
   "metadata": {},
   "outputs": [
    {
     "data": {
      "text/html": [
       "<div>\n",
       "<style scoped>\n",
       "    .dataframe tbody tr th:only-of-type {\n",
       "        vertical-align: middle;\n",
       "    }\n",
       "\n",
       "    .dataframe tbody tr th {\n",
       "        vertical-align: top;\n",
       "    }\n",
       "\n",
       "    .dataframe thead th {\n",
       "        text-align: right;\n",
       "    }\n",
       "</style>\n",
       "<table border=\"1\" class=\"dataframe\">\n",
       "  <thead>\n",
       "    <tr style=\"text-align: right;\">\n",
       "      <th></th>\n",
       "      <th>suject_id</th>\n",
       "      <th>timestamp</th>\n",
       "      <th>season</th>\n",
       "      <th>city</th>\n",
       "      <th>climate</th>\n",
       "      <th>building_type</th>\n",
       "      <th>heating_type</th>\n",
       "      <th>gender</th>\n",
       "      <th>age</th>\n",
       "      <th>ht</th>\n",
       "      <th>...</th>\n",
       "      <th>ta</th>\n",
       "      <th>rh</th>\n",
       "      <th>vel</th>\n",
       "      <th>tg</th>\n",
       "      <th>top</th>\n",
       "      <th>tr</th>\n",
       "      <th>t_out_min</th>\n",
       "      <th>t_out_monthly</th>\n",
       "      <th>latitude</th>\n",
       "      <th>age_group</th>\n",
       "    </tr>\n",
       "  </thead>\n",
       "  <tbody>\n",
       "    <tr>\n",
       "      <th>0</th>\n",
       "      <td>1</td>\n",
       "      <td>1/30/19 10:35</td>\n",
       "      <td>Winter Season</td>\n",
       "      <td>HebeiHandan</td>\n",
       "      <td>Cold zone</td>\n",
       "      <td>Residential</td>\n",
       "      <td>Radiator heating</td>\n",
       "      <td>Female</td>\n",
       "      <td>23.0</td>\n",
       "      <td>170.0</td>\n",
       "      <td>...</td>\n",
       "      <td>21.5</td>\n",
       "      <td>32.0</td>\n",
       "      <td>0.0</td>\n",
       "      <td>20.9</td>\n",
       "      <td>20.8</td>\n",
       "      <td>20.9</td>\n",
       "      <td>-7.28</td>\n",
       "      <td>0.4</td>\n",
       "      <td>36.62</td>\n",
       "      <td>18-30</td>\n",
       "    </tr>\n",
       "    <tr>\n",
       "      <th>1</th>\n",
       "      <td>2</td>\n",
       "      <td>1/30/19 10:42</td>\n",
       "      <td>Winter Season</td>\n",
       "      <td>HebeiHandan</td>\n",
       "      <td>Cold zone</td>\n",
       "      <td>Residential</td>\n",
       "      <td>Radiator heating</td>\n",
       "      <td>Female</td>\n",
       "      <td>46.0</td>\n",
       "      <td>168.0</td>\n",
       "      <td>...</td>\n",
       "      <td>21.5</td>\n",
       "      <td>32.0</td>\n",
       "      <td>0.0</td>\n",
       "      <td>20.9</td>\n",
       "      <td>20.8</td>\n",
       "      <td>20.9</td>\n",
       "      <td>-7.28</td>\n",
       "      <td>0.4</td>\n",
       "      <td>36.62</td>\n",
       "      <td>40-50</td>\n",
       "    </tr>\n",
       "    <tr>\n",
       "      <th>2</th>\n",
       "      <td>3</td>\n",
       "      <td>1/30/19 10:45</td>\n",
       "      <td>Winter Season</td>\n",
       "      <td>HebeiHandan</td>\n",
       "      <td>Cold zone</td>\n",
       "      <td>Residential</td>\n",
       "      <td>Radiator heating</td>\n",
       "      <td>Male</td>\n",
       "      <td>46.0</td>\n",
       "      <td>170.0</td>\n",
       "      <td>...</td>\n",
       "      <td>21.5</td>\n",
       "      <td>32.0</td>\n",
       "      <td>0.0</td>\n",
       "      <td>20.9</td>\n",
       "      <td>20.8</td>\n",
       "      <td>20.9</td>\n",
       "      <td>-7.28</td>\n",
       "      <td>0.4</td>\n",
       "      <td>36.62</td>\n",
       "      <td>40-50</td>\n",
       "    </tr>\n",
       "    <tr>\n",
       "      <th>3</th>\n",
       "      <td>4</td>\n",
       "      <td>1/30/19 10:47</td>\n",
       "      <td>Winter Season</td>\n",
       "      <td>HebeiHandan</td>\n",
       "      <td>Cold zone</td>\n",
       "      <td>Residential</td>\n",
       "      <td>Radiator heating</td>\n",
       "      <td>Male</td>\n",
       "      <td>23.0</td>\n",
       "      <td>178.0</td>\n",
       "      <td>...</td>\n",
       "      <td>21.5</td>\n",
       "      <td>32.0</td>\n",
       "      <td>0.0</td>\n",
       "      <td>20.9</td>\n",
       "      <td>20.8</td>\n",
       "      <td>20.9</td>\n",
       "      <td>-7.28</td>\n",
       "      <td>0.4</td>\n",
       "      <td>36.62</td>\n",
       "      <td>18-30</td>\n",
       "    </tr>\n",
       "    <tr>\n",
       "      <th>4</th>\n",
       "      <td>5</td>\n",
       "      <td>1/31/19 20:20</td>\n",
       "      <td>Winter Season</td>\n",
       "      <td>HebeiHandan</td>\n",
       "      <td>Cold zone</td>\n",
       "      <td>Residential</td>\n",
       "      <td>Radiator heating</td>\n",
       "      <td>Male</td>\n",
       "      <td>23.0</td>\n",
       "      <td>174.0</td>\n",
       "      <td>...</td>\n",
       "      <td>20.9</td>\n",
       "      <td>33.0</td>\n",
       "      <td>0.0</td>\n",
       "      <td>19.8</td>\n",
       "      <td>20.0</td>\n",
       "      <td>19.8</td>\n",
       "      <td>-7.28</td>\n",
       "      <td>0.4</td>\n",
       "      <td>36.62</td>\n",
       "      <td>18-30</td>\n",
       "    </tr>\n",
       "    <tr>\n",
       "      <th>...</th>\n",
       "      <td>...</td>\n",
       "      <td>...</td>\n",
       "      <td>...</td>\n",
       "      <td>...</td>\n",
       "      <td>...</td>\n",
       "      <td>...</td>\n",
       "      <td>...</td>\n",
       "      <td>...</td>\n",
       "      <td>...</td>\n",
       "      <td>...</td>\n",
       "      <td>...</td>\n",
       "      <td>...</td>\n",
       "      <td>...</td>\n",
       "      <td>...</td>\n",
       "      <td>...</td>\n",
       "      <td>...</td>\n",
       "      <td>...</td>\n",
       "      <td>...</td>\n",
       "      <td>...</td>\n",
       "      <td>...</td>\n",
       "      <td>...</td>\n",
       "    </tr>\n",
       "    <tr>\n",
       "      <th>41972</th>\n",
       "      <td>8543</td>\n",
       "      <td>4/21/21 11:08</td>\n",
       "      <td>Winter Season</td>\n",
       "      <td>Shanghai</td>\n",
       "      <td>Hot summer and cold winter zone</td>\n",
       "      <td>Office</td>\n",
       "      <td>Naturally Ventilated</td>\n",
       "      <td>NaN</td>\n",
       "      <td>NaN</td>\n",
       "      <td>NaN</td>\n",
       "      <td>...</td>\n",
       "      <td>25.3</td>\n",
       "      <td>52.0</td>\n",
       "      <td>0.0</td>\n",
       "      <td>25.3</td>\n",
       "      <td>25.3</td>\n",
       "      <td>25.3</td>\n",
       "      <td>-2.16</td>\n",
       "      <td>NaN</td>\n",
       "      <td>31.23</td>\n",
       "      <td>NaN</td>\n",
       "    </tr>\n",
       "    <tr>\n",
       "      <th>41973</th>\n",
       "      <td>8544</td>\n",
       "      <td>4/21/21 11:11</td>\n",
       "      <td>Winter Season</td>\n",
       "      <td>Shanghai</td>\n",
       "      <td>Hot summer and cold winter zone</td>\n",
       "      <td>Office</td>\n",
       "      <td>Convection heating</td>\n",
       "      <td>NaN</td>\n",
       "      <td>NaN</td>\n",
       "      <td>NaN</td>\n",
       "      <td>...</td>\n",
       "      <td>25.3</td>\n",
       "      <td>52.0</td>\n",
       "      <td>0.0</td>\n",
       "      <td>25.3</td>\n",
       "      <td>25.3</td>\n",
       "      <td>25.3</td>\n",
       "      <td>-2.16</td>\n",
       "      <td>NaN</td>\n",
       "      <td>31.23</td>\n",
       "      <td>NaN</td>\n",
       "    </tr>\n",
       "    <tr>\n",
       "      <th>41974</th>\n",
       "      <td>8545</td>\n",
       "      <td>4/21/21 16:31</td>\n",
       "      <td>Winter Season</td>\n",
       "      <td>Shanghai</td>\n",
       "      <td>Hot summer and cold winter zone</td>\n",
       "      <td>Office</td>\n",
       "      <td>Naturally Ventilated</td>\n",
       "      <td>NaN</td>\n",
       "      <td>NaN</td>\n",
       "      <td>NaN</td>\n",
       "      <td>...</td>\n",
       "      <td>25.8</td>\n",
       "      <td>52.0</td>\n",
       "      <td>0.0</td>\n",
       "      <td>25.8</td>\n",
       "      <td>25.8</td>\n",
       "      <td>25.8</td>\n",
       "      <td>-2.16</td>\n",
       "      <td>NaN</td>\n",
       "      <td>31.23</td>\n",
       "      <td>NaN</td>\n",
       "    </tr>\n",
       "    <tr>\n",
       "      <th>41975</th>\n",
       "      <td>8546</td>\n",
       "      <td>4/21/21 16:32</td>\n",
       "      <td>Winter Season</td>\n",
       "      <td>Shanghai</td>\n",
       "      <td>Hot summer and cold winter zone</td>\n",
       "      <td>Office</td>\n",
       "      <td>Naturally Ventilated</td>\n",
       "      <td>NaN</td>\n",
       "      <td>NaN</td>\n",
       "      <td>NaN</td>\n",
       "      <td>...</td>\n",
       "      <td>26.2</td>\n",
       "      <td>52.0</td>\n",
       "      <td>0.0</td>\n",
       "      <td>26.2</td>\n",
       "      <td>26.2</td>\n",
       "      <td>26.2</td>\n",
       "      <td>-2.16</td>\n",
       "      <td>NaN</td>\n",
       "      <td>31.23</td>\n",
       "      <td>NaN</td>\n",
       "    </tr>\n",
       "    <tr>\n",
       "      <th>41976</th>\n",
       "      <td>8547</td>\n",
       "      <td>4/22/21 11:14</td>\n",
       "      <td>Winter Season</td>\n",
       "      <td>Shanghai</td>\n",
       "      <td>Hot summer and cold winter zone</td>\n",
       "      <td>Office</td>\n",
       "      <td>Naturally Ventilated</td>\n",
       "      <td>NaN</td>\n",
       "      <td>NaN</td>\n",
       "      <td>NaN</td>\n",
       "      <td>...</td>\n",
       "      <td>26.9</td>\n",
       "      <td>57.0</td>\n",
       "      <td>0.0</td>\n",
       "      <td>26.9</td>\n",
       "      <td>26.9</td>\n",
       "      <td>26.9</td>\n",
       "      <td>-2.16</td>\n",
       "      <td>NaN</td>\n",
       "      <td>31.23</td>\n",
       "      <td>NaN</td>\n",
       "    </tr>\n",
       "  </tbody>\n",
       "</table>\n",
       "<p>15992 rows × 26 columns</p>\n",
       "</div>"
      ],
      "text/plain": [
       "       suject_id      timestamp         season         city  \\\n",
       "0              1  1/30/19 10:35  Winter Season  HebeiHandan   \n",
       "1              2  1/30/19 10:42  Winter Season  HebeiHandan   \n",
       "2              3  1/30/19 10:45  Winter Season  HebeiHandan   \n",
       "3              4  1/30/19 10:47  Winter Season  HebeiHandan   \n",
       "4              5  1/31/19 20:20  Winter Season  HebeiHandan   \n",
       "...          ...            ...            ...          ...   \n",
       "41972       8543  4/21/21 11:08  Winter Season     Shanghai   \n",
       "41973       8544  4/21/21 11:11  Winter Season     Shanghai   \n",
       "41974       8545  4/21/21 16:31  Winter Season     Shanghai   \n",
       "41975       8546  4/21/21 16:32  Winter Season     Shanghai   \n",
       "41976       8547  4/22/21 11:14  Winter Season     Shanghai   \n",
       "\n",
       "                               climate building_type          heating_type  \\\n",
       "0                            Cold zone   Residential      Radiator heating   \n",
       "1                            Cold zone   Residential      Radiator heating   \n",
       "2                            Cold zone   Residential      Radiator heating   \n",
       "3                            Cold zone   Residential      Radiator heating   \n",
       "4                            Cold zone   Residential      Radiator heating   \n",
       "...                                ...           ...                   ...   \n",
       "41972  Hot summer and cold winter zone        Office  Naturally Ventilated   \n",
       "41973  Hot summer and cold winter zone        Office    Convection heating   \n",
       "41974  Hot summer and cold winter zone        Office  Naturally Ventilated   \n",
       "41975  Hot summer and cold winter zone        Office  Naturally Ventilated   \n",
       "41976  Hot summer and cold winter zone        Office  Naturally Ventilated   \n",
       "\n",
       "       gender   age     ht  ...    ta    rh  vel    tg   top    tr  t_out_min  \\\n",
       "0      Female  23.0  170.0  ...  21.5  32.0  0.0  20.9  20.8  20.9      -7.28   \n",
       "1      Female  46.0  168.0  ...  21.5  32.0  0.0  20.9  20.8  20.9      -7.28   \n",
       "2        Male  46.0  170.0  ...  21.5  32.0  0.0  20.9  20.8  20.9      -7.28   \n",
       "3        Male  23.0  178.0  ...  21.5  32.0  0.0  20.9  20.8  20.9      -7.28   \n",
       "4        Male  23.0  174.0  ...  20.9  33.0  0.0  19.8  20.0  19.8      -7.28   \n",
       "...       ...   ...    ...  ...   ...   ...  ...   ...   ...   ...        ...   \n",
       "41972     NaN   NaN    NaN  ...  25.3  52.0  0.0  25.3  25.3  25.3      -2.16   \n",
       "41973     NaN   NaN    NaN  ...  25.3  52.0  0.0  25.3  25.3  25.3      -2.16   \n",
       "41974     NaN   NaN    NaN  ...  25.8  52.0  0.0  25.8  25.8  25.8      -2.16   \n",
       "41975     NaN   NaN    NaN  ...  26.2  52.0  0.0  26.2  26.2  26.2      -2.16   \n",
       "41976     NaN   NaN    NaN  ...  26.9  57.0  0.0  26.9  26.9  26.9      -2.16   \n",
       "\n",
       "       t_out_monthly  latitude  age_group  \n",
       "0                0.4     36.62      18-30  \n",
       "1                0.4     36.62      40-50  \n",
       "2                0.4     36.62      40-50  \n",
       "3                0.4     36.62      18-30  \n",
       "4                0.4     36.62      18-30  \n",
       "...              ...       ...        ...  \n",
       "41972            NaN     31.23        NaN  \n",
       "41973            NaN     31.23        NaN  \n",
       "41974            NaN     31.23        NaN  \n",
       "41975            NaN     31.23        NaN  \n",
       "41976            NaN     31.23        NaN  \n",
       "\n",
       "[15992 rows x 26 columns]"
      ]
     },
     "execution_count": 66,
     "metadata": {},
     "output_type": "execute_result"
    }
   ],
   "source": [
    "df_heating_2"
   ]
  },
  {
   "cell_type": "markdown",
   "metadata": {},
   "source": [
    "## Export CSV"
   ]
  },
  {
   "cell_type": "code",
   "execution_count": 67,
   "metadata": {},
   "outputs": [],
   "source": [
    "df_heating_2.to_csv('CN_DB.csv', index=False)"
   ]
  },
  {
   "cell_type": "code",
   "execution_count": null,
   "metadata": {},
   "outputs": [],
   "source": []
  },
  {
   "cell_type": "code",
   "execution_count": null,
   "metadata": {},
   "outputs": [],
   "source": []
  }
 ],
 "metadata": {
  "kernelspec": {
   "display_name": "base",
   "language": "python",
   "name": "python3"
  },
  "language_info": {
   "codemirror_mode": {
    "name": "ipython",
    "version": 3
   },
   "file_extension": ".py",
   "mimetype": "text/x-python",
   "name": "python",
   "nbconvert_exporter": "python",
   "pygments_lexer": "ipython3",
   "version": "3.9.7"
  }
 },
 "nbformat": 4,
 "nbformat_minor": 2
}
